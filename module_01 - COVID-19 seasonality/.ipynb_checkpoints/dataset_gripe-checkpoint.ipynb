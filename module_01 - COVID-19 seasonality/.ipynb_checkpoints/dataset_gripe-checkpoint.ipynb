{
 "cells": [
  {
   "cell_type": "markdown",
   "metadata": {},
   "source": [
    "# Diminuindo o tamanho da base de dados do InfoGripe"
   ]
  },
  {
   "cell_type": "code",
   "execution_count": 7,
   "metadata": {},
   "outputs": [],
   "source": [
    "import pandas as pd"
   ]
  },
  {
   "cell_type": "code",
   "execution_count": 8,
   "metadata": {},
   "outputs": [],
   "source": [
    "df = pd.read_csv('./gripe/Dados_InfoGripe_serie_temporal_com_estimativas_recentes_sem_filtro_febre.csv', sep=';', thousands='.', decimal=',')"
   ]
  },
  {
   "cell_type": "code",
   "execution_count": 9,
   "metadata": {
    "scrolled": true
   },
   "outputs": [
    {
     "data": {
      "text/plain": [
       "Index(['data de publicação', 'UF', 'Unidade da Federação', 'Tipo', 'dado',\n",
       "       'escala', 'Ano epidemiológico', 'Semana epidemiológica',\n",
       "       'Situação do dado',\n",
       "       'Casos semanais reportados até a última atualização',\n",
       "       'limite inferior da estimativa', 'casos estimados', 'média móvel',\n",
       "       'limite superior da estimativa', 'Percentual em relação ao país',\n",
       "       'População', 'limiar pré-epidêmico', 'intensidade alta',\n",
       "       'intensidade muito alta', 'nível semanal', 'nível por média móvel'],\n",
       "      dtype='object')"
      ]
     },
     "execution_count": 9,
     "metadata": {},
     "output_type": "execute_result"
    }
   ],
   "source": [
    "df.columns"
   ]
  },
  {
   "cell_type": "code",
   "execution_count": 5,
   "metadata": {},
   "outputs": [
    {
     "data": {
      "text/plain": [
       "array(['País', 'Região', 'Estado', 'Regional'], dtype=object)"
      ]
     },
     "execution_count": 5,
     "metadata": {},
     "output_type": "execute_result"
    }
   ],
   "source": [
    "df['Tipo'].unique()"
   ]
  },
  {
   "cell_type": "code",
   "execution_count": 6,
   "metadata": {},
   "outputs": [
    {
     "data": {
      "text/plain": [
       "array(['casos', 'incidência'], dtype=object)"
      ]
     },
     "execution_count": 6,
     "metadata": {},
     "output_type": "execute_result"
    }
   ],
   "source": [
    "df.escala.unique()"
   ]
  },
  {
   "cell_type": "markdown",
   "metadata": {},
   "source": [
    "Quero avaliar apenas os valores classificados como 'casos' e não incidência. <Br>\n",
    "Em seguida, filtrarei quanto a nível de estado e país."
   ]
  },
  {
   "cell_type": "code",
   "execution_count": 11,
   "metadata": {},
   "outputs": [],
   "source": [
    "df_estado = df.query('Tipo == \"Estado\"')\n",
    "df_estado = df_estado.query('escala == \"casos\"')"
   ]
  },
  {
   "cell_type": "code",
   "execution_count": 12,
   "metadata": {},
   "outputs": [],
   "source": [
    "df_estado.to_csv('./gripe/gripe_estado.csv', index=False)"
   ]
  },
  {
   "cell_type": "code",
   "execution_count": 95,
   "metadata": {},
   "outputs": [],
   "source": [
    "df_pais = df.query('Tipo == \"País\"')\n",
    "df_pais = df_pais.query('escala == \"casos\"')"
   ]
  },
  {
   "cell_type": "code",
   "execution_count": 97,
   "metadata": {},
   "outputs": [],
   "source": [
    "df_pais.to_csv('./gripe/gripe_pais_media.csv', index=False)"
   ]
  },
  {
   "cell_type": "markdown",
   "metadata": {},
   "source": [
    "Por fim, esses arquivos foram carregados no meu [GitHub](https://github.com/souzajvp/data_science_bootcamp/tree/main/modulo_01)"
   ]
  },
  {
   "cell_type": "code",
   "execution_count": null,
   "metadata": {},
   "outputs": [],
   "source": []
  }
 ],
 "metadata": {
  "kernelspec": {
   "display_name": "Python 3",
   "language": "python",
   "name": "python3"
  },
  "language_info": {
   "codemirror_mode": {
    "name": "ipython",
    "version": 3
   },
   "file_extension": ".py",
   "mimetype": "text/x-python",
   "name": "python",
   "nbconvert_exporter": "python",
   "pygments_lexer": "ipython3",
   "version": "3.8.5"
  }
 },
 "nbformat": 4,
 "nbformat_minor": 4
}
