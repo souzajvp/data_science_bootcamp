{
  "nbformat": 4,
  "nbformat_minor": 0,
  "metadata": {
    "colab": {
      "name": "João_Vítor_Souza.ipynb",
      "provenance": [],
      "collapsed_sections": [],
      "include_colab_link": true
    },
    "kernelspec": {
      "name": "python3",
      "display_name": "Python 3"
    }
  },
  "cells": [
    {
      "cell_type": "markdown",
      "metadata": {
        "id": "view-in-github",
        "colab_type": "text"
      },
      "source": [
        "<a href=\"https://colab.research.google.com/github/souzajvp/data_science_bootcamp/blob/main/Jo%C3%A3o_V%C3%ADtor_Souza.ipynb\" target=\"_parent\"><img src=\"https://colab.research.google.com/assets/colab-badge.svg\" alt=\"Open In Colab\"/></a>"
      ]
    },
    {
      "cell_type": "markdown",
      "metadata": {
        "id": "RshO3GgDFGhB"
      },
      "source": [
        "# Resumo:\n",
        "\n",
        "Meu objetivo é avaliar os casos de covid-19 e compará-los com outras doenças respiratórias importantes, como a Tuberculose e as Gripes (causads por diversos virus)"
      ]
    },
    {
      "cell_type": "markdown",
      "metadata": {
        "id": "YJaNprdeFN7n"
      },
      "source": [
        "# Análise dos dados:\n"
      ]
    },
    {
      "cell_type": "markdown",
      "metadata": {
        "id": "aUFcqs_sjgo9"
      },
      "source": [
        "Importando módulos"
      ]
    },
    {
      "cell_type": "code",
      "metadata": {
        "id": "xhDVSTDRf-Nz"
      },
      "source": [
        "import pandas as pd\n",
        "import matplotlib.pyplot as plt\n",
        "import seaborn as sns\n",
        "import warnings\n",
        "warnings.filterwarnings('ignore')\n",
        "import numpy as np\n",
        "%matplotlib inline\n"
      ],
      "execution_count": 201,
      "outputs": []
    },
    {
      "cell_type": "markdown",
      "metadata": {
        "id": "JbbKnOvslN5s"
      },
      "source": [
        "## Análise dos dados de Covid-19"
      ]
    },
    {
      "cell_type": "markdown",
      "metadata": {
        "id": "96_6pTDpjnmP"
      },
      "source": [
        "Decidi fazer o upload do arquivo 'casos.csv.gz' no meu [github](https://github.com/souzajvp/data_science_bootcamp) para facilitar a importação e automatizar o processo para futuros leitores."
      ]
    },
    {
      "cell_type": "code",
      "metadata": {
        "id": "A6KaH9k3ayOk"
      },
      "source": [
        "url = 'https://github.com/souzajvp/data_science_bootcamp/blob/main/modulo_01/caso.csv.gz?raw=true'\n",
        "dados = pd.read_csv(url, compression='gzip')"
      ],
      "execution_count": 202,
      "outputs": []
    },
    {
      "cell_type": "code",
      "metadata": {
        "id": "rkNkwtE9kC2R",
        "outputId": "694beaf0-d730-4fd7-90c2-c1813855b978",
        "colab": {
          "base_uri": "https://localhost:8080/",
          "height": 226
        }
      },
      "source": [
        "dados.head()"
      ],
      "execution_count": 203,
      "outputs": [
        {
          "output_type": "execute_result",
          "data": {
            "text/html": [
              "<div>\n",
              "<style scoped>\n",
              "    .dataframe tbody tr th:only-of-type {\n",
              "        vertical-align: middle;\n",
              "    }\n",
              "\n",
              "    .dataframe tbody tr th {\n",
              "        vertical-align: top;\n",
              "    }\n",
              "\n",
              "    .dataframe thead th {\n",
              "        text-align: right;\n",
              "    }\n",
              "</style>\n",
              "<table border=\"1\" class=\"dataframe\">\n",
              "  <thead>\n",
              "    <tr style=\"text-align: right;\">\n",
              "      <th></th>\n",
              "      <th>date</th>\n",
              "      <th>state</th>\n",
              "      <th>city</th>\n",
              "      <th>place_type</th>\n",
              "      <th>confirmed</th>\n",
              "      <th>deaths</th>\n",
              "      <th>order_for_place</th>\n",
              "      <th>is_last</th>\n",
              "      <th>estimated_population_2019</th>\n",
              "      <th>estimated_population</th>\n",
              "      <th>city_ibge_code</th>\n",
              "      <th>confirmed_per_100k_inhabitants</th>\n",
              "      <th>death_rate</th>\n",
              "    </tr>\n",
              "  </thead>\n",
              "  <tbody>\n",
              "    <tr>\n",
              "      <th>0</th>\n",
              "      <td>2020-11-03</td>\n",
              "      <td>AP</td>\n",
              "      <td>NaN</td>\n",
              "      <td>state</td>\n",
              "      <td>52832</td>\n",
              "      <td>751</td>\n",
              "      <td>228</td>\n",
              "      <td>True</td>\n",
              "      <td>845731.0</td>\n",
              "      <td>861773.0</td>\n",
              "      <td>16.0</td>\n",
              "      <td>6130.61676</td>\n",
              "      <td>0.0142</td>\n",
              "    </tr>\n",
              "    <tr>\n",
              "      <th>1</th>\n",
              "      <td>2020-11-02</td>\n",
              "      <td>AP</td>\n",
              "      <td>NaN</td>\n",
              "      <td>state</td>\n",
              "      <td>52653</td>\n",
              "      <td>749</td>\n",
              "      <td>227</td>\n",
              "      <td>False</td>\n",
              "      <td>845731.0</td>\n",
              "      <td>861773.0</td>\n",
              "      <td>16.0</td>\n",
              "      <td>6109.84563</td>\n",
              "      <td>0.0142</td>\n",
              "    </tr>\n",
              "    <tr>\n",
              "      <th>2</th>\n",
              "      <td>2020-11-01</td>\n",
              "      <td>AP</td>\n",
              "      <td>NaN</td>\n",
              "      <td>state</td>\n",
              "      <td>52500</td>\n",
              "      <td>748</td>\n",
              "      <td>226</td>\n",
              "      <td>False</td>\n",
              "      <td>845731.0</td>\n",
              "      <td>861773.0</td>\n",
              "      <td>16.0</td>\n",
              "      <td>6092.09154</td>\n",
              "      <td>0.0142</td>\n",
              "    </tr>\n",
              "    <tr>\n",
              "      <th>3</th>\n",
              "      <td>2020-10-31</td>\n",
              "      <td>AP</td>\n",
              "      <td>NaN</td>\n",
              "      <td>state</td>\n",
              "      <td>52175</td>\n",
              "      <td>748</td>\n",
              "      <td>225</td>\n",
              "      <td>False</td>\n",
              "      <td>845731.0</td>\n",
              "      <td>861773.0</td>\n",
              "      <td>16.0</td>\n",
              "      <td>6054.37859</td>\n",
              "      <td>0.0143</td>\n",
              "    </tr>\n",
              "    <tr>\n",
              "      <th>4</th>\n",
              "      <td>2020-10-30</td>\n",
              "      <td>AP</td>\n",
              "      <td>NaN</td>\n",
              "      <td>state</td>\n",
              "      <td>52030</td>\n",
              "      <td>747</td>\n",
              "      <td>224</td>\n",
              "      <td>False</td>\n",
              "      <td>845731.0</td>\n",
              "      <td>861773.0</td>\n",
              "      <td>16.0</td>\n",
              "      <td>6037.55281</td>\n",
              "      <td>0.0144</td>\n",
              "    </tr>\n",
              "  </tbody>\n",
              "</table>\n",
              "</div>"
            ],
            "text/plain": [
              "         date state  ... confirmed_per_100k_inhabitants death_rate\n",
              "0  2020-11-03    AP  ...                     6130.61676     0.0142\n",
              "1  2020-11-02    AP  ...                     6109.84563     0.0142\n",
              "2  2020-11-01    AP  ...                     6092.09154     0.0142\n",
              "3  2020-10-31    AP  ...                     6054.37859     0.0143\n",
              "4  2020-10-30    AP  ...                     6037.55281     0.0144\n",
              "\n",
              "[5 rows x 13 columns]"
            ]
          },
          "metadata": {
            "tags": []
          },
          "execution_count": 203
        }
      ]
    },
    {
      "cell_type": "markdown",
      "metadata": {
        "id": "OxJeM4cYlUlA"
      },
      "source": [
        "## Valores nulos"
      ]
    },
    {
      "cell_type": "code",
      "metadata": {
        "id": "48Ru-5U3moHM",
        "outputId": "6c3dfb3a-2a8b-4d80-c77a-f53607f520ac",
        "colab": {
          "base_uri": "https://localhost:8080/"
        }
      },
      "source": [
        "dados.isnull().sum(axis=0)"
      ],
      "execution_count": 204,
      "outputs": [
        {
          "output_type": "execute_result",
          "data": {
            "text/plain": [
              "date                                  0\n",
              "state                                 0\n",
              "city                               6383\n",
              "place_type                            0\n",
              "confirmed                             0\n",
              "deaths                                0\n",
              "order_for_place                       0\n",
              "is_last                               0\n",
              "estimated_population_2019          3672\n",
              "estimated_population               3672\n",
              "city_ibge_code                     3672\n",
              "confirmed_per_100k_inhabitants    16999\n",
              "death_rate                            0\n",
              "dtype: int64"
            ]
          },
          "metadata": {
            "tags": []
          },
          "execution_count": 204
        }
      ]
    },
    {
      "cell_type": "markdown",
      "metadata": {
        "id": "iGO200RpiwIe"
      },
      "source": [
        "Notamo que as colunas que tem valores `NaN` são:\n",
        " - city;\n",
        " - estimated_population_2019;\n",
        " - estimated_population;\n",
        " - city_ibge_code;\n",
        " - confirmed_per_100k_inhabitants."
      ]
    },
    {
      "cell_type": "markdown",
      "metadata": {
        "id": "LLBn2fpInx4K"
      },
      "source": [
        "Certo, mas e quanto aos tipos de dados em cada coluna?"
      ]
    },
    {
      "cell_type": "code",
      "metadata": {
        "id": "PzCHFs0Yna_3",
        "outputId": "8452b0a6-726a-4a22-fd03-56a386632670",
        "colab": {
          "base_uri": "https://localhost:8080/"
        }
      },
      "source": [
        "dados.dtypes"
      ],
      "execution_count": 205,
      "outputs": [
        {
          "output_type": "execute_result",
          "data": {
            "text/plain": [
              "date                               object\n",
              "state                              object\n",
              "city                               object\n",
              "place_type                         object\n",
              "confirmed                           int64\n",
              "deaths                              int64\n",
              "order_for_place                     int64\n",
              "is_last                              bool\n",
              "estimated_population_2019         float64\n",
              "estimated_population              float64\n",
              "city_ibge_code                    float64\n",
              "confirmed_per_100k_inhabitants    float64\n",
              "death_rate                        float64\n",
              "dtype: object"
            ]
          },
          "metadata": {
            "tags": []
          },
          "execution_count": 205
        }
      ]
    },
    {
      "cell_type": "markdown",
      "metadata": {
        "id": "90GGPbbfoUzV"
      },
      "source": [
        "Notamos como os números faltantes de `estimated_population_2019`, `estimated_population` e `city_ibge_code` são os mesmos"
      ]
    },
    {
      "cell_type": "code",
      "metadata": {
        "id": "oRwSym3mooio",
        "outputId": "8f0e1ec2-cabe-42c2-b0be-d07a9dd780c9",
        "colab": {
          "base_uri": "https://localhost:8080/"
        }
      },
      "source": [
        "dados.query('city_ibge_code == \"NaN\"').city.value_counts()"
      ],
      "execution_count": 206,
      "outputs": [
        {
          "output_type": "execute_result",
          "data": {
            "text/plain": [
              "Importados/Indefinidos    3672\n",
              "Name: city, dtype: int64"
            ]
          },
          "metadata": {
            "tags": []
          },
          "execution_count": 206
        }
      ]
    },
    {
      "cell_type": "markdown",
      "metadata": {
        "id": "ob-oH9pGpBTZ"
      },
      "source": [
        "Pelo visto, estes 3672 dados faltantes na verdade são de casos classificados como origem \"Importados/Indefinidos\". <br> Talvez eu possa preencher esses dados como 0 para discernir de outros dados faltantes."
      ]
    },
    {
      "cell_type": "markdown",
      "metadata": {
        "id": "nsDwHu-wpbcm"
      },
      "source": [
        "#### Mas e quanto aos dados faltantes na coluna `city`?"
      ]
    },
    {
      "cell_type": "code",
      "metadata": {
        "id": "goQoqHEiaEYo"
      },
      "source": [
        "city_null_pop = dados[dados['city'].isnull() == True]['estimated_population'].unique()"
      ],
      "execution_count": 207,
      "outputs": []
    },
    {
      "cell_type": "code",
      "metadata": {
        "id": "QSR0jrBonpWo",
        "outputId": "e819570c-c708-470a-d831-cfd78eccccfe",
        "colab": {
          "base_uri": "https://localhost:8080/"
        }
      },
      "source": [
        "print(len(city_null_pop))\n",
        "print(city_null_pop)"
      ],
      "execution_count": 208,
      "outputs": [
        {
          "output_type": "stream",
          "text": [
            "27\n",
            "[  861773.   894470.  4207714.  3055149.  3351543.  9187103.  4064052.\n",
            " 14930634.  2809394.  7114598.  7113540.  3526220.  8690745.  4039277.\n",
            "  9616621. 21292666.  3281480.  1796460. 17366189.  3534165. 11516840.\n",
            "   631181.  2318822.  7252502. 11422973.  1590248. 46289333.]\n"
          ],
          "name": "stdout"
        }
      ]
    },
    {
      "cell_type": "markdown",
      "metadata": {
        "id": "x88ej0cCoKgT"
      },
      "source": [
        "Aparentemente, as linhas que contém dados nulos para cidade são linhas contendo atualizações de cada estado\n"
      ]
    },
    {
      "cell_type": "markdown",
      "metadata": {
        "id": "Z5rrNSvikPLv"
      },
      "source": [
        "Vamos separar os dados de acordo com estado e verificar a diferença entre eles."
      ]
    },
    {
      "cell_type": "code",
      "metadata": {
        "id": "lhfUHWEugFEK"
      },
      "source": [
        "dados_SP = dados.query(\"state == 'SP' & place_type == 'state'\")\n",
        "dados_PR = dados.query(\"state == 'PR' & place_type == 'state'\")"
      ],
      "execution_count": 209,
      "outputs": []
    },
    {
      "cell_type": "code",
      "metadata": {
        "id": "aVKAs9E6hjyq",
        "outputId": "6047239d-60b1-42c4-8312-1957d8e2cbf1",
        "colab": {
          "base_uri": "https://localhost:8080/"
        }
      },
      "source": [
        "print(dados_PR.shape, dados_SP.shape)"
      ],
      "execution_count": 210,
      "outputs": [
        {
          "output_type": "stream",
          "text": [
            "(239, 13) (253, 13)\n"
          ],
          "name": "stdout"
        }
      ]
    },
    {
      "cell_type": "code",
      "metadata": {
        "id": "qwRQgi2Xkh-W",
        "outputId": "fdb77563-b622-49cd-9cd6-d8bb36f5162a",
        "colab": {
          "base_uri": "https://localhost:8080/"
        }
      },
      "source": [
        "print(len(dados_PR.city.unique()))\n",
        "print(len(dados_SP.city.unique()))"
      ],
      "execution_count": 211,
      "outputs": [
        {
          "output_type": "stream",
          "text": [
            "1\n",
            "1\n"
          ],
          "name": "stdout"
        }
      ]
    },
    {
      "cell_type": "markdown",
      "metadata": {
        "id": "e3n-o_77kTME"
      },
      "source": [
        "Notamos como há diferenças entre o `shape` dos dois datasets, possivelmente pelo número de cidades coletada em cada estado"
      ]
    },
    {
      "cell_type": "markdown",
      "metadata": {
        "id": "k_2W_WP8XK1A"
      },
      "source": [
        "## Avaliando o Paraná"
      ]
    },
    {
      "cell_type": "code",
      "metadata": {
        "id": "3YMf4asSXQGJ",
        "outputId": "47bd0df8-975c-42a3-ee4f-d5c435c3982d",
        "colab": {
          "base_uri": "https://localhost:8080/",
          "height": 226
        }
      },
      "source": [
        "dados_PR\n",
        "dados_PR_rv = dados_PR.iloc[::-1]\n",
        "dados_PR_rv.head()"
      ],
      "execution_count": 212,
      "outputs": [
        {
          "output_type": "execute_result",
          "data": {
            "text/html": [
              "<div>\n",
              "<style scoped>\n",
              "    .dataframe tbody tr th:only-of-type {\n",
              "        vertical-align: middle;\n",
              "    }\n",
              "\n",
              "    .dataframe tbody tr th {\n",
              "        vertical-align: top;\n",
              "    }\n",
              "\n",
              "    .dataframe thead th {\n",
              "        text-align: right;\n",
              "    }\n",
              "</style>\n",
              "<table border=\"1\" class=\"dataframe\">\n",
              "  <thead>\n",
              "    <tr style=\"text-align: right;\">\n",
              "      <th></th>\n",
              "      <th>date</th>\n",
              "      <th>state</th>\n",
              "      <th>city</th>\n",
              "      <th>place_type</th>\n",
              "      <th>confirmed</th>\n",
              "      <th>deaths</th>\n",
              "      <th>order_for_place</th>\n",
              "      <th>is_last</th>\n",
              "      <th>estimated_population_2019</th>\n",
              "      <th>estimated_population</th>\n",
              "      <th>city_ibge_code</th>\n",
              "      <th>confirmed_per_100k_inhabitants</th>\n",
              "      <th>death_rate</th>\n",
              "    </tr>\n",
              "  </thead>\n",
              "  <tbody>\n",
              "    <tr>\n",
              "      <th>592965</th>\n",
              "      <td>2020-03-12</td>\n",
              "      <td>PR</td>\n",
              "      <td>NaN</td>\n",
              "      <td>state</td>\n",
              "      <td>6</td>\n",
              "      <td>0</td>\n",
              "      <td>1</td>\n",
              "      <td>False</td>\n",
              "      <td>11433957.0</td>\n",
              "      <td>11516840.0</td>\n",
              "      <td>41.0</td>\n",
              "      <td>0.05210</td>\n",
              "      <td>0.0</td>\n",
              "    </tr>\n",
              "    <tr>\n",
              "      <th>592964</th>\n",
              "      <td>2020-03-13</td>\n",
              "      <td>PR</td>\n",
              "      <td>NaN</td>\n",
              "      <td>state</td>\n",
              "      <td>6</td>\n",
              "      <td>0</td>\n",
              "      <td>2</td>\n",
              "      <td>False</td>\n",
              "      <td>11433957.0</td>\n",
              "      <td>11516840.0</td>\n",
              "      <td>41.0</td>\n",
              "      <td>0.05210</td>\n",
              "      <td>0.0</td>\n",
              "    </tr>\n",
              "    <tr>\n",
              "      <th>592963</th>\n",
              "      <td>2020-03-16</td>\n",
              "      <td>PR</td>\n",
              "      <td>NaN</td>\n",
              "      <td>state</td>\n",
              "      <td>6</td>\n",
              "      <td>0</td>\n",
              "      <td>3</td>\n",
              "      <td>False</td>\n",
              "      <td>11433957.0</td>\n",
              "      <td>11516840.0</td>\n",
              "      <td>41.0</td>\n",
              "      <td>0.05210</td>\n",
              "      <td>0.0</td>\n",
              "    </tr>\n",
              "    <tr>\n",
              "      <th>592962</th>\n",
              "      <td>2020-03-17</td>\n",
              "      <td>PR</td>\n",
              "      <td>NaN</td>\n",
              "      <td>state</td>\n",
              "      <td>12</td>\n",
              "      <td>0</td>\n",
              "      <td>4</td>\n",
              "      <td>False</td>\n",
              "      <td>11433957.0</td>\n",
              "      <td>11516840.0</td>\n",
              "      <td>41.0</td>\n",
              "      <td>0.10420</td>\n",
              "      <td>0.0</td>\n",
              "    </tr>\n",
              "    <tr>\n",
              "      <th>592961</th>\n",
              "      <td>2020-03-18</td>\n",
              "      <td>PR</td>\n",
              "      <td>NaN</td>\n",
              "      <td>state</td>\n",
              "      <td>14</td>\n",
              "      <td>0</td>\n",
              "      <td>5</td>\n",
              "      <td>False</td>\n",
              "      <td>11433957.0</td>\n",
              "      <td>11516840.0</td>\n",
              "      <td>41.0</td>\n",
              "      <td>0.12156</td>\n",
              "      <td>0.0</td>\n",
              "    </tr>\n",
              "  </tbody>\n",
              "</table>\n",
              "</div>"
            ],
            "text/plain": [
              "              date state  ... confirmed_per_100k_inhabitants death_rate\n",
              "592965  2020-03-12    PR  ...                        0.05210        0.0\n",
              "592964  2020-03-13    PR  ...                        0.05210        0.0\n",
              "592963  2020-03-16    PR  ...                        0.05210        0.0\n",
              "592962  2020-03-17    PR  ...                        0.10420        0.0\n",
              "592961  2020-03-18    PR  ...                        0.12156        0.0\n",
              "\n",
              "[5 rows x 13 columns]"
            ]
          },
          "metadata": {
            "tags": []
          },
          "execution_count": 212
        }
      ]
    },
    {
      "cell_type": "code",
      "metadata": {
        "id": "bsnIDZfgXim-",
        "outputId": "a4bf6404-06a2-4635-996b-208fb0d3e597",
        "colab": {
          "base_uri": "https://localhost:8080/"
        }
      },
      "source": [
        "dados_PR_rv.isnull().sum()"
      ],
      "execution_count": 213,
      "outputs": [
        {
          "output_type": "execute_result",
          "data": {
            "text/plain": [
              "date                                0\n",
              "state                               0\n",
              "city                              239\n",
              "place_type                          0\n",
              "confirmed                           0\n",
              "deaths                              0\n",
              "order_for_place                     0\n",
              "is_last                             0\n",
              "estimated_population_2019           0\n",
              "estimated_population                0\n",
              "city_ibge_code                      0\n",
              "confirmed_per_100k_inhabitants      0\n",
              "death_rate                          0\n",
              "dtype: int64"
            ]
          },
          "metadata": {
            "tags": []
          },
          "execution_count": 213
        }
      ]
    },
    {
      "cell_type": "code",
      "metadata": {
        "id": "vB0pQvl7hEMq"
      },
      "source": [
        "dados_PR_rv = dados_PR_rv.set_index('date')"
      ],
      "execution_count": 214,
      "outputs": []
    },
    {
      "cell_type": "markdown",
      "metadata": {
        "id": "rzoe4Br3XrLL"
      },
      "source": [
        "#### Criando novas colunas:\n",
        "1. Novos casos - utilizando a função `diff()`\n",
        "2. Média móvel dos últimos 7 dias - utilizando a função `.rolling(window=7).mean()`\n"
      ]
    },
    {
      "cell_type": "code",
      "metadata": {
        "id": "7gziMQrLXuFy"
      },
      "source": [
        "dados_PR_rv['new_cases'] = dados_PR_rv['confirmed'].diff()"
      ],
      "execution_count": 215,
      "outputs": []
    },
    {
      "cell_type": "code",
      "metadata": {
        "id": "yDsFp9MRj_r7",
        "outputId": "0aded9cb-3bde-4c70-a2e0-a998200e1aa3",
        "colab": {
          "base_uri": "https://localhost:8080/",
          "height": 475
        }
      },
      "source": [
        "dados_PR_rv"
      ],
      "execution_count": 216,
      "outputs": [
        {
          "output_type": "execute_result",
          "data": {
            "text/html": [
              "<div>\n",
              "<style scoped>\n",
              "    .dataframe tbody tr th:only-of-type {\n",
              "        vertical-align: middle;\n",
              "    }\n",
              "\n",
              "    .dataframe tbody tr th {\n",
              "        vertical-align: top;\n",
              "    }\n",
              "\n",
              "    .dataframe thead th {\n",
              "        text-align: right;\n",
              "    }\n",
              "</style>\n",
              "<table border=\"1\" class=\"dataframe\">\n",
              "  <thead>\n",
              "    <tr style=\"text-align: right;\">\n",
              "      <th></th>\n",
              "      <th>state</th>\n",
              "      <th>city</th>\n",
              "      <th>place_type</th>\n",
              "      <th>confirmed</th>\n",
              "      <th>deaths</th>\n",
              "      <th>order_for_place</th>\n",
              "      <th>is_last</th>\n",
              "      <th>estimated_population_2019</th>\n",
              "      <th>estimated_population</th>\n",
              "      <th>city_ibge_code</th>\n",
              "      <th>confirmed_per_100k_inhabitants</th>\n",
              "      <th>death_rate</th>\n",
              "      <th>new_cases</th>\n",
              "    </tr>\n",
              "    <tr>\n",
              "      <th>date</th>\n",
              "      <th></th>\n",
              "      <th></th>\n",
              "      <th></th>\n",
              "      <th></th>\n",
              "      <th></th>\n",
              "      <th></th>\n",
              "      <th></th>\n",
              "      <th></th>\n",
              "      <th></th>\n",
              "      <th></th>\n",
              "      <th></th>\n",
              "      <th></th>\n",
              "      <th></th>\n",
              "    </tr>\n",
              "  </thead>\n",
              "  <tbody>\n",
              "    <tr>\n",
              "      <th>2020-03-12</th>\n",
              "      <td>PR</td>\n",
              "      <td>NaN</td>\n",
              "      <td>state</td>\n",
              "      <td>6</td>\n",
              "      <td>0</td>\n",
              "      <td>1</td>\n",
              "      <td>False</td>\n",
              "      <td>11433957.0</td>\n",
              "      <td>11516840.0</td>\n",
              "      <td>41.0</td>\n",
              "      <td>0.05210</td>\n",
              "      <td>0.0000</td>\n",
              "      <td>NaN</td>\n",
              "    </tr>\n",
              "    <tr>\n",
              "      <th>2020-03-13</th>\n",
              "      <td>PR</td>\n",
              "      <td>NaN</td>\n",
              "      <td>state</td>\n",
              "      <td>6</td>\n",
              "      <td>0</td>\n",
              "      <td>2</td>\n",
              "      <td>False</td>\n",
              "      <td>11433957.0</td>\n",
              "      <td>11516840.0</td>\n",
              "      <td>41.0</td>\n",
              "      <td>0.05210</td>\n",
              "      <td>0.0000</td>\n",
              "      <td>0.0</td>\n",
              "    </tr>\n",
              "    <tr>\n",
              "      <th>2020-03-16</th>\n",
              "      <td>PR</td>\n",
              "      <td>NaN</td>\n",
              "      <td>state</td>\n",
              "      <td>6</td>\n",
              "      <td>0</td>\n",
              "      <td>3</td>\n",
              "      <td>False</td>\n",
              "      <td>11433957.0</td>\n",
              "      <td>11516840.0</td>\n",
              "      <td>41.0</td>\n",
              "      <td>0.05210</td>\n",
              "      <td>0.0000</td>\n",
              "      <td>0.0</td>\n",
              "    </tr>\n",
              "    <tr>\n",
              "      <th>2020-03-17</th>\n",
              "      <td>PR</td>\n",
              "      <td>NaN</td>\n",
              "      <td>state</td>\n",
              "      <td>12</td>\n",
              "      <td>0</td>\n",
              "      <td>4</td>\n",
              "      <td>False</td>\n",
              "      <td>11433957.0</td>\n",
              "      <td>11516840.0</td>\n",
              "      <td>41.0</td>\n",
              "      <td>0.10420</td>\n",
              "      <td>0.0000</td>\n",
              "      <td>6.0</td>\n",
              "    </tr>\n",
              "    <tr>\n",
              "      <th>2020-03-18</th>\n",
              "      <td>PR</td>\n",
              "      <td>NaN</td>\n",
              "      <td>state</td>\n",
              "      <td>14</td>\n",
              "      <td>0</td>\n",
              "      <td>5</td>\n",
              "      <td>False</td>\n",
              "      <td>11433957.0</td>\n",
              "      <td>11516840.0</td>\n",
              "      <td>41.0</td>\n",
              "      <td>0.12156</td>\n",
              "      <td>0.0000</td>\n",
              "      <td>2.0</td>\n",
              "    </tr>\n",
              "    <tr>\n",
              "      <th>...</th>\n",
              "      <td>...</td>\n",
              "      <td>...</td>\n",
              "      <td>...</td>\n",
              "      <td>...</td>\n",
              "      <td>...</td>\n",
              "      <td>...</td>\n",
              "      <td>...</td>\n",
              "      <td>...</td>\n",
              "      <td>...</td>\n",
              "      <td>...</td>\n",
              "      <td>...</td>\n",
              "      <td>...</td>\n",
              "      <td>...</td>\n",
              "    </tr>\n",
              "    <tr>\n",
              "      <th>2020-11-03</th>\n",
              "      <td>PR</td>\n",
              "      <td>NaN</td>\n",
              "      <td>state</td>\n",
              "      <td>215234</td>\n",
              "      <td>5258</td>\n",
              "      <td>235</td>\n",
              "      <td>False</td>\n",
              "      <td>11433957.0</td>\n",
              "      <td>11516840.0</td>\n",
              "      <td>41.0</td>\n",
              "      <td>1868.86333</td>\n",
              "      <td>0.0244</td>\n",
              "      <td>784.0</td>\n",
              "    </tr>\n",
              "    <tr>\n",
              "      <th>2020-11-04</th>\n",
              "      <td>PR</td>\n",
              "      <td>NaN</td>\n",
              "      <td>state</td>\n",
              "      <td>216266</td>\n",
              "      <td>5269</td>\n",
              "      <td>236</td>\n",
              "      <td>False</td>\n",
              "      <td>11433957.0</td>\n",
              "      <td>11516840.0</td>\n",
              "      <td>41.0</td>\n",
              "      <td>1877.82413</td>\n",
              "      <td>0.0244</td>\n",
              "      <td>1032.0</td>\n",
              "    </tr>\n",
              "    <tr>\n",
              "      <th>2020-11-05</th>\n",
              "      <td>PR</td>\n",
              "      <td>NaN</td>\n",
              "      <td>state</td>\n",
              "      <td>217175</td>\n",
              "      <td>5293</td>\n",
              "      <td>237</td>\n",
              "      <td>False</td>\n",
              "      <td>11433957.0</td>\n",
              "      <td>11516840.0</td>\n",
              "      <td>41.0</td>\n",
              "      <td>1885.71692</td>\n",
              "      <td>0.0244</td>\n",
              "      <td>909.0</td>\n",
              "    </tr>\n",
              "    <tr>\n",
              "      <th>2020-11-06</th>\n",
              "      <td>PR</td>\n",
              "      <td>NaN</td>\n",
              "      <td>state</td>\n",
              "      <td>218816</td>\n",
              "      <td>5330</td>\n",
              "      <td>238</td>\n",
              "      <td>False</td>\n",
              "      <td>11433957.0</td>\n",
              "      <td>11516840.0</td>\n",
              "      <td>41.0</td>\n",
              "      <td>1899.96562</td>\n",
              "      <td>0.0244</td>\n",
              "      <td>1641.0</td>\n",
              "    </tr>\n",
              "    <tr>\n",
              "      <th>2020-11-07</th>\n",
              "      <td>PR</td>\n",
              "      <td>NaN</td>\n",
              "      <td>state</td>\n",
              "      <td>220408</td>\n",
              "      <td>5362</td>\n",
              "      <td>239</td>\n",
              "      <td>True</td>\n",
              "      <td>11433957.0</td>\n",
              "      <td>11516840.0</td>\n",
              "      <td>41.0</td>\n",
              "      <td>1913.78885</td>\n",
              "      <td>0.0243</td>\n",
              "      <td>1592.0</td>\n",
              "    </tr>\n",
              "  </tbody>\n",
              "</table>\n",
              "<p>239 rows × 13 columns</p>\n",
              "</div>"
            ],
            "text/plain": [
              "           state city  ... death_rate  new_cases\n",
              "date                   ...                      \n",
              "2020-03-12    PR  NaN  ...     0.0000        NaN\n",
              "2020-03-13    PR  NaN  ...     0.0000        0.0\n",
              "2020-03-16    PR  NaN  ...     0.0000        0.0\n",
              "2020-03-17    PR  NaN  ...     0.0000        6.0\n",
              "2020-03-18    PR  NaN  ...     0.0000        2.0\n",
              "...          ...  ...  ...        ...        ...\n",
              "2020-11-03    PR  NaN  ...     0.0244      784.0\n",
              "2020-11-04    PR  NaN  ...     0.0244     1032.0\n",
              "2020-11-05    PR  NaN  ...     0.0244      909.0\n",
              "2020-11-06    PR  NaN  ...     0.0244     1641.0\n",
              "2020-11-07    PR  NaN  ...     0.0243     1592.0\n",
              "\n",
              "[239 rows x 13 columns]"
            ]
          },
          "metadata": {
            "tags": []
          },
          "execution_count": 216
        }
      ]
    },
    {
      "cell_type": "code",
      "metadata": {
        "id": "GXecm9YvYJ_x"
      },
      "source": [
        "dados_PR_rv['media_movel'] = dados_PR_rv.iloc[:,-1].rolling(window=7).mean()"
      ],
      "execution_count": 217,
      "outputs": []
    },
    {
      "cell_type": "code",
      "metadata": {
        "id": "yS3-jVT-lYtg"
      },
      "source": [
        "# Como localizar as datas para ajustar as marcações.\n",
        "dados_PR_rv.index.tolist().index('2020-06-17')\n",
        "# Decretos\n",
        "decretos = [dados_PR_rv.index.tolist().index('2020-03-23'), dados_PR_rv.index.tolist().index('2020-04-28'), dados_PR_rv.index.tolist().index('2020-06-17')]"
      ],
      "execution_count": 218,
      "outputs": []
    },
    {
      "cell_type": "code",
      "metadata": {
        "id": "HbwIPNikkxA8",
        "outputId": "f3cad782-17f6-4985-f83d-f88f2bad7f4f",
        "colab": {
          "base_uri": "https://localhost:8080/",
          "height": 455
        }
      },
      "source": [
        "plt.figure(figsize=(16,6))\n",
        "ax = sns.barplot(x=dados_PR_rv.index, y=dados_PR_rv['new_cases'], color='red', alpha=0.55, edgecolor='red')\n",
        "sns.lineplot(x=dados_PR_rv.index, y= dados_PR_rv.media_movel, color = 'black', markers=True, alpha=1)\n",
        "sns.despine()\n",
        "\n",
        "plt.yticks(fontsize=12, fontname=\"Liberation Sans\")\n",
        "plt.xticks(fontsize=12, rotation=30, fontname=\"Liberation Sans\")\n",
        "plt.title('Figura 1. Novos casos de Covid-19 no Paraná', fontsize=24, weight=\"bold\", fontname=\"Liberation Serif\",  y=-0.3)\n",
        "plt.ylabel('Número de casos', fontsize=16, fontname=\"Liberation Sans\")\n",
        "plt.xlabel('')\n",
        "\n",
        "# Criando xticks separados por 30:\n",
        "pos = [i for i in range(1, len(dados_PR_rv.index), 30)]\n",
        "for i in decretos:\n",
        "  pos.append(i)\n",
        "  \n",
        "l = []\n",
        "for i in pos:\n",
        "  l.append(dados_PR_rv.index[i])\n",
        "\n",
        "plt.grid()\n",
        "ax.set(xticks=pos, xticklabels=l);\n",
        "\n",
        "\n",
        "plt.axvspan(9,10, zorder=0, alpha=0.4, color='orange', label='Estado de calamidade')\n",
        "plt.axvspan(45, 46, zorder=0, alpha=0.4, color='green', label='Uso de máscaras obrigatório')\n",
        "plt.axvspan(95, 96, zorder=0, alpha=0.4, color='blue', label='95% ocupação nas UTIs de Curitiba')\n",
        "\n",
        "plt.legend();"
      ],
      "execution_count": 219,
      "outputs": [
        {
          "output_type": "display_data",
          "data": {
            "image/png": "[encoded data removed]",
            "text/plain": [
              "<Figure size 1152x432 with 1 Axes>"
            ]
          },
          "metadata": {
            "tags": [],
            "needs_background": "light"
          }
        }
      ]
    },
    {
      "cell_type": "markdown",
      "metadata": {
        "id": "tj7QSOSyJ2_e"
      },
      "source": [
        "Barras vermelhas indicam o número diário de novos casos no PR. A linha preta representa a média móvel (7 dias) de novos casos. Destacados em amarelo, verde e azul temos o decreto de calamidade pública (23/03), decreto que torna obrigatório o uso de máscaras (28/04) e o ponto (17/06) em que o índice de ocupação das UTIs de Curitiba chegou a 95%."
      ]
    },
    {
      "cell_type": "code",
      "metadata": {
        "id": "wCEWh67ipVrR",
        "outputId": "4fb1c459-7469-4fb7-9245-1df1dbe5d935",
        "colab": {
          "base_uri": "https://localhost:8080/",
          "height": 454
        }
      },
      "source": [
        "plt.figure(figsize=(16,6))\n",
        "ax = sns.lineplot(x=dados_PR_rv.index, y=dados_PR_rv['confirmed']);\n",
        "sns.despine()\n",
        "\n",
        "plt.yticks(fontsize=12, fontname=\"Liberation Sans\")\n",
        "plt.xticks(fontsize=12, rotation=30, fontname=\"Liberation Sans\")\n",
        "plt.title('Figura 2. Casos confirmados de Covid-19 no Paraná', fontsize=24, weight=\"bold\", fontname=\"Liberation Serif\",  y=-0.3)\n",
        "plt.ylabel('Número de casos', fontsize=16, fontname=\"Liberation Sans\")\n",
        "plt.xlabel('')\n",
        "\n",
        "# Criando xticks separados por 30:\n",
        "pos = [i for i in range(1, len(dados_PR_rv.index), 30)]\n",
        "  \n",
        "l = []\n",
        "for i in pos:\n",
        "  l.append(dados_PR_rv.index[i])\n",
        "\n",
        "plt.grid()\n",
        "ax.set(xticks=pos, xticklabels=l);\n",
        "\n",
        "\n"
      ],
      "execution_count": 220,
      "outputs": [
        {
          "output_type": "display_data",
          "data": {
            "image/png": "[encoded data removed]",
            "text/plain": [
              "<Figure size 1152x432 with 1 Axes>"
            ]
          },
          "metadata": {
            "tags": [],
            "needs_background": "light"
          }
        }
      ]
    },
    {
      "cell_type": "markdown",
      "metadata": {
        "id": "RSAbSX7ynA3h"
      },
      "source": [
        "## TODO Crescimento sem medidas de segurança\n"
      ]
    },
    {
      "cell_type": "markdown",
      "metadata": {
        "id": "_xCaUlM7P_Vk"
      },
      "source": [
        "# Existe chance de segunda onda de Covid-19?"
      ]
    },
    {
      "cell_type": "markdown",
      "metadata": {
        "id": "ON8X0pzoQMMb"
      },
      "source": [
        "Assim como visto nos gráficos acima, o número de novos casos diários de covid-19 reduziu bastante desde o pico da pandemia no país. Mesmo assim, continuamos registrando muitas mortes diárias e, infelizmente estima-se que o número de casos real seja pelo menos de 5 a 8x maior que o reportado. [Link_noticia](www.github.com) <br>\n",
        "Apesar dessa questão não ser nada trivial, temos algumas evidências preocupantes sobre o futuro da pandemia. A Europa está passando por semanas de aumento consecutivo nos casos de covid-19, até mesmo batendo recordes estabelecidos no começo do ano. Sendo assim, vários países já estabaleceram \"lockdowns\" parciais ou completos em regiões mais afetadas.<br>\n",
        "Considerando o encaminhamento para o inverno no hemisfério norte, a relação entre sazonalidade e a covid vai ficando mais clara.\n",
        "Desta forma, decidi avaliar também dados de Síndrome Respiratória Aguda Grave relatados em anos anteriores à pandemia.\n"
      ]
    },
    {
      "cell_type": "markdown",
      "metadata": {
        "id": "2KKlPxF7XT1b"
      },
      "source": [
        "## País"
      ]
    },
    {
      "cell_type": "code",
      "metadata": {
        "id": "axTk31ZiP-8M"
      },
      "source": [
        "url = 'https://raw.githubusercontent.com/souzajvp/data_science_bootcamp/main/modulo_01/gripe_pais.csv'\n",
        "gripe_pais = pd.read_csv(url)"
      ],
      "execution_count": 221,
      "outputs": []
    },
    {
      "cell_type": "code",
      "metadata": {
        "id": "XImDCjguXfXG"
      },
      "source": [
        "gripe_pais = gripe_pais.drop(['Situação do dado', 'Tipo', 'escala', 'data de publicação', 'sexo', 'UF', 'Unidade da Federação' ], axis=1)"
      ],
      "execution_count": 222,
      "outputs": []
    },
    {
      "cell_type": "markdown",
      "metadata": {
        "id": "bJgl-VtqbQ90"
      },
      "source": [
        "Separando dados <br>"
      ]
    },
    {
      "cell_type": "code",
      "metadata": {
        "id": "LJXJKT_vbUuu",
        "outputId": "ca15b195-129b-454f-b47f-33ab21e7ddd8",
        "colab": {
          "base_uri": "https://localhost:8080/"
        }
      },
      "source": [
        "gripe_pais.dado.unique()\n"
      ],
      "execution_count": 223,
      "outputs": [
        {
          "output_type": "execute_result",
          "data": {
            "text/plain": [
              "array(['srag', 'sragflu', 'obitoflu', 'sragcovid', 'obitocovid', 'obito'],\n",
              "      dtype=object)"
            ]
          },
          "metadata": {
            "tags": []
          },
          "execution_count": 223
        }
      ]
    },
    {
      "cell_type": "markdown",
      "metadata": {
        "id": "G_Za18IHbc8E"
      },
      "source": [
        "Notamos como existem diversas classificações para nossos dados... vou focar nas formas mais gerais:\n",
        "1. srag;\n",
        "2. obito."
      ]
    },
    {
      "cell_type": "code",
      "metadata": {
        "id": "2Vnz6ZBLcozG"
      },
      "source": [
        "gripe_pais_srag = gripe_pais.query(\"dado == 'srag'\")\n",
        "gripe_pais_obito = gripe_pais.query(\"dado == 'obito'\")"
      ],
      "execution_count": 224,
      "outputs": []
    },
    {
      "cell_type": "code",
      "metadata": {
        "id": "D3eVSiWTih_q",
        "outputId": "e739cfee-024f-4120-8508-cd8801549d72",
        "colab": {
          "base_uri": "https://localhost:8080/"
        }
      },
      "source": [
        "gripe_pais_srag['Ano epidemiológico'].unique()"
      ],
      "execution_count": 225,
      "outputs": [
        {
          "output_type": "execute_result",
          "data": {
            "text/plain": [
              "array([2009, 2010, 2011, 2012, 2013, 2014, 2015, 2016, 2017, 2018, 2019,\n",
              "       2020])"
            ]
          },
          "metadata": {
            "tags": []
          },
          "execution_count": 225
        }
      ]
    },
    {
      "cell_type": "code",
      "metadata": {
        "id": "EvvhQieqdMcX",
        "outputId": "95b8f529-1a26-4180-ae11-33ab0dae908b",
        "colab": {
          "base_uri": "https://localhost:8080/",
          "height": 497
        }
      },
      "source": [
        "plt.figure(figsize=(12,8))\n",
        "sns.lineplot(data=gripe_pais_srag, x='Semana epidemiológica', y='total_agente', hue='Ano epidemiológico');"
      ],
      "execution_count": 226,
      "outputs": [
        {
          "output_type": "display_data",
          "data": {
            "image/png": "[encoded data removed]",
            "text/plain": [
              "<Figure size 864x576 with 1 Axes>"
            ]
          },
          "metadata": {
            "tags": [],
            "needs_background": "light"
          }
        }
      ]
    },
    {
      "cell_type": "markdown",
      "metadata": {
        "id": "h_iwJDSKggXX"
      },
      "source": [
        "Fazendo esse plot simples acima, vemos como o ano de 2020 tem uma quantidade de srag muito desproporcional. Aqui temos algumas hipóteses:\n",
        "1. A pandemia causou muitas internações (SRAG), tendo muito mais casos de covid-19 do que das outras viroses que também causam srag;*\n",
        "2. Antes de 2020, os casos de srag não eram monitorados com tanto afinco, e muitas vezes passavam despercebidos;\n",
        "\n",
        "***Obs**: vários vírus podem causar SRAG, porém o SARS-CoV-2 aparenta ter um equilíbrio entre letalidade e transmissibilidade ideias para ter causado este impacto mundial. Como comparação, o vírus influenza da gripe comum se transmite para muito mais pessoas, porém com uma letalidade pelo menos 20 vezes menor do que o estiputado para covid-19."
      ]
    },
    {
      "cell_type": "markdown",
      "metadata": {
        "id": "jw2pxMrShiO2"
      },
      "source": [
        "Vamos eliminar 2020 para ter uma comparação mais justa"
      ]
    },
    {
      "cell_type": "code",
      "metadata": {
        "id": "a0MKauzahmz_"
      },
      "source": [
        "gripe_pais_srag = gripe_pais_srag.query('`Ano epidemiológico` != \"2020\"')"
      ],
      "execution_count": 227,
      "outputs": []
    },
    {
      "cell_type": "code",
      "metadata": {
        "id": "Lmx73JLLiEDY",
        "outputId": "02ea8713-f20d-4732-d9be-303a4361b870",
        "colab": {
          "base_uri": "https://localhost:8080/",
          "height": 595
        }
      },
      "source": [
        "plt.figure(figsize=(12,8))\n",
        "ax = sns.lineplot(data=gripe_pais_srag, x='Semana epidemiológica', y='total_agente', hue='Ano epidemiológico', palette='rainbow')\n",
        "plt.yticks(fontsize=12, fontname=\"Liberation Sans\")\n",
        "plt.xticks(fontsize=12, rotation=30, fontname=\"Liberation Sans\")\n",
        "plt.title('Figura 3. Casos de SRAG no Brasil de 2009 a 2019', fontsize=24, weight=\"bold\", fontname=\"Liberation Serif\",  y=-0.3)\n",
        "plt.ylabel('Número de casos', fontsize=16, fontname=\"Liberation Sans\")\n",
        "plt.xlabel('Semana epidemiológica', fontsize=16, fontname=\"Liberation Sans\")\n",
        "sns.despine()\n",
        "ax.legend([*gripe_pais_srag['Ano epidemiológico'].unique()], fontsize=12, labelspacing=0.6, title='Ano epidemiológico', title_fontsize=14, ncol=2)\n",
        "# plt.legend(fontsize=12, columnspacing=0.6, labelspacing=0.6, title='Ano epidemiológico', title_fontsize=14)\n",
        "plt.show()"
      ],
      "execution_count": 228,
      "outputs": [
        {
          "output_type": "display_data",
          "data": {
            "image/png": "[encoded data removed]",
            "text/plain": [
              "<Figure size 864x576 with 1 Axes>"
            ]
          },
          "metadata": {
            "tags": [],
            "needs_background": "light"
          }
        }
      ]
    },
    {
      "cell_type": "markdown",
      "metadata": {
        "id": "xGd9pEMZnIma"
      },
      "source": [
        "Após remover 2020, vemos como o gráfico fica mais homogêneo. Ainda assim, o ano de 2009 se destaca bastante. É importante lembrar que 2009 foi o ano em que a epidemia de gripe suína (causada pelo vírus Influenza A - H1N1) aconteceu. Apesar de a gripe suína não ser necessariamente mais letal, um problema enfrentado era que a população como um geral estava mais suscetível ao vírus e as vacinas anuais não forneciam proteção contra essa cepa viral. <br>\n",
        "Outro ponto que chama a atenção é a diferença na sazonalidade dos casos de SRAG em 2009 vs dos outros anos. Uma possibilidade seria o tempo que a epidemia levou para chegar, se instalar e ser detectada no Brasil. Provavelmente, se avaliássemos os casos no México (país onde se rastreou o começo da epidemia), a sazonalidade de 2009 poderia ser mais semelhante."
      ]
    },
    {
      "cell_type": "code",
      "metadata": {
        "id": "ucrjQ5TgZtMd",
        "outputId": "4c34d8ff-5616-4515-cf17-8ca3b32df65c",
        "colab": {
          "base_uri": "https://localhost:8080/",
          "height": 530
        }
      },
      "source": [
        "gripe_pais.query('`Ano epidemiológico` == \"2009\"')\n",
        "# gripe_pais.query('`Ano epidemiológico` == \"2009\"').plot(x='Semana epidemiológica', y='total_agente')"
      ],
      "execution_count": 229,
      "outputs": [
        {
          "output_type": "execute_result",
          "data": {
            "text/html": [
              "<div>\n",
              "<style scoped>\n",
              "    .dataframe tbody tr th:only-of-type {\n",
              "        vertical-align: middle;\n",
              "    }\n",
              "\n",
              "    .dataframe tbody tr th {\n",
              "        vertical-align: top;\n",
              "    }\n",
              "\n",
              "    .dataframe thead th {\n",
              "        text-align: right;\n",
              "    }\n",
              "</style>\n",
              "<table border=\"1\" class=\"dataframe\">\n",
              "  <thead>\n",
              "    <tr style=\"text-align: right;\">\n",
              "      <th></th>\n",
              "      <th>dado</th>\n",
              "      <th>Ano epidemiológico</th>\n",
              "      <th>Semana epidemiológica</th>\n",
              "      <th>Ano e semana epidemiológica</th>\n",
              "      <th>Casos semanais reportados até a última atualização</th>\n",
              "      <th>Idade desconhecida</th>\n",
              "      <th>&lt; 2 anos</th>\n",
              "      <th>0-4 anos</th>\n",
              "      <th>10-19 anos</th>\n",
              "      <th>2-4 anos</th>\n",
              "      <th>20-29 anos</th>\n",
              "      <th>30-39 anos</th>\n",
              "      <th>40-49 anos</th>\n",
              "      <th>5-9 anos</th>\n",
              "      <th>50-59 anos</th>\n",
              "      <th>60+ anos</th>\n",
              "      <th>Testes positivos</th>\n",
              "      <th>Testes negativos</th>\n",
              "      <th>Casos aguardando resultado</th>\n",
              "      <th>Casos sem informação laboratorial</th>\n",
              "      <th>Casos sem teste laboratorial</th>\n",
              "      <th>Resultado inconclusivo</th>\n",
              "      <th>SARS-CoV-2</th>\n",
              "      <th>Influenza</th>\n",
              "      <th>Outros</th>\n",
              "      <th>total_agente</th>\n",
              "    </tr>\n",
              "  </thead>\n",
              "  <tbody>\n",
              "    <tr>\n",
              "      <th>0</th>\n",
              "      <td>srag</td>\n",
              "      <td>2009</td>\n",
              "      <td>1</td>\n",
              "      <td>2009W01</td>\n",
              "      <td>0.0</td>\n",
              "      <td>0.0</td>\n",
              "      <td>0.0</td>\n",
              "      <td>NaN</td>\n",
              "      <td>0.0</td>\n",
              "      <td>0.0</td>\n",
              "      <td>0.0</td>\n",
              "      <td>0.0</td>\n",
              "      <td>0.0</td>\n",
              "      <td>0.0</td>\n",
              "      <td>0.0</td>\n",
              "      <td>0.0</td>\n",
              "      <td>0.0</td>\n",
              "      <td>0.0</td>\n",
              "      <td>0.0</td>\n",
              "      <td>0.0</td>\n",
              "      <td>0.0</td>\n",
              "      <td>0.0</td>\n",
              "      <td>0.0</td>\n",
              "      <td>0.0</td>\n",
              "      <td>0.0</td>\n",
              "      <td>0.0</td>\n",
              "    </tr>\n",
              "    <tr>\n",
              "      <th>1</th>\n",
              "      <td>srag</td>\n",
              "      <td>2009</td>\n",
              "      <td>2</td>\n",
              "      <td>2009W02</td>\n",
              "      <td>0.0</td>\n",
              "      <td>0.0</td>\n",
              "      <td>0.0</td>\n",
              "      <td>NaN</td>\n",
              "      <td>0.0</td>\n",
              "      <td>0.0</td>\n",
              "      <td>0.0</td>\n",
              "      <td>0.0</td>\n",
              "      <td>0.0</td>\n",
              "      <td>0.0</td>\n",
              "      <td>0.0</td>\n",
              "      <td>0.0</td>\n",
              "      <td>0.0</td>\n",
              "      <td>0.0</td>\n",
              "      <td>0.0</td>\n",
              "      <td>0.0</td>\n",
              "      <td>0.0</td>\n",
              "      <td>0.0</td>\n",
              "      <td>0.0</td>\n",
              "      <td>0.0</td>\n",
              "      <td>0.0</td>\n",
              "      <td>0.0</td>\n",
              "    </tr>\n",
              "    <tr>\n",
              "      <th>2</th>\n",
              "      <td>srag</td>\n",
              "      <td>2009</td>\n",
              "      <td>3</td>\n",
              "      <td>2009W03</td>\n",
              "      <td>0.0</td>\n",
              "      <td>0.0</td>\n",
              "      <td>0.0</td>\n",
              "      <td>NaN</td>\n",
              "      <td>0.0</td>\n",
              "      <td>0.0</td>\n",
              "      <td>0.0</td>\n",
              "      <td>0.0</td>\n",
              "      <td>0.0</td>\n",
              "      <td>0.0</td>\n",
              "      <td>0.0</td>\n",
              "      <td>0.0</td>\n",
              "      <td>0.0</td>\n",
              "      <td>0.0</td>\n",
              "      <td>0.0</td>\n",
              "      <td>0.0</td>\n",
              "      <td>0.0</td>\n",
              "      <td>0.0</td>\n",
              "      <td>0.0</td>\n",
              "      <td>0.0</td>\n",
              "      <td>0.0</td>\n",
              "      <td>0.0</td>\n",
              "    </tr>\n",
              "    <tr>\n",
              "      <th>3</th>\n",
              "      <td>srag</td>\n",
              "      <td>2009</td>\n",
              "      <td>4</td>\n",
              "      <td>2009W04</td>\n",
              "      <td>0.0</td>\n",
              "      <td>0.0</td>\n",
              "      <td>0.0</td>\n",
              "      <td>NaN</td>\n",
              "      <td>0.0</td>\n",
              "      <td>0.0</td>\n",
              "      <td>0.0</td>\n",
              "      <td>0.0</td>\n",
              "      <td>0.0</td>\n",
              "      <td>0.0</td>\n",
              "      <td>0.0</td>\n",
              "      <td>0.0</td>\n",
              "      <td>0.0</td>\n",
              "      <td>0.0</td>\n",
              "      <td>0.0</td>\n",
              "      <td>0.0</td>\n",
              "      <td>0.0</td>\n",
              "      <td>0.0</td>\n",
              "      <td>0.0</td>\n",
              "      <td>0.0</td>\n",
              "      <td>0.0</td>\n",
              "      <td>0.0</td>\n",
              "    </tr>\n",
              "    <tr>\n",
              "      <th>4</th>\n",
              "      <td>srag</td>\n",
              "      <td>2009</td>\n",
              "      <td>5</td>\n",
              "      <td>2009W05</td>\n",
              "      <td>0.0</td>\n",
              "      <td>0.0</td>\n",
              "      <td>0.0</td>\n",
              "      <td>NaN</td>\n",
              "      <td>0.0</td>\n",
              "      <td>0.0</td>\n",
              "      <td>0.0</td>\n",
              "      <td>0.0</td>\n",
              "      <td>0.0</td>\n",
              "      <td>0.0</td>\n",
              "      <td>0.0</td>\n",
              "      <td>0.0</td>\n",
              "      <td>0.0</td>\n",
              "      <td>0.0</td>\n",
              "      <td>0.0</td>\n",
              "      <td>0.0</td>\n",
              "      <td>0.0</td>\n",
              "      <td>0.0</td>\n",
              "      <td>0.0</td>\n",
              "      <td>0.0</td>\n",
              "      <td>0.0</td>\n",
              "      <td>0.0</td>\n",
              "    </tr>\n",
              "    <tr>\n",
              "      <th>...</th>\n",
              "      <td>...</td>\n",
              "      <td>...</td>\n",
              "      <td>...</td>\n",
              "      <td>...</td>\n",
              "      <td>...</td>\n",
              "      <td>...</td>\n",
              "      <td>...</td>\n",
              "      <td>...</td>\n",
              "      <td>...</td>\n",
              "      <td>...</td>\n",
              "      <td>...</td>\n",
              "      <td>...</td>\n",
              "      <td>...</td>\n",
              "      <td>...</td>\n",
              "      <td>...</td>\n",
              "      <td>...</td>\n",
              "      <td>...</td>\n",
              "      <td>...</td>\n",
              "      <td>...</td>\n",
              "      <td>...</td>\n",
              "      <td>...</td>\n",
              "      <td>...</td>\n",
              "      <td>...</td>\n",
              "      <td>...</td>\n",
              "      <td>...</td>\n",
              "      <td>...</td>\n",
              "    </tr>\n",
              "    <tr>\n",
              "      <th>1979</th>\n",
              "      <td>obito</td>\n",
              "      <td>2009</td>\n",
              "      <td>48</td>\n",
              "      <td>2009W48</td>\n",
              "      <td>8.0</td>\n",
              "      <td>0.0</td>\n",
              "      <td>0.0</td>\n",
              "      <td>NaN</td>\n",
              "      <td>0.0</td>\n",
              "      <td>0.0</td>\n",
              "      <td>2.0</td>\n",
              "      <td>2.0</td>\n",
              "      <td>1.0</td>\n",
              "      <td>0.0</td>\n",
              "      <td>3.0</td>\n",
              "      <td>0.0</td>\n",
              "      <td>7.0</td>\n",
              "      <td>0.0</td>\n",
              "      <td>0.0</td>\n",
              "      <td>1.0</td>\n",
              "      <td>0.0</td>\n",
              "      <td>0.0</td>\n",
              "      <td>0.0</td>\n",
              "      <td>7.0</td>\n",
              "      <td>0.0</td>\n",
              "      <td>7.0</td>\n",
              "    </tr>\n",
              "    <tr>\n",
              "      <th>1980</th>\n",
              "      <td>obito</td>\n",
              "      <td>2009</td>\n",
              "      <td>49</td>\n",
              "      <td>2009W49</td>\n",
              "      <td>4.0</td>\n",
              "      <td>0.0</td>\n",
              "      <td>0.0</td>\n",
              "      <td>NaN</td>\n",
              "      <td>0.0</td>\n",
              "      <td>0.0</td>\n",
              "      <td>1.0</td>\n",
              "      <td>1.0</td>\n",
              "      <td>0.0</td>\n",
              "      <td>0.0</td>\n",
              "      <td>1.0</td>\n",
              "      <td>1.0</td>\n",
              "      <td>3.0</td>\n",
              "      <td>1.0</td>\n",
              "      <td>0.0</td>\n",
              "      <td>0.0</td>\n",
              "      <td>0.0</td>\n",
              "      <td>0.0</td>\n",
              "      <td>0.0</td>\n",
              "      <td>3.0</td>\n",
              "      <td>0.0</td>\n",
              "      <td>3.0</td>\n",
              "    </tr>\n",
              "    <tr>\n",
              "      <th>1981</th>\n",
              "      <td>obito</td>\n",
              "      <td>2009</td>\n",
              "      <td>50</td>\n",
              "      <td>2009W50</td>\n",
              "      <td>3.0</td>\n",
              "      <td>0.0</td>\n",
              "      <td>0.0</td>\n",
              "      <td>NaN</td>\n",
              "      <td>0.0</td>\n",
              "      <td>0.0</td>\n",
              "      <td>2.0</td>\n",
              "      <td>1.0</td>\n",
              "      <td>0.0</td>\n",
              "      <td>0.0</td>\n",
              "      <td>0.0</td>\n",
              "      <td>0.0</td>\n",
              "      <td>3.0</td>\n",
              "      <td>0.0</td>\n",
              "      <td>0.0</td>\n",
              "      <td>0.0</td>\n",
              "      <td>0.0</td>\n",
              "      <td>0.0</td>\n",
              "      <td>0.0</td>\n",
              "      <td>3.0</td>\n",
              "      <td>0.0</td>\n",
              "      <td>3.0</td>\n",
              "    </tr>\n",
              "    <tr>\n",
              "      <th>1982</th>\n",
              "      <td>obito</td>\n",
              "      <td>2009</td>\n",
              "      <td>51</td>\n",
              "      <td>2009W51</td>\n",
              "      <td>8.0</td>\n",
              "      <td>0.0</td>\n",
              "      <td>0.0</td>\n",
              "      <td>NaN</td>\n",
              "      <td>0.0</td>\n",
              "      <td>0.0</td>\n",
              "      <td>3.0</td>\n",
              "      <td>2.0</td>\n",
              "      <td>2.0</td>\n",
              "      <td>0.0</td>\n",
              "      <td>0.0</td>\n",
              "      <td>1.0</td>\n",
              "      <td>5.0</td>\n",
              "      <td>2.0</td>\n",
              "      <td>0.0</td>\n",
              "      <td>0.0</td>\n",
              "      <td>1.0</td>\n",
              "      <td>0.0</td>\n",
              "      <td>0.0</td>\n",
              "      <td>5.0</td>\n",
              "      <td>0.0</td>\n",
              "      <td>5.0</td>\n",
              "    </tr>\n",
              "    <tr>\n",
              "      <th>1983</th>\n",
              "      <td>obito</td>\n",
              "      <td>2009</td>\n",
              "      <td>52</td>\n",
              "      <td>2009W52</td>\n",
              "      <td>6.0</td>\n",
              "      <td>0.0</td>\n",
              "      <td>1.0</td>\n",
              "      <td>NaN</td>\n",
              "      <td>0.0</td>\n",
              "      <td>1.0</td>\n",
              "      <td>3.0</td>\n",
              "      <td>0.0</td>\n",
              "      <td>0.0</td>\n",
              "      <td>0.0</td>\n",
              "      <td>1.0</td>\n",
              "      <td>0.0</td>\n",
              "      <td>5.0</td>\n",
              "      <td>0.0</td>\n",
              "      <td>0.0</td>\n",
              "      <td>1.0</td>\n",
              "      <td>0.0</td>\n",
              "      <td>0.0</td>\n",
              "      <td>0.0</td>\n",
              "      <td>5.0</td>\n",
              "      <td>0.0</td>\n",
              "      <td>5.0</td>\n",
              "    </tr>\n",
              "  </tbody>\n",
              "</table>\n",
              "<p>208 rows × 26 columns</p>\n",
              "</div>"
            ],
            "text/plain": [
              "       dado  Ano epidemiológico  ...  Outros total_agente\n",
              "0      srag                2009  ...     0.0          0.0\n",
              "1      srag                2009  ...     0.0          0.0\n",
              "2      srag                2009  ...     0.0          0.0\n",
              "3      srag                2009  ...     0.0          0.0\n",
              "4      srag                2009  ...     0.0          0.0\n",
              "...     ...                 ...  ...     ...          ...\n",
              "1979  obito                2009  ...     0.0          7.0\n",
              "1980  obito                2009  ...     0.0          3.0\n",
              "1981  obito                2009  ...     0.0          3.0\n",
              "1982  obito                2009  ...     0.0          5.0\n",
              "1983  obito                2009  ...     0.0          5.0\n",
              "\n",
              "[208 rows x 26 columns]"
            ]
          },
          "metadata": {
            "tags": []
          },
          "execution_count": 229
        }
      ]
    },
    {
      "cell_type": "markdown",
      "metadata": {
        "id": "WaxvmymCt8wC"
      },
      "source": [
        "# DAQUI PRA BAIXO PRECISO ARRUMAR AINDA"
      ]
    },
    {
      "cell_type": "markdown",
      "metadata": {
        "id": "AZ6MqmZJXPJS"
      },
      "source": [
        "## UFs"
      ]
    },
    {
      "cell_type": "code",
      "metadata": {
        "id": "5YvL8AJFTnGv"
      },
      "source": [
        "url = 'https://raw.githubusercontent.com/souzajvp/data_science_bootcamp/main/modulo_01/gripe_ufs.csv'\n",
        "gripe_ufs = pd.read_csv(url)"
      ],
      "execution_count": 230,
      "outputs": []
    },
    {
      "cell_type": "markdown",
      "metadata": {
        "id": "ZUUf3liwVD4G"
      },
      "source": [
        "Como eu já fiz uma filtração prévia [Link do Notebook](www.github.com), posso remover algumas colunas para diminuir o tamanho do DF"
      ]
    },
    {
      "cell_type": "code",
      "metadata": {
        "id": "bDxlZyhZVBmF",
        "outputId": "c52dff68-c22e-4aad-9095-c167d7d46877",
        "colab": {
          "base_uri": "https://localhost:8080/"
        }
      },
      "source": [
        "gripe_ufs.columns"
      ],
      "execution_count": 231,
      "outputs": [
        {
          "output_type": "execute_result",
          "data": {
            "text/plain": [
              "Index(['data de publicação', 'UF', 'Unidade da Federação', 'Tipo', 'dado',\n",
              "       'escala', 'sexo', 'Ano epidemiológico', 'Semana epidemiológica',\n",
              "       'Ano e semana epidemiológica', 'Situação do dado',\n",
              "       'Casos semanais reportados até a última atualização',\n",
              "       'Idade desconhecida', '< 2 anos', '0-4 anos', '10-19 anos', '2-4 anos',\n",
              "       '20-29 anos', '30-39 anos', '40-49 anos', '5-9 anos', '50-59 anos',\n",
              "       '60+ anos', 'Testes positivos', 'Testes negativos',\n",
              "       'Casos aguardando resultado', 'Casos sem informação laboratorial',\n",
              "       'Casos sem teste laboratorial', 'Resultado inconclusivo', 'SARS-CoV-2',\n",
              "       'Influenza', 'Outros', 'total_agente'],\n",
              "      dtype='object')"
            ]
          },
          "metadata": {
            "tags": []
          },
          "execution_count": 231
        }
      ]
    },
    {
      "cell_type": "code",
      "metadata": {
        "id": "T2Il2c_uURL6"
      },
      "source": [
        "gripe_ufs = gripe_ufs.drop(['Situação do dado', 'Tipo', 'escala'], axis=1)"
      ],
      "execution_count": 232,
      "outputs": []
    },
    {
      "cell_type": "code",
      "metadata": {
        "id": "QpbP0znfQLoG"
      },
      "source": [
        ""
      ],
      "execution_count": 232,
      "outputs": []
    },
    {
      "cell_type": "code",
      "metadata": {
        "id": "5omLY1MQZFNx",
        "outputId": "2ea37552-34d6-467a-b70f-c78e9072c315",
        "colab": {
          "base_uri": "https://localhost:8080/",
          "height": 581
        }
      },
      "source": [
        "gripe_pais.groupby('Ano epidemiológico').sum()"
      ],
      "execution_count": 233,
      "outputs": [
        {
          "output_type": "execute_result",
          "data": {
            "text/html": [
              "<div>\n",
              "<style scoped>\n",
              "    .dataframe tbody tr th:only-of-type {\n",
              "        vertical-align: middle;\n",
              "    }\n",
              "\n",
              "    .dataframe tbody tr th {\n",
              "        vertical-align: top;\n",
              "    }\n",
              "\n",
              "    .dataframe thead th {\n",
              "        text-align: right;\n",
              "    }\n",
              "</style>\n",
              "<table border=\"1\" class=\"dataframe\">\n",
              "  <thead>\n",
              "    <tr style=\"text-align: right;\">\n",
              "      <th></th>\n",
              "      <th>Semana epidemiológica</th>\n",
              "      <th>Casos semanais reportados até a última atualização</th>\n",
              "      <th>Idade desconhecida</th>\n",
              "      <th>&lt; 2 anos</th>\n",
              "      <th>0-4 anos</th>\n",
              "      <th>10-19 anos</th>\n",
              "      <th>2-4 anos</th>\n",
              "      <th>20-29 anos</th>\n",
              "      <th>30-39 anos</th>\n",
              "      <th>40-49 anos</th>\n",
              "      <th>5-9 anos</th>\n",
              "      <th>50-59 anos</th>\n",
              "      <th>60+ anos</th>\n",
              "      <th>Testes positivos</th>\n",
              "      <th>Testes negativos</th>\n",
              "      <th>Casos aguardando resultado</th>\n",
              "      <th>Casos sem informação laboratorial</th>\n",
              "      <th>Casos sem teste laboratorial</th>\n",
              "      <th>Resultado inconclusivo</th>\n",
              "      <th>SARS-CoV-2</th>\n",
              "      <th>Influenza</th>\n",
              "      <th>Outros</th>\n",
              "      <th>total_agente</th>\n",
              "    </tr>\n",
              "    <tr>\n",
              "      <th>Ano epidemiológico</th>\n",
              "      <th></th>\n",
              "      <th></th>\n",
              "      <th></th>\n",
              "      <th></th>\n",
              "      <th></th>\n",
              "      <th></th>\n",
              "      <th></th>\n",
              "      <th></th>\n",
              "      <th></th>\n",
              "      <th></th>\n",
              "      <th></th>\n",
              "      <th></th>\n",
              "      <th></th>\n",
              "      <th></th>\n",
              "      <th></th>\n",
              "      <th></th>\n",
              "      <th></th>\n",
              "      <th></th>\n",
              "      <th></th>\n",
              "      <th></th>\n",
              "      <th></th>\n",
              "      <th></th>\n",
              "      <th></th>\n",
              "    </tr>\n",
              "  </thead>\n",
              "  <tbody>\n",
              "    <tr>\n",
              "      <th>2009</th>\n",
              "      <td>5512</td>\n",
              "      <td>149768.0</td>\n",
              "      <td>0.0</td>\n",
              "      <td>13869.0</td>\n",
              "      <td>0.0</td>\n",
              "      <td>24545.0</td>\n",
              "      <td>8499.0</td>\n",
              "      <td>35435.0</td>\n",
              "      <td>23060.0</td>\n",
              "      <td>15838.0</td>\n",
              "      <td>9055.0</td>\n",
              "      <td>10921.0</td>\n",
              "      <td>8546.0</td>\n",
              "      <td>43283.0</td>\n",
              "      <td>17640.0</td>\n",
              "      <td>0.0</td>\n",
              "      <td>59325.0</td>\n",
              "      <td>28722.0</td>\n",
              "      <td>798.0</td>\n",
              "      <td>0.0</td>\n",
              "      <td>39294.0</td>\n",
              "      <td>0.0</td>\n",
              "      <td>39294.0</td>\n",
              "    </tr>\n",
              "    <tr>\n",
              "      <th>2010</th>\n",
              "      <td>5512</td>\n",
              "      <td>10731.0</td>\n",
              "      <td>0.0</td>\n",
              "      <td>2509.0</td>\n",
              "      <td>0.0</td>\n",
              "      <td>1156.0</td>\n",
              "      <td>948.0</td>\n",
              "      <td>1571.0</td>\n",
              "      <td>1316.0</td>\n",
              "      <td>981.0</td>\n",
              "      <td>595.0</td>\n",
              "      <td>785.0</td>\n",
              "      <td>870.0</td>\n",
              "      <td>3565.0</td>\n",
              "      <td>4982.0</td>\n",
              "      <td>1.0</td>\n",
              "      <td>1352.0</td>\n",
              "      <td>744.0</td>\n",
              "      <td>87.0</td>\n",
              "      <td>0.0</td>\n",
              "      <td>1674.0</td>\n",
              "      <td>1.0</td>\n",
              "      <td>1675.0</td>\n",
              "    </tr>\n",
              "    <tr>\n",
              "      <th>2011</th>\n",
              "      <td>5512</td>\n",
              "      <td>4539.0</td>\n",
              "      <td>0.0</td>\n",
              "      <td>1492.0</td>\n",
              "      <td>0.0</td>\n",
              "      <td>349.0</td>\n",
              "      <td>349.0</td>\n",
              "      <td>470.0</td>\n",
              "      <td>453.0</td>\n",
              "      <td>408.0</td>\n",
              "      <td>206.0</td>\n",
              "      <td>327.0</td>\n",
              "      <td>485.0</td>\n",
              "      <td>1510.0</td>\n",
              "      <td>2320.0</td>\n",
              "      <td>0.0</td>\n",
              "      <td>193.0</td>\n",
              "      <td>475.0</td>\n",
              "      <td>41.0</td>\n",
              "      <td>0.0</td>\n",
              "      <td>976.0</td>\n",
              "      <td>2.0</td>\n",
              "      <td>978.0</td>\n",
              "    </tr>\n",
              "    <tr>\n",
              "      <th>2012</th>\n",
              "      <td>5512</td>\n",
              "      <td>18832.0</td>\n",
              "      <td>0.0</td>\n",
              "      <td>4739.0</td>\n",
              "      <td>0.0</td>\n",
              "      <td>1429.0</td>\n",
              "      <td>1294.0</td>\n",
              "      <td>2041.0</td>\n",
              "      <td>1981.0</td>\n",
              "      <td>2050.0</td>\n",
              "      <td>731.0</td>\n",
              "      <td>2015.0</td>\n",
              "      <td>2552.0</td>\n",
              "      <td>7776.0</td>\n",
              "      <td>8421.0</td>\n",
              "      <td>0.0</td>\n",
              "      <td>1385.0</td>\n",
              "      <td>1075.0</td>\n",
              "      <td>167.0</td>\n",
              "      <td>0.0</td>\n",
              "      <td>6414.0</td>\n",
              "      <td>104.0</td>\n",
              "      <td>6518.0</td>\n",
              "    </tr>\n",
              "    <tr>\n",
              "      <th>2013</th>\n",
              "      <td>5512</td>\n",
              "      <td>33845.0</td>\n",
              "      <td>0.0</td>\n",
              "      <td>8662.0</td>\n",
              "      <td>0.0</td>\n",
              "      <td>2153.0</td>\n",
              "      <td>2217.0</td>\n",
              "      <td>3132.0</td>\n",
              "      <td>3521.0</td>\n",
              "      <td>3544.0</td>\n",
              "      <td>1508.0</td>\n",
              "      <td>3710.0</td>\n",
              "      <td>5398.0</td>\n",
              "      <td>12395.0</td>\n",
              "      <td>16825.0</td>\n",
              "      <td>0.0</td>\n",
              "      <td>4022.0</td>\n",
              "      <td>351.0</td>\n",
              "      <td>221.0</td>\n",
              "      <td>0.0</td>\n",
              "      <td>10166.0</td>\n",
              "      <td>1666.0</td>\n",
              "      <td>11832.0</td>\n",
              "    </tr>\n",
              "    <tr>\n",
              "      <th>2014</th>\n",
              "      <td>5724</td>\n",
              "      <td>17380.0</td>\n",
              "      <td>0.0</td>\n",
              "      <td>6314.0</td>\n",
              "      <td>0.0</td>\n",
              "      <td>827.0</td>\n",
              "      <td>1491.0</td>\n",
              "      <td>1218.0</td>\n",
              "      <td>1467.0</td>\n",
              "      <td>1296.0</td>\n",
              "      <td>796.0</td>\n",
              "      <td>1372.0</td>\n",
              "      <td>2599.0</td>\n",
              "      <td>4932.0</td>\n",
              "      <td>9715.0</td>\n",
              "      <td>0.0</td>\n",
              "      <td>2476.0</td>\n",
              "      <td>134.0</td>\n",
              "      <td>107.0</td>\n",
              "      <td>0.0</td>\n",
              "      <td>3032.0</td>\n",
              "      <td>1502.0</td>\n",
              "      <td>4534.0</td>\n",
              "    </tr>\n",
              "    <tr>\n",
              "      <th>2015</th>\n",
              "      <td>5512</td>\n",
              "      <td>12804.0</td>\n",
              "      <td>0.0</td>\n",
              "      <td>5040.0</td>\n",
              "      <td>0.0</td>\n",
              "      <td>576.0</td>\n",
              "      <td>1149.0</td>\n",
              "      <td>693.0</td>\n",
              "      <td>829.0</td>\n",
              "      <td>819.0</td>\n",
              "      <td>609.0</td>\n",
              "      <td>935.0</td>\n",
              "      <td>2154.0</td>\n",
              "      <td>3837.0</td>\n",
              "      <td>6922.0</td>\n",
              "      <td>0.0</td>\n",
              "      <td>1728.0</td>\n",
              "      <td>170.0</td>\n",
              "      <td>122.0</td>\n",
              "      <td>0.0</td>\n",
              "      <td>1788.0</td>\n",
              "      <td>1640.0</td>\n",
              "      <td>3428.0</td>\n",
              "    </tr>\n",
              "    <tr>\n",
              "      <th>2016</th>\n",
              "      <td>5512</td>\n",
              "      <td>55380.0</td>\n",
              "      <td>0.0</td>\n",
              "      <td>14091.0</td>\n",
              "      <td>0.0</td>\n",
              "      <td>2501.0</td>\n",
              "      <td>4451.0</td>\n",
              "      <td>3717.0</td>\n",
              "      <td>5110.0</td>\n",
              "      <td>5828.0</td>\n",
              "      <td>2309.0</td>\n",
              "      <td>7076.0</td>\n",
              "      <td>10297.0</td>\n",
              "      <td>25178.0</td>\n",
              "      <td>22970.0</td>\n",
              "      <td>0.0</td>\n",
              "      <td>6017.0</td>\n",
              "      <td>821.0</td>\n",
              "      <td>317.0</td>\n",
              "      <td>0.0</td>\n",
              "      <td>21392.0</td>\n",
              "      <td>2988.0</td>\n",
              "      <td>24380.0</td>\n",
              "    </tr>\n",
              "    <tr>\n",
              "      <th>2017</th>\n",
              "      <td>5512</td>\n",
              "      <td>26399.0</td>\n",
              "      <td>0.0</td>\n",
              "      <td>9736.0</td>\n",
              "      <td>0.0</td>\n",
              "      <td>1309.0</td>\n",
              "      <td>2429.0</td>\n",
              "      <td>1341.0</td>\n",
              "      <td>1592.0</td>\n",
              "      <td>1551.0</td>\n",
              "      <td>1425.0</td>\n",
              "      <td>1807.0</td>\n",
              "      <td>5209.0</td>\n",
              "      <td>9502.0</td>\n",
              "      <td>12339.0</td>\n",
              "      <td>0.0</td>\n",
              "      <td>4098.0</td>\n",
              "      <td>311.0</td>\n",
              "      <td>124.0</td>\n",
              "      <td>0.0</td>\n",
              "      <td>5680.0</td>\n",
              "      <td>3341.0</td>\n",
              "      <td>9021.0</td>\n",
              "    </tr>\n",
              "    <tr>\n",
              "      <th>2018</th>\n",
              "      <td>5512</td>\n",
              "      <td>44847.0</td>\n",
              "      <td>0.0</td>\n",
              "      <td>14778.0</td>\n",
              "      <td>0.0</td>\n",
              "      <td>1795.0</td>\n",
              "      <td>4193.0</td>\n",
              "      <td>2465.0</td>\n",
              "      <td>3141.0</td>\n",
              "      <td>3210.0</td>\n",
              "      <td>2772.0</td>\n",
              "      <td>3883.0</td>\n",
              "      <td>8610.0</td>\n",
              "      <td>20799.0</td>\n",
              "      <td>17523.0</td>\n",
              "      <td>0.0</td>\n",
              "      <td>5642.0</td>\n",
              "      <td>574.0</td>\n",
              "      <td>274.0</td>\n",
              "      <td>0.0</td>\n",
              "      <td>14358.0</td>\n",
              "      <td>5614.0</td>\n",
              "      <td>19972.0</td>\n",
              "    </tr>\n",
              "    <tr>\n",
              "      <th>2019</th>\n",
              "      <td>5512</td>\n",
              "      <td>49898.0</td>\n",
              "      <td>0.0</td>\n",
              "      <td>17699.0</td>\n",
              "      <td>0.0</td>\n",
              "      <td>2088.0</td>\n",
              "      <td>4520.0</td>\n",
              "      <td>2693.0</td>\n",
              "      <td>3304.0</td>\n",
              "      <td>3298.0</td>\n",
              "      <td>2792.0</td>\n",
              "      <td>4060.0</td>\n",
              "      <td>9444.0</td>\n",
              "      <td>21533.0</td>\n",
              "      <td>21256.0</td>\n",
              "      <td>1398.0</td>\n",
              "      <td>447.0</td>\n",
              "      <td>5236.0</td>\n",
              "      <td>28.0</td>\n",
              "      <td>0.0</td>\n",
              "      <td>13100.0</td>\n",
              "      <td>7481.0</td>\n",
              "      <td>20581.0</td>\n",
              "    </tr>\n",
              "    <tr>\n",
              "      <th>2020</th>\n",
              "      <td>5647</td>\n",
              "      <td>721721.0</td>\n",
              "      <td>0.0</td>\n",
              "      <td>12401.0</td>\n",
              "      <td>0.0</td>\n",
              "      <td>7694.0</td>\n",
              "      <td>6902.0</td>\n",
              "      <td>25755.0</td>\n",
              "      <td>64693.0</td>\n",
              "      <td>97202.0</td>\n",
              "      <td>5789.0</td>\n",
              "      <td>124133.0</td>\n",
              "      <td>377152.0</td>\n",
              "      <td>549910.0</td>\n",
              "      <td>115131.0</td>\n",
              "      <td>29508.0</td>\n",
              "      <td>9822.0</td>\n",
              "      <td>16496.0</td>\n",
              "      <td>854.0</td>\n",
              "      <td>542386.0</td>\n",
              "      <td>3859.0</td>\n",
              "      <td>1632.0</td>\n",
              "      <td>547877.0</td>\n",
              "    </tr>\n",
              "  </tbody>\n",
              "</table>\n",
              "</div>"
            ],
            "text/plain": [
              "                    Semana epidemiológica  ...  total_agente\n",
              "Ano epidemiológico                         ...              \n",
              "2009                                 5512  ...       39294.0\n",
              "2010                                 5512  ...        1675.0\n",
              "2011                                 5512  ...         978.0\n",
              "2012                                 5512  ...        6518.0\n",
              "2013                                 5512  ...       11832.0\n",
              "2014                                 5724  ...        4534.0\n",
              "2015                                 5512  ...        3428.0\n",
              "2016                                 5512  ...       24380.0\n",
              "2017                                 5512  ...        9021.0\n",
              "2018                                 5512  ...       19972.0\n",
              "2019                                 5512  ...       20581.0\n",
              "2020                                 5647  ...      547877.0\n",
              "\n",
              "[12 rows x 23 columns]"
            ]
          },
          "metadata": {
            "tags": []
          },
          "execution_count": 233
        }
      ]
    },
    {
      "cell_type": "markdown",
      "metadata": {
        "id": "sIoFdbu4nGmk"
      },
      "source": [
        "## Avaliando os dados de todos estados \n"
      ]
    },
    {
      "cell_type": "code",
      "metadata": {
        "id": "kn6l0alZEJXD",
        "outputId": "da435a03-8715-4320-bacf-86cf5a03b5c5",
        "colab": {
          "base_uri": "https://localhost:8080/",
          "height": 226
        }
      },
      "source": [
        "dados_estados = dados.query('place_type == \"state\"')\n",
        "dados_estados.head()"
      ],
      "execution_count": 234,
      "outputs": [
        {
          "output_type": "execute_result",
          "data": {
            "text/html": [
              "<div>\n",
              "<style scoped>\n",
              "    .dataframe tbody tr th:only-of-type {\n",
              "        vertical-align: middle;\n",
              "    }\n",
              "\n",
              "    .dataframe tbody tr th {\n",
              "        vertical-align: top;\n",
              "    }\n",
              "\n",
              "    .dataframe thead th {\n",
              "        text-align: right;\n",
              "    }\n",
              "</style>\n",
              "<table border=\"1\" class=\"dataframe\">\n",
              "  <thead>\n",
              "    <tr style=\"text-align: right;\">\n",
              "      <th></th>\n",
              "      <th>date</th>\n",
              "      <th>state</th>\n",
              "      <th>city</th>\n",
              "      <th>place_type</th>\n",
              "      <th>confirmed</th>\n",
              "      <th>deaths</th>\n",
              "      <th>order_for_place</th>\n",
              "      <th>is_last</th>\n",
              "      <th>estimated_population_2019</th>\n",
              "      <th>estimated_population</th>\n",
              "      <th>city_ibge_code</th>\n",
              "      <th>confirmed_per_100k_inhabitants</th>\n",
              "      <th>death_rate</th>\n",
              "    </tr>\n",
              "  </thead>\n",
              "  <tbody>\n",
              "    <tr>\n",
              "      <th>0</th>\n",
              "      <td>2020-11-03</td>\n",
              "      <td>AP</td>\n",
              "      <td>NaN</td>\n",
              "      <td>state</td>\n",
              "      <td>52832</td>\n",
              "      <td>751</td>\n",
              "      <td>228</td>\n",
              "      <td>True</td>\n",
              "      <td>845731.0</td>\n",
              "      <td>861773.0</td>\n",
              "      <td>16.0</td>\n",
              "      <td>6130.61676</td>\n",
              "      <td>0.0142</td>\n",
              "    </tr>\n",
              "    <tr>\n",
              "      <th>1</th>\n",
              "      <td>2020-11-02</td>\n",
              "      <td>AP</td>\n",
              "      <td>NaN</td>\n",
              "      <td>state</td>\n",
              "      <td>52653</td>\n",
              "      <td>749</td>\n",
              "      <td>227</td>\n",
              "      <td>False</td>\n",
              "      <td>845731.0</td>\n",
              "      <td>861773.0</td>\n",
              "      <td>16.0</td>\n",
              "      <td>6109.84563</td>\n",
              "      <td>0.0142</td>\n",
              "    </tr>\n",
              "    <tr>\n",
              "      <th>2</th>\n",
              "      <td>2020-11-01</td>\n",
              "      <td>AP</td>\n",
              "      <td>NaN</td>\n",
              "      <td>state</td>\n",
              "      <td>52500</td>\n",
              "      <td>748</td>\n",
              "      <td>226</td>\n",
              "      <td>False</td>\n",
              "      <td>845731.0</td>\n",
              "      <td>861773.0</td>\n",
              "      <td>16.0</td>\n",
              "      <td>6092.09154</td>\n",
              "      <td>0.0142</td>\n",
              "    </tr>\n",
              "    <tr>\n",
              "      <th>3</th>\n",
              "      <td>2020-10-31</td>\n",
              "      <td>AP</td>\n",
              "      <td>NaN</td>\n",
              "      <td>state</td>\n",
              "      <td>52175</td>\n",
              "      <td>748</td>\n",
              "      <td>225</td>\n",
              "      <td>False</td>\n",
              "      <td>845731.0</td>\n",
              "      <td>861773.0</td>\n",
              "      <td>16.0</td>\n",
              "      <td>6054.37859</td>\n",
              "      <td>0.0143</td>\n",
              "    </tr>\n",
              "    <tr>\n",
              "      <th>4</th>\n",
              "      <td>2020-10-30</td>\n",
              "      <td>AP</td>\n",
              "      <td>NaN</td>\n",
              "      <td>state</td>\n",
              "      <td>52030</td>\n",
              "      <td>747</td>\n",
              "      <td>224</td>\n",
              "      <td>False</td>\n",
              "      <td>845731.0</td>\n",
              "      <td>861773.0</td>\n",
              "      <td>16.0</td>\n",
              "      <td>6037.55281</td>\n",
              "      <td>0.0144</td>\n",
              "    </tr>\n",
              "  </tbody>\n",
              "</table>\n",
              "</div>"
            ],
            "text/plain": [
              "         date state  ... confirmed_per_100k_inhabitants death_rate\n",
              "0  2020-11-03    AP  ...                     6130.61676     0.0142\n",
              "1  2020-11-02    AP  ...                     6109.84563     0.0142\n",
              "2  2020-11-01    AP  ...                     6092.09154     0.0142\n",
              "3  2020-10-31    AP  ...                     6054.37859     0.0143\n",
              "4  2020-10-30    AP  ...                     6037.55281     0.0144\n",
              "\n",
              "[5 rows x 13 columns]"
            ]
          },
          "metadata": {
            "tags": []
          },
          "execution_count": 234
        }
      ]
    },
    {
      "cell_type": "code",
      "metadata": {
        "id": "Pd1M4TsvEXif",
        "outputId": "1f214e0d-0573-46e3-ccc0-cdd23f1c2b1f",
        "colab": {
          "base_uri": "https://localhost:8080/",
          "height": 307
        }
      },
      "source": [
        "dados_estados.plot(x='date', y='confirmed')"
      ],
      "execution_count": 235,
      "outputs": [
        {
          "output_type": "execute_result",
          "data": {
            "text/plain": [
              "<matplotlib.axes._subplots.AxesSubplot at 0x7fc1d6cea358>"
            ]
          },
          "metadata": {
            "tags": []
          },
          "execution_count": 235
        },
        {
          "output_type": "display_data",
          "data": {
            "image/png": "[encoded data removed]",
            "text/plain": [
              "<Figure size 432x288 with 1 Axes>"
            ]
          },
          "metadata": {
            "tags": [],
            "needs_background": "light"
          }
        }
      ]
    },
    {
      "cell_type": "code",
      "metadata": {
        "id": "eTImYLKtEp0Q"
      },
      "source": [
        "lista_estados = ['dados_' + estado for estado in dados_estados.state.unique()]"
      ],
      "execution_count": 236,
      "outputs": []
    },
    {
      "cell_type": "code",
      "metadata": {
        "id": "w4-5qpe1EpT_"
      },
      "source": [
        "dataframes_estados = {}\n",
        "for i in lista_estados:\n",
        "  for j in dados_estados.state.unique():\n",
        "    dataframes_estados[i] = dados_estados.query('state == @j')"
      ],
      "execution_count": 237,
      "outputs": []
    },
    {
      "cell_type": "code",
      "metadata": {
        "id": "bToYwZDgUcu6"
      },
      "source": [
        "# dataframes_estados['dados_AC']"
      ],
      "execution_count": 238,
      "outputs": []
    },
    {
      "cell_type": "markdown",
      "metadata": {
        "id": "CyoTsjIMawrh"
      },
      "source": [
        "## Avaliando Maringá-Pr"
      ]
    },
    {
      "cell_type": "code",
      "metadata": {
        "id": "tB-d7_ATbI4r"
      },
      "source": [
        "dados_maringa = dados_PR = dados.query(\"city == 'Maringá'\")"
      ],
      "execution_count": 239,
      "outputs": []
    },
    {
      "cell_type": "code",
      "metadata": {
        "id": "OdL6TAjObjW3",
        "outputId": "fb2775fb-7f06-4b4d-efb9-6e3717274e1b",
        "colab": {
          "base_uri": "https://localhost:8080/"
        }
      },
      "source": [
        "dados_maringa.isnull().sum()"
      ],
      "execution_count": 240,
      "outputs": [
        {
          "output_type": "execute_result",
          "data": {
            "text/plain": [
              "date                              0\n",
              "state                             0\n",
              "city                              0\n",
              "place_type                        0\n",
              "confirmed                         0\n",
              "deaths                            0\n",
              "order_for_place                   0\n",
              "is_last                           0\n",
              "estimated_population_2019         0\n",
              "estimated_population              0\n",
              "city_ibge_code                    0\n",
              "confirmed_per_100k_inhabitants    0\n",
              "death_rate                        0\n",
              "dtype: int64"
            ]
          },
          "metadata": {
            "tags": []
          },
          "execution_count": 240
        }
      ]
    },
    {
      "cell_type": "code",
      "metadata": {
        "id": "ZBTn0bBbbUeF"
      },
      "source": [
        "dados_maringa_rv = dados_maringa.iloc[::-1]"
      ],
      "execution_count": 241,
      "outputs": []
    },
    {
      "cell_type": "code",
      "metadata": {
        "id": "wkgcPDTGbR2i",
        "outputId": "2c479bbd-8b37-4691-d2cf-4283861adb0a",
        "colab": {
          "base_uri": "https://localhost:8080/",
          "height": 498
        }
      },
      "source": [
        "ax = dados_maringa_rv.plot(x='date', y='confirmed', figsize=(12,8));\n",
        "# dados_maringa_rv.iloc[21:40].plot(ax= ax, x='date', y='confirmed', figsize=(12,8));\n",
        "# dados_maringa_rv.iloc[41:60].plot(ax= ax, x='date', y='confirmed', figsize=(12,8));\n",
        "# dados_maringa_rv.iloc[61:80].plot(ax= ax, x='date', y='confirmed', figsize=(12,8));\n",
        "# dados_maringa_rv.iloc[81:100].plot(ax= ax, x='date', y='confirmed', figsize=(12,8));"
      ],
      "execution_count": 242,
      "outputs": [
        {
          "output_type": "display_data",
          "data": {
            "image/png": "[encoded data removed]",
            "text/plain": [
              "<Figure size 864x576 with 1 Axes>"
            ]
          },
          "metadata": {
            "tags": [],
            "needs_background": "light"
          }
        }
      ]
    },
    {
      "cell_type": "code",
      "metadata": {
        "id": "xzXckf_586zo",
        "outputId": "f9349d7d-0e50-48dc-e9a1-1ba176f42713",
        "colab": {
          "base_uri": "https://localhost:8080/",
          "height": 498
        }
      },
      "source": [
        "ax = dados_PR.plot(x='date', y='confirmed', figsize=(12,8));\n",
        "# dados_PR.iloc[21:40].plot(ax= ax, x='date', y='confirmed', figsize=(12,8));\n",
        "# dados_PR.iloc[41:60].plot(ax= ax, x='date', y='confirmed', figsize=(12,8));\n",
        "# dados_PR.iloc[61:80].plot(ax= ax, x='date', y='confirmed', figsize=(12,8));\n",
        "# dados_PR.iloc[81:100].plot(ax= ax, x='date', y='confirmed', figsize=(12,8));"
      ],
      "execution_count": 243,
      "outputs": [
        {
          "output_type": "display_data",
          "data": {
            "image/png": "[encoded data removed]",
            "text/plain": [
              "<Figure size 864x576 with 1 Axes>"
            ]
          },
          "metadata": {
            "tags": [],
            "needs_background": "light"
          }
        }
      ]
    },
    {
      "cell_type": "code",
      "metadata": {
        "id": "9x_u7RAIeL4K"
      },
      "source": [
        "dados_maringa_rv['new_cases'] = dados_maringa_rv['confirmed'].diff()"
      ],
      "execution_count": 244,
      "outputs": []
    },
    {
      "cell_type": "code",
      "metadata": {
        "id": "bwXTGS9ugZzv",
        "outputId": "a9cbee92-6898-46c4-9052-24a4e6285f04",
        "colab": {
          "base_uri": "https://localhost:8080/",
          "height": 514
        }
      },
      "source": [
        "dados_maringa_rv.plot(x='date', y='new_cases', figsize=(12,8))"
      ],
      "execution_count": 245,
      "outputs": [
        {
          "output_type": "execute_result",
          "data": {
            "text/plain": [
              "<matplotlib.axes._subplots.AxesSubplot at 0x7fc1d587f7b8>"
            ]
          },
          "metadata": {
            "tags": []
          },
          "execution_count": 245
        },
        {
          "output_type": "display_data",
          "data": {
            "image/png": "[encoded data removed]",
            "text/plain": [
              "<Figure size 864x576 with 1 Axes>"
            ]
          },
          "metadata": {
            "tags": [],
            "needs_background": "light"
          }
        }
      ]
    },
    {
      "cell_type": "code",
      "metadata": {
        "id": "DIUxrFDzBmRM",
        "outputId": "e7a8779f-d7f5-4a57-dbdf-59c91e044a81",
        "colab": {
          "base_uri": "https://localhost:8080/"
        }
      },
      "source": [
        "dados_maringa_rv.columns"
      ],
      "execution_count": 246,
      "outputs": [
        {
          "output_type": "execute_result",
          "data": {
            "text/plain": [
              "Index(['date', 'state', 'city', 'place_type', 'confirmed', 'deaths',\n",
              "       'order_for_place', 'is_last', 'estimated_population_2019',\n",
              "       'estimated_population', 'city_ibge_code',\n",
              "       'confirmed_per_100k_inhabitants', 'death_rate', 'new_cases'],\n",
              "      dtype='object')"
            ]
          },
          "metadata": {
            "tags": []
          },
          "execution_count": 246
        }
      ]
    },
    {
      "cell_type": "markdown",
      "metadata": {
        "id": "QOE6wiwY_f1V"
      },
      "source": [
        "Calculando a média móvel\n"
      ]
    },
    {
      "cell_type": "code",
      "metadata": {
        "id": "S4gZwwJBfesp"
      },
      "source": [
        "dados_maringa_rv['pandas_SMA_7'] = dados_maringa_rv.iloc[:,-1].rolling(window=7).mean()\n"
      ],
      "execution_count": 247,
      "outputs": []
    },
    {
      "cell_type": "code",
      "metadata": {
        "id": "L8VNv3yBBTMv",
        "outputId": "aa216705-5b87-4520-fd3d-4e76633b01c1",
        "colab": {
          "base_uri": "https://localhost:8080/",
          "height": 405
        }
      },
      "source": [
        "ax = dados_maringa_rv.plot(x='date', y='new_cases',  figsize=(12,8), kind = 'bar');\n",
        "dados_maringa_rv.plot(ax = ax, x='date', y='pandas_SMA_7', figsize=(16,6), color='red', secondary_y=False)\n"
      ],
      "execution_count": 248,
      "outputs": [
        {
          "output_type": "execute_result",
          "data": {
            "text/plain": [
              "<matplotlib.axes._subplots.AxesSubplot at 0x7fc1d55e7a20>"
            ]
          },
          "metadata": {
            "tags": []
          },
          "execution_count": 248
        },
        {
          "output_type": "display_data",
          "data": {
            "image/png": "[encoded data removed]",
            "text/plain": [
              "<Figure size 1152x432 with 1 Axes>"
            ]
          },
          "metadata": {
            "tags": [],
            "needs_background": "light"
          }
        }
      ]
    },
    {
      "cell_type": "code",
      "metadata": {
        "id": "_bX7sgrdBXbk"
      },
      "source": [
        ""
      ],
      "execution_count": 248,
      "outputs": []
    }
  ]
}