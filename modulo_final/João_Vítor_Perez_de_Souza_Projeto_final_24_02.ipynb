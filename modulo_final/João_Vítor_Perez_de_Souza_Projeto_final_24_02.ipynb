{
  "nbformat": 4,
  "nbformat_minor": 0,
  "metadata": {
    "colab": {
      "name": "João_Vítor_Perez_de_Souza-Projeto_final_24_02.ipynb",
      "provenance": [],
      "collapsed_sections": [],
      "include_colab_link": true
    },
    "kernelspec": {
      "display_name": "Python 3",
      "language": "python",
      "name": "python3"
    },
    "language_info": {
      "codemirror_mode": {
        "name": "ipython",
        "version": 3
      },
      "file_extension": ".py",
      "mimetype": "text/x-python",
      "name": "python",
      "nbconvert_exporter": "python",
      "pygments_lexer": "ipython3",
      "version": "3.8.5"
    }
  },
  "cells": [
    {
      "cell_type": "markdown",
      "metadata": {
        "id": "view-in-github",
        "colab_type": "text"
      },
      "source": [
        "<a href=\"https://colab.research.google.com/github/souzajvp/data_science_bootcamp/blob/main/modulo_final/Jo%C3%A3o_V%C3%ADtor_Perez_de_Souza_Projeto_final_24_02.ipynb\" target=\"_parent\"><img src=\"https://colab.research.google.com/assets/colab-badge.svg\" alt=\"Open In Colab\"/></a>"
      ]
    },
    {
      "cell_type": "markdown",
      "metadata": {
        "id": "ImFXZhLv8ffW"
      },
      "source": [
        "![Capa](https://raw.githubusercontent.com/souzajvp/data_science_bootcamp/main/modulo_final/Prancheta%205.png)"
      ]
    },
    {
      "cell_type": "markdown",
      "metadata": {
        "id": "5GVbC-hF8ffc"
      },
      "source": [
        "# Um pouco sobre mim:\n",
        "\n",
        "Meu nome é João Vítor Perez de Souza, sou biomédico e atualmente aluno de doutorado na Universidade Estadual de Maringá-Paraná. Sempre tive gosto pela área de bioinformática, e mais recentemente comecei a aprender sobre programação, ciência de dados e etc. \n",
        "***\n",
        "### Onde encontrar meu trabalho?\n",
        "1. [ResearchGate](https://www.researchgate.net/profile/Joao_Souza34);\n",
        "2. [Github](https://github.com/souzajvp) - em construção;\n",
        "3. [LinkedIn](https://www.linkedin.com/in/jo%C3%A3o-v%C3%ADtor-perez-de-souza/)"
      ]
    },
    {
      "cell_type": "markdown",
      "metadata": {
        "id": "HjcXTGpW8ffc"
      },
      "source": [
        "## Guia para o notebook:\n",
        "<font color='Gray'> >> </font> Textos precedidos de sinais na cor <font color='Gray'> Cinza </font> são comentários gerais feitos por mim. <br>\n",
        "<font color='Red'> >> </font> Textos precedidos de sinais na cor <font color='Red'> Vermelha </font> são questionamentos que tentarei responder. <br>\n",
        "<font color='Blue'> >> </font> Textos precedidos de sinais na cor <font color='Blue'> Azul </font> são respostas e hipóteses levantadas por mim para responder aos questionamentos anteriores."
      ]
    },
    {
      "cell_type": "markdown",
      "metadata": {
        "id": "63q4dnsJ5ZZ6"
      },
      "source": [
        "# Funções e imports"
      ]
    },
    {
      "cell_type": "markdown",
      "metadata": {
        "id": "ofdYj6U35bNI"
      },
      "source": [
        "## Imports"
      ]
    },
    {
      "cell_type": "code",
      "metadata": {
        "colab": {
          "base_uri": "https://localhost:8080/"
        },
        "id": "UNLguomjQ0Z3",
        "outputId": "4b40dc2a-d11c-492a-d705-12fea39c1e57"
      },
      "source": [
        "import pandas as pd\n",
        "import numpy as np\n",
        "import seaborn as sns\n",
        "import matplotlib.pyplot as plt\n",
        "import zipfile\n",
        "from collections import ChainMap\n",
        "from sklearn.metrics import (plot_confusion_matrix, roc_auc_score, plot_roc_curve, auc, \n",
        "                             accuracy_score, recall_score, f1_score)\n",
        "\n",
        "from sklearn.model_selection import (cross_validate, StratifiedKFold, RepeatedStratifiedKFold, \n",
        "                                     train_test_split, GridSearchCV, RandomizedSearchCV)\n",
        "from sklearn.tree import DecisionTreeClassifier\n",
        "from sklearn.ensemble import (RandomForestClassifier, GradientBoostingClassifier)\n",
        "from sklearn.linear_model import LogisticRegression\n",
        "from sklearn.dummy import DummyClassifier\n",
        "\n",
        "import warnings\n",
        "warnings.filterwarnings('ignore')\n",
        "\n",
        "%pylab inline\n",
        "pylab.rcParams['figure.figsize'] = (8, 8)"
      ],
      "execution_count": 1,
      "outputs": [
        {
          "output_type": "stream",
          "text": [
            "Populating the interactive namespace from numpy and matplotlib\n"
          ],
          "name": "stdout"
        }
      ]
    },
    {
      "cell_type": "markdown",
      "metadata": {
        "id": "LGHRMXjO5U9j"
      },
      "source": [
        "## Funções"
      ]
    },
    {
      "cell_type": "code",
      "metadata": {
        "id": "6BpoNRUH8ffh"
      },
      "source": [
        "def testa_e_retorna_pacientes_nulos(dados: pd.DataFrame):\n",
        "    \"\"\"\n",
        "    Função que retorna a lista de ids dos pacientes e nomes de colunas que tem dados nulos em todas as \n",
        "    linhas antes de entratrem na UTI.\n",
        "    \"\"\"    \n",
        "    colunas = []\n",
        "    pacientes = []\n",
        "    for i in dados['PATIENT_VISIT_IDENTIFIER'].unique():\n",
        "        dataframe = (dados.query('PATIENT_VISIT_IDENTIFIER == @i and ICU == 0'))\n",
        "        for index, value in dataframe.isna().sum().items():\n",
        "            if value == len(dataframe):\n",
        "              colunas.append(index)\n",
        "              pacientes.append(i)\n",
        "                \n",
        "    pacientes_com_nulos = list(set(pacientes))\n",
        "    colunas_com_nulos = list(set(colunas))          \n",
        "    \n",
        "    return colunas_com_nulos, pacientes_com_nulos"
      ],
      "execution_count": 2,
      "outputs": []
    },
    {
      "cell_type": "code",
      "metadata": {
        "id": "eDLJnC4K8ffh"
      },
      "source": [
        "def preenche_tabela(dataframe: pd.DataFrame):\n",
        "    '''\n",
        "    Função que processa os dados nulos de acordo com as recomendações do Sírio Libânes, \n",
        "    preenchendo-os com valores posteriores e anteriores. Funciona através de uma estratégia\n",
        "    de tratamento dos dados nulos individual, uma vez que não podemos executar o \n",
        "    preenchimento da mesma forma para todas as variáveis.\n",
        "    ## Variáveis de saída:\n",
        "    dataframe.iloc[:, -2:] - WINDOW  e ICU\n",
        "    ## Variáveis categóricas:\n",
        "    dataframe.iloc[:, :13]\n",
        "    ## Variáveis contínuas:\n",
        "    dataframe.iloc[:, 13:-2].columns\n",
        "    #### Créditos\n",
        "    Função desenvolvida pelo Guilherme Silveira durante as aulas do módulo 05, com pequenas modificações. \n",
        "\n",
        "    '''\n",
        "    features_continuas_colunas = dataframe.iloc[:, 13:-2].columns\n",
        "    features_continuas = (dataframe.groupby('PATIENT_VISIT_IDENTIFIER', as_index=False)[features_continuas_colunas].\n",
        "                        fillna(method='ffill').fillna(method='bfill'))\n",
        "    features_categoricas = dataframe.iloc[:, :13]\n",
        "    saida = dataframe.iloc[:, -2:]\n",
        "    dataframe_finais = pd.concat([features_categoricas, features_continuas, saida], ignore_index=True,\n",
        "                         axis=1)\n",
        "    dataframe_finais.columns = dataframe.columns\n",
        "    return dataframe_finais"
      ],
      "execution_count": 3,
      "outputs": []
    },
    {
      "cell_type": "code",
      "metadata": {
        "id": "MgB5Q9gEHqpm"
      },
      "source": [
        "def remove_e_mantem_min_icu(rows):\n",
        "    '''\n",
        "    Função criada para manipular os dataframe de forma atenda aos seguintes critérios:\n",
        "    1. Não podemos utilizar dados de pacientes que estão na UTI (ICU==1)\n",
        "        Para atender essa necessidade, primeiro checo se alguma das linhas tem \n",
        "        ICU==1. Caso True, removo todas as linhas com ICU==1\n",
        "    2. Temos que usar dados com ICU=1 e ICU=0.\n",
        "        Para isso, atribuo o valor de 1 para a primeira linha dos pacientes que \n",
        "        tinham algum valor de ICU=1. Caso o paciente não tenha nenhum ICU==1,\n",
        "        apenas a primeira linha é mantida, continuando com ICU==0.\n",
        "    ##### Uso:\n",
        "    Essa função foi criada para uso conjunto com o método apply, seguido de um groupby\n",
        "    usando a variável \"PATIENT_VISIT_IDENTIFIER\".\n",
        "    ##### Créditos:\n",
        "    Função criada pelo Guilherme Silveira durante as aulas do módulo 05, com nome\n",
        "    diferente (original = prepare_window(rows)). \n",
        "    '''\n",
        "    if(np.any(rows['ICU'])):\n",
        "        rows.loc[rows['WINDOW']== '0-2', 'ICU'] = 1\n",
        "    return rows.loc[rows['WINDOW']== '0-2']"
      ],
      "execution_count": 4,
      "outputs": []
    },
    {
      "cell_type": "code",
      "metadata": {
        "id": "G_Mzq1WOe5rb"
      },
      "source": [
        "def remove_e_mantem_max_icu(rows):\n",
        "    '''\n",
        "    Função criada para manipular os dataframe de forma atenda aos seguintes critérios:\n",
        "    1. Não podemos utilizar dados de pacientes que estão na UTI (ICU==1)\n",
        "        Para atender essa necessidade, primeiro checo se alguma das linhas tem \n",
        "        ICU==1. Caso True, removo todas as linhas com ICU==1\n",
        "    2. Temos que usar o máximo de dados possíveis para treinar o modelo e temos que \n",
        "    fornecer exemplos que pacientes que foram e não foram para ICU.\n",
        "        Para isso, atribuo o valor de 1 para a última linha dos dados dos pacientes\n",
        "        que tinham algum valor de ICU=1. Desta forma, classifico os últimos dados\n",
        "        disponíveis para treinamento como os dados de uma pessoa que irá para a UTI.\n",
        "    ##### Uso:\n",
        "    Essa função foi criada para uso conjunto com o método apply, seguido de um groupby\n",
        "    usando a variável \"PATIENT_VISIT_IDENTIFIER\".\n",
        "    ##### Créditos:\n",
        "    Função inspirada pela função \"prepare_window(rows)\" criada pelo \n",
        "    Guilherme Silveira durante as aulas do módulo 05\n",
        "    '''\n",
        "    if(np.any(rows['ICU'])):\n",
        "        for i in rows['ICU'].index:\n",
        "            if rows.loc[i, 'ICU'] == 1:\n",
        "                rows = rows.drop(i)\n",
        "        rows.iloc[-1, -1] = 1\n",
        "    return rows"
      ],
      "execution_count": 5,
      "outputs": []
    },
    {
      "cell_type": "code",
      "metadata": {
        "id": "yXTkYvft5Tgf"
      },
      "source": [
        "def retorna_colunas_expandidas(dataframe: pd.DataFrame):\n",
        "    \"\"\"\n",
        "    Função que retorna listas das múltiplas versões de cada variável\n",
        "    \"\"\"\n",
        "    colunas_diff_rel = dataframe.columns[dataframe.columns.str[-3:] == 'REL'].to_list()\n",
        "    colunas_diff     = dataframe.columns[dataframe.columns.str[-4:] == 'DIFF'].to_list()\n",
        "    colunas_min      = dataframe.columns[dataframe.columns.str[-3:] == 'MIN'].to_list()    \n",
        "    colunas_max      = dataframe.columns[dataframe.columns.str[-3:] == 'MAX'].to_list()\n",
        "    colunas_median   = dataframe.columns[dataframe.columns.str[-6:] == 'MEDIAN'].to_list()\n",
        "    colunas_mean     = dataframe.columns[dataframe.columns.str[-4:] == 'MEAN'].to_list()\n",
        "    \n",
        "    return colunas_mean, colunas_median, colunas_max, colunas_min, colunas_diff, colunas_diff_rel\n",
        "\n",
        "def avalia_correlacao_unica_spearman(dataframe: pd.DataFrame):\n",
        "    '''\n",
        "    Função criada para lidar com a característica única do dataset onde existem de 5 a 6 colunas\n",
        "    derivadas do mesmo indicador. Ex. SODIUM_MEAN, SODIUM_MAX, SODIUM_MEDIAN, etc.\n",
        "\n",
        "    Essa função faz uso da função --> retorna_colunas_expandidas(dataframe) para selecionar\n",
        "    as colunas que contém cada um dos termos e em seguida calcula qual das versões de cada\n",
        "    termo tem a maior correlação de Spearman com a variávl de interesse.\n",
        "\n",
        "    *** Importante: A variável é selecionada de acordo com sua correlação absoluta!\n",
        "\n",
        "    Além disso, também retorna a lista de variáveis a a serem descartadas.\n",
        "    '''\n",
        "    c_mean, c_median, c_max, c_min, c_diff, c_diff_rel = retorna_colunas_expandidas(dataframe)\n",
        "    correlacao_unica = []\n",
        "    for i in range(len(c_min)):\n",
        "        variaveis = [c_min[i], c_mean[i], c_max[i], c_median[i], c_diff[i], 'ICU_EVER']\n",
        "        correlacao_unica.append(abs(dataframe[variaveis].corrwith(dataframe['ICU_EVER'], method='spearman').drop('ICU_EVER')).idxmax())\n",
        "  \n",
        "    all_c = c_mean + c_median + c_max + c_min + c_diff\n",
        "    var_descartadas = [i for i in all_c if i not in correlacao_unica]\n",
        "\n",
        "    return correlacao_unica, var_descartadas\n"
      ],
      "execution_count": 6,
      "outputs": []
    },
    {
      "cell_type": "code",
      "metadata": {
        "id": "Av3gi-8_sx9z"
      },
      "source": [
        "def plota_graficos_correlacao(y1: str, cor1: float, y2: str, cor2: float,\n",
        "                              y3: str, cor3: float, y4: str, cor4: float,\n",
        "                             hue_var: str, dados: pd.DataFrame):\n",
        "    \n",
        "    \"\"\"\n",
        "    Função para plotar os gráficos de linha para acompanhar a variação dos marcadores perante \n",
        "    os dois grupos de pacientes.\n",
        "    \"\"\"\n",
        "    \n",
        "    fig, ax = plt.subplots(2,2, figsize=(16,8), sharex=True)\n",
        "\n",
        "    sns.lineplot(data=dados, x='WINDOW', y=y1, hue= hue_var, ax=ax[0,0])\n",
        "    ax[0,0].set_title(f'{y1} - {cor1}', weight='bold')\n",
        "    handles, labels = ax[0,0].get_legend_handles_labels()\n",
        "    ax[0,0].legend(handles, ['Não', 'Sim'], title='Alguma vez ICU')  \n",
        "\n",
        "    sns.lineplot(data=dados, x='WINDOW', y=y2, hue= hue_var, ax=ax[0,1])\n",
        "    ax[0,1].set_title(f'{y2} - {cor2}', weight='bold')\n",
        "    handles, labels = ax[0,0].get_legend_handles_labels()\n",
        "    ax[0,1].legend(handles, ['Não', 'Sim'], title='Alguma vez ICU')   \n",
        "    \n",
        "    sns.lineplot(data=dados, x='WINDOW', y=y3, hue= hue_var, ax=ax[1,0])\n",
        "    ax[1,0].set_title(f'{y3} - {cor3}', weight='bold')\n",
        "    handles, labels = ax[0,0].get_legend_handles_labels()\n",
        "    ax[1,0].legend(handles, ['Não', 'Sim'], title='Alguma vez ICU') \n",
        "\n",
        "    sns.lineplot(data=dados, x='WINDOW', y=y4, hue= hue_var, ax=ax[1,1])\n",
        "    ax[1,1].set_title(f'{y4} - {cor4}', weight='bold')\n",
        "    handles, labels = ax[0,0].get_legend_handles_labels()\n",
        "    ax[1,1].legend(handles, ['Não', 'Sim'], title='Alguma vez ICU')\n",
        "    \n",
        "    fig.savefig('Correlação.png', dpi=150, bbox_inches='tight')\n",
        "    "
      ],
      "execution_count": 7,
      "outputs": []
    },
    {
      "cell_type": "code",
      "metadata": {
        "id": "r0weA85y8ffk"
      },
      "source": [
        "\n",
        "def roda_modelos_selecao_unica(dados: pd.DataFrame, n: int):\n",
        "    \"\"\"\n",
        "    Função criada para executar triagem de diversos modelos classificatórios perante os dados.\n",
        "    ###Passo a passo da função:\n",
        "    1. Aleatorizo a organização do dataframe;\n",
        "    2. Determino quais serão as variáveis X e variável Y;\n",
        "    3. Instancio os modelos;\n",
        "    4. Para cada modelo, executo um número de testes:\n",
        "       a) separo os dados de treino e teste;\n",
        "       b) faço o fit dos dados;\n",
        "       c) coleto a métrica AUC para cada iteração;\n",
        "       d) retorno a média e o intervalo de confiança da AUC de cada modelo;\n",
        "    5. Por fim, retorno um dataframe contendo o nome de cada modelo e as métricas obitidas, organizdas\n",
        "       do melhor resultado para  o pior.\n",
        "    \"\"\"\n",
        "    dados = dados.sample(frac=1).reset_index(drop=True)\n",
        "    y = dados['ICU']\n",
        "    x = dados.drop(['ICU', 'WINDOW'], axis=1)\n",
        "    \n",
        "    modelo_dummy =          DummyClassifier()\n",
        "    modelo_logit =          LogisticRegression(max_iter=10000)\n",
        "    modelo_arvore =         DecisionTreeClassifier()\n",
        "    modelo_random_forest =  RandomForestClassifier(n_estimators=100)\n",
        "    modelo_gradient_boost = GradientBoostingClassifier(n_estimators=100)\n",
        "  \n",
        "    lista_modelos = [modelo_dummy, modelo_logit, modelo_arvore, modelo_random_forest, modelo_gradient_boost]\n",
        "    nome_modelos = ['DummyRegressor', 'LogisticRegression', 'DecisionTreeClassifier', 'RandomForestClassifier',\n",
        "                    'GradientBoostingClassifier']\n",
        "    \n",
        "    \n",
        "    df = pd.DataFrame(columns=['Modelo', f'AUC_Mean{n}', f'IC_Min{n}', f'IC_Max{n}'])\n",
        "    lines = []\n",
        "    for modelo in range(len(lista_modelos)):\n",
        "        auc_lista = []\n",
        "        for _ in range(n):\n",
        "            x_train, x_test, y_train, y_test = train_test_split(x, y, stratify = y)\n",
        "            lista_modelos[modelo].fit(x_train, y_train)\n",
        "            prob_predict = lista_modelos[modelo].predict_proba(x_test)\n",
        "            auc = roc_auc_score(y_test, prob_predict[:,1])\n",
        "            auc_lista.append(auc)\n",
        "        auc_medio = np.mean(auc_lista)\n",
        "        auc_std = np.std(auc_lista)\n",
        "        lines.append([nome_modelos[modelo], auc_medio, auc_medio - 2* auc_std, auc_medio + 2* auc_std])\n",
        "    for i in range(len(lines)):\n",
        "        df.loc[i] = lines[i]\n",
        "    \n",
        "    return df.sort_values(f'AUC_Mean{n}', ascending=False).reset_index(drop=True)\n",
        "\n",
        "\n",
        "def roda_modelos_selecao_unica_aleatoria(dados: pd.DataFrame, n: int):\n",
        "    \"\"\"\n",
        "    Função muito similar à roda_modelos_selecao_unica(), com a peculariedade de\n",
        "    remover 84 pacientes que nunca foram para a UTI de forma aleatória antes de \n",
        "    testar e treinar os modelos.\n",
        "    \"\"\"\n",
        "    dados = dados.sample(frac=1).reset_index(drop=True)\n",
        "    pct_id = dados.query('ICU ==0')['PATIENT_VISIT_IDENTIFIER'].tolist()\n",
        "    remover = sample(pct_id, 84)\n",
        "    \n",
        "    dados = dados.query('PATIENT_VISIT_IDENTIFIER not in @remover')\n",
        "    y = dados['ICU']\n",
        "    x = dados.drop(['ICU', 'WINDOW', 'PATIENT_VISIT_IDENTIFIER'], axis=1)\n",
        "    \n",
        "    modelo_dummy =          DummyClassifier()\n",
        "    modelo_logit =          LogisticRegression(max_iter=10000)\n",
        "    modelo_arvore =         DecisionTreeClassifier()\n",
        "    modelo_random_forest =  RandomForestClassifier(n_estimators=100)\n",
        "    # modelo_extra_reg =      ExtraTreesRegressor(n_estimators=100)\n",
        "    modelo_gradient_boost = GradientBoostingClassifier(n_estimators=100)\n",
        "  \n",
        "    lista_modelos = [modelo_dummy, modelo_logit, modelo_arvore, modelo_random_forest, modelo_gradient_boost]\n",
        "    nome_modelos = ['DummyRegressor', 'LogisticRegression', 'DecisionTreeClassifier', 'RandomForestClassifier',\n",
        "                    'GradientBoostingClassifier']\n",
        "    \n",
        "    \n",
        "    df = pd.DataFrame(columns=['Modelo', f'AUC_Mean{n}', f'IC_Min{n}', f'IC_Max{n}'])\n",
        "    lines = []\n",
        "    \n",
        "    for modelo in range(len(lista_modelos)):\n",
        "        auc_lista = []\n",
        "        for _ in range(n):\n",
        "            x_train, x_test, y_train, y_test = train_test_split(x, y, stratify = y)\n",
        "            lista_modelos[modelo].fit(x_train, y_train)\n",
        "            prob_predict = lista_modelos[modelo].predict_proba(x_test)\n",
        "            auc = roc_auc_score(y_test, prob_predict[:,1])\n",
        "            auc_lista.append(auc)\n",
        "        auc_medio = np.mean(auc_lista)\n",
        "        auc_std = np.std(auc_lista)\n",
        "        lines.append([nome_modelos[modelo], auc_medio, auc_medio - 2* auc_std, auc_medio + 2* auc_std])\n",
        "    for i in range(len(lines)):\n",
        "        df.loc[i] = lines[i]\n",
        "    \n",
        "    return df.sort_values(f'AUC_Mean{n}', ascending=False).reset_index(drop=True)"
      ],
      "execution_count": 8,
      "outputs": []
    },
    {
      "cell_type": "code",
      "metadata": {
        "id": "uMmIEGoG8ffk"
      },
      "source": [
        "def remove_corr_var(dados: pd.DataFrame, valor_corte: int):\n",
        "    \"\"\"\n",
        "    Função que analiza a correlação de pearson entre as variáveis do banco de dados.\n",
        "    Cria uma matriz aplicando uma máscara para remover os dados espelhados.\n",
        "    Retorna os dados já sem as variáveis com correlação maior que o valor de corte\n",
        "    \"\"\"\n",
        "    matrix_corr = dados.iloc[:,4:-2].corr().abs()\n",
        "    matrix_upper = matrix_corr.where(np.triu(np.ones(matrix_corr.shape), k =1).astype(np.bool))\n",
        "    excluir = [coluna for coluna in  matrix_upper.columns if any(matrix_upper[coluna] > valor_corte)]\n",
        "    \n",
        "    return dados.drop(excluir, axis=1)"
      ],
      "execution_count": 9,
      "outputs": []
    },
    {
      "cell_type": "code",
      "metadata": {
        "id": "oHwKisa38ffk"
      },
      "source": [
        "def roda_modelo_cv(modelo, dados: pd.DataFrame, n_splits: int, n_repeats: int):\n",
        "    \"\"\"\n",
        "    Função que executa validação cruzada de um certo modelo com um número de divisões\n",
        "    nos dados e um número de repetições nos testes.\n",
        "    ### Parâmetros:\n",
        "    modelo   --> Modelo a ser avaliado;\n",
        "    dados    --> Pandas dataframe que contém os dados a serem avaliados;\n",
        "    n_splits --> Número de fragmentações feitas nos dados para treino e teste;\n",
        "    n_repeats -> Número de repetições em que o processo será realizado\n",
        "    ### Passo a passo da função:\n",
        "    1. Aleatoriza a organização do dataframe;\n",
        "    2. Determina quais serão as variáveis X e variável Y;\n",
        "    3. Executa o processo de validação cruzada com os parâmetros n_splits e n_repeats;\n",
        "    4. Retorna o modelo utilizado, a média de AUC e o intervalo de confiança da AUC\n",
        "    \"\"\"\n",
        "  \n",
        "    np.random.seed(321351654)\n",
        "    dados = dados.sample(frac=1).reset_index(drop=True)\n",
        "    x_columns = dados.columns\n",
        "    y = dados['ICU']\n",
        "    x = dados.drop(['ICU', 'WINDOW', 'PATIENT_VISIT_IDENTIFIER'], axis=1)\n",
        "    \n",
        "   \n",
        "    cv = RepeatedStratifiedKFold(n_splits=n_splits, n_repeats=n_repeats)\n",
        "    resultados = cross_validate(modelo, x, y, cv=cv, scoring='roc_auc')\n",
        "\n",
        "\n",
        "    auc_medio = np.mean(resultados['test_score'])\n",
        "    auc_std= np.std(resultados['test_score'])\n",
        "    \n",
        "    return modelo, auc_medio, (auc_medio - (2*auc_std)), (auc_medio + (2*auc_std))\n",
        "\n",
        "def roda_cross_validate_modelos(modelos: list, dados: pd.DataFrame, n_splits: int, n_repeats: int):\n",
        "    \"\"\"\n",
        "    Função que automatiza o processo de validação cruzada, permitindo a avaliação\n",
        "    de diversos modelos dentro de uma lista.\n",
        "    \n",
        "    Retorna um dataframe contendo as informações e métricas de cada modelo.\n",
        "    \"\"\"\n",
        "    scores = []\n",
        "    for i in modelos:\n",
        "        modelo, auc_medio, ic_auc_min, ic_auc_max = roda_modelo_cv(i, dados, n_splits, n_repeats)\n",
        "        scores.append([modelo, auc_medio, ic_auc_min, ic_auc_max])\n",
        "    return pd.DataFrame(data=scores, columns=['Modelo',f'AUC_Mean', 'IC_Min', 'IC_Max'])\n"
      ],
      "execution_count": 10,
      "outputs": []
    },
    {
      "cell_type": "code",
      "metadata": {
        "id": "YZxKU_Qy8ffm"
      },
      "source": [
        "def roda_modelo_cv_min_max(modelo, dados: pd.DataFrame, n_splits: int, n_repeats: int):\n",
        "    \"\"\"\n",
        "    Função muito semelhante à função roda_modelo_cv(), com pequenas modificações para\n",
        "    ser usada com o dataframe de pacientes fictícios \n",
        "    \"\"\"\n",
        "  \n",
        "    np.random.seed(321351654)\n",
        "    dados = dados.sample(frac=1).reset_index(drop=True)\n",
        "    x_columns = dados.columns\n",
        "    y = dados['ICU_EVER']\n",
        "    x = dados.drop(['ICU', 'ICU_EVER', 'WINDOW', 'PATIENT_VISIT_IDENTIFIER'], axis=1)\n",
        "    \n",
        "   \n",
        "    cv = RepeatedStratifiedKFold(n_splits=n_splits, n_repeats=n_repeats)\n",
        "    resultados = cross_validate(modelo, x, y, cv=cv, scoring='roc_auc')\n",
        "\n",
        "\n",
        "    auc_medio = np.mean(resultados['test_score'])\n",
        "    auc_std= np.std(resultados['test_score'])\n",
        "    \n",
        "    return modelo, auc_medio, (auc_medio - (2*auc_std)), (auc_medio + (2*auc_std))\n",
        "\n",
        "def roda_cross_validate_modelos_min_max(modelos: list, dados: pd.DataFrame, n_splits: int, n_repeats: int):\n",
        "    \"\"\"\n",
        "    Função que automatiza o processo de validação cruzada, permitindo a avaliação\n",
        "    de diversos modelos dentro de uma lista.\n",
        "    \n",
        "    Retorna um dataframe contendo as informações e métricas de cada modelo.\n",
        "    \"\"\"\n",
        "    scores = []\n",
        "    for i in modelos:\n",
        "        modelo, auc_medio, ic_auc_min, ic_auc_max = roda_modelo_cv_min_max(i, dados, n_splits, n_repeats)\n",
        "        scores.append([modelo, auc_medio, ic_auc_min, ic_auc_max])\n",
        "    return pd.DataFrame(data=scores, columns=['Modelo',f'AUC_Mean', 'IC_Min', 'IC_Max'])\n"
      ],
      "execution_count": 11,
      "outputs": []
    },
    {
      "cell_type": "code",
      "metadata": {
        "id": "y8BYpnV1sx95"
      },
      "source": [
        "def gera_max_min(dados: pd.DataFrame):\n",
        "    \"\"\"\n",
        "    Função que gera um novo dataframe contendo as versões máximas e mínimas para cada paciente.\n",
        "    \"\"\"\n",
        "    maximo = dados.groupby('PATIENT_VISIT_IDENTIFIER', as_index=False).max()\n",
        "    minimo = dados.groupby('PATIENT_VISIT_IDENTIFIER', as_index=False).min()\n",
        "    \n",
        "    dataframe = pd.concat([maximo, minimo])\n",
        "    \n",
        "    return dataframe.sort_values('PATIENT_VISIT_IDENTIFIER')\n",
        "\n",
        "def estratifica_max_min(dados_lim: pd.DataFrame, dados_max: pd.DataFrame, razao_train_test: int):\n",
        "    \"\"\"\n",
        "    Função que busca separar de forma estratificada os pacientes que irão para treino e teste, garantindo\n",
        "    que as versões de cada paciente não estejam nos dois conjuntos ao mesmo tempo.\n",
        "    \"\"\"\n",
        "    \n",
        "    dataframe_expandido = gera_max_min(dados_max)   \n",
        "\n",
        "    # Lista de pacientes ICU = 1: estratificação da var y para teste.\n",
        "    alguma_uti_id = (dados_lim[dados_lim['ICU'] == 1]\n",
        "                     ['PATIENT_VISIT_IDENTIFIER'].unique().tolist())\n",
        "    estratificar_alguma_uti = sample(alguma_uti_id, int(len(alguma_uti_id)/razao_train_test))\n",
        "    \n",
        "    # Lista de pacientes ICU = 0: estratificação da var y para teste\n",
        "    nunca_uti_id = (dados_lim[dados_lim['ICU'] == 0]\n",
        "                    ['PATIENT_VISIT_IDENTIFIER'].unique().tolist())\n",
        "    estratificar_nunca_uti = sample(nunca_uti_id, int(len(nunca_uti_id)/razao_train_test))    \n",
        "    \n",
        "    return dataframe_expandido, estratificar_alguma_uti, estratificar_nunca_uti\n",
        "\n",
        "def train_test_split_stratified_manual_max_min(dados_lim: pd.DataFrame, dados_max, razao_train_test):\n",
        "    \"\"\"\n",
        "    Função que separa os conjuntos de treino e teste de forma estratificada e treina o modelo, retornando\n",
        "    as métricas de interesse.\n",
        "    \"\"\"\n",
        "    df_balanceado, strat_uti, strat_nunca_uti = estratifica_max_min(dados_lim, dados_max, razao_train_test)\n",
        "    \n",
        "    # Juntando as duas listas que contém a proporção adequada de pacientes que foram e não para a UTI\n",
        "    lista_ids_teste = strat_uti + strat_nunca_uti\n",
        "    \n",
        "    # Conjuntos de treino não devem ter os ids presentes em 'estratificar_alguma_uti'\n",
        "    treino = df_balanceado.query('PATIENT_VISIT_IDENTIFIER not in @lista_ids_teste')\n",
        "    x_train = treino.drop(['PATIENT_VISIT_IDENTIFIER', 'ICU', 'ICU_EVER', 'WINDOW'], axis=1)\n",
        "    y_train = treino['ICU_EVER']\n",
        "    \n",
        "    # Conjuntos de teste devem conter apenas os ids presentes em 'estratificar_alguma_uti'\n",
        "    teste = df_balanceado.query('PATIENT_VISIT_IDENTIFIER in @lista_ids_teste')\n",
        "    x_test = teste.drop(['PATIENT_VISIT_IDENTIFIER', 'ICU', 'ICU_EVER', 'WINDOW'], axis=1)\n",
        "    y_test = teste['ICU_EVER']\n",
        "\n",
        "    modelo_random_forest = modelo_random_forest_param_extra\n",
        "    modelo_random_forest.fit(x_train, y_train)\n",
        "    \n",
        "    previsao = modelo_random_forest.predict(x_test)\n",
        "    recall = recall_score(y_test, previsao)\n",
        "    \n",
        "    prob_predict = modelo_random_forest.predict_proba(x_test)\n",
        "    auc = roc_auc_score(y_test, prob_predict[:,1])\n",
        "    \n",
        "    f1 = f1_score(y_test, previsao)\n",
        "    precision = accuracy_score(y_test, previsao)\n",
        "\n",
        "    \n",
        "    return auc, recall, f1, precision\n",
        "\n",
        "def testa_n_vezes_max_min(n_repeats: int, razao_train_test: int):\n",
        "    \"\"\"\n",
        "    Função que executa o processo de separação de treino e teste estratificada dos dados um certo número de vezes\n",
        "    \"\"\"\n",
        "    scores = []\n",
        "    for _ in range(n_repeats):\n",
        "        auc, recall, f1, precision = train_test_split_stratified_manual_max_min(limitados, maximizados, razao_train_test)\n",
        "        scores.append([auc, recall, f1, precision])\n",
        "    colunas = [f'AUC_Média{n_repeats}', f'Recall_Médio{n_repeats}',\n",
        "               f'F1_Médio{n_repeats}', f'Precision_Médio{n_repeats}']\n",
        "    dataframe = pd.DataFrame(columns=colunas,data=scores)\n",
        "    return pd.DataFrame(columns=colunas, data=[dataframe.mean()])\n",
        "\n",
        "def train_test_split_stratified_manual_max_min_reais(dados_lim: pd.DataFrame, dados_max, razao_train_test):\n",
        "    \"\"\"\n",
        "    Função que separa os conjuntos de treino e teste de forma estratificada e treina o modelo, retornando\n",
        "    as métricas de interesse. Desenvolvida para treinar o modelo randomforest com os dados max e min e \n",
        "    testar com pacientes reais deixados de fora, usando apenas a primeira janela deles.\n",
        "    \"\"\"\n",
        "    df_balanceado, strat_uti, strat_nunca_uti = estratifica_max_min(dados_lim, dados_max, razao_train_test)\n",
        "    \n",
        "    # Juntando as duas listas que contém a proporção adequada de pacientes que foram e não para a UTI\n",
        "    lista_ids_teste = strat_uti + strat_nunca_uti\n",
        "    \n",
        "    # Conjuntos de treino não devem ter os ids presentes em 'estratificar_alguma_uti'\n",
        "    treino = df_balanceado.query('PATIENT_VISIT_IDENTIFIER not in @lista_ids_teste')\n",
        "    x_train = treino.drop(['PATIENT_VISIT_IDENTIFIER', 'ICU', 'ICU_EVER', 'WINDOW'], axis=1)\n",
        "    \n",
        "    y_train = treino['ICU_EVER']\n",
        "    \n",
        "    # Conjuntos de teste devem conter apenas os ids presentes em 'estratificar_alguma_uti'\n",
        "    treino_columns = treino.drop('ICU_EVER', axis=1).columns\n",
        "    teste = limitados.query('PATIENT_VISIT_IDENTIFIER in @lista_ids_teste')\n",
        "    x_test = teste.drop(['PATIENT_VISIT_IDENTIFIER', 'ICU', 'WINDOW'], axis=1)\n",
        "    y_test = teste['ICU']\n",
        "\n",
        "    modelo_random_forest = modelo_random_forest_param_extra   \n",
        "    modelo_random_forest.fit(x_train, y_train)\n",
        "    \n",
        "    previsao = modelo_random_forest.predict(x_test)\n",
        "    recall = recall_score(y_test, previsao)\n",
        "    \n",
        "    prob_predict = modelo_random_forest.predict_proba(x_test)\n",
        "    auc = roc_auc_score(y_test, prob_predict[:,1])\n",
        "    \n",
        "    f1 = f1_score(y_test, previsao)\n",
        "    precision = accuracy_score(y_test, previsao)\n",
        "\n",
        "    \n",
        "    return auc, recall, f1, precision, modelo_random_forest, x_test, y_test\n",
        "\n",
        "\n",
        "def testa_n_vezes_max_min_reais(n_repeats, razao_train_test):\n",
        "    \"\"\"\n",
        "    Roda o processo de treino com dados max_min e teste com dados reais da janela 0-2 diversas vezes e \n",
        "    retorna métricas médias de todos os testes.\n",
        "    \"\"\"\n",
        "    scores = []\n",
        "    for _ in range(n_repeats):\n",
        "        auc, recall, f1, precision, modelo_random_forest, x_test, y_test= train_test_split_stratified_manual_max_min_reais(limitados, maximizados, razao_train_test)\n",
        "        scores.append([auc, recall, f1, precision])\n",
        "    colunas = [f'AUC_Média{n_repeats}', f'Recall_Médio{n_repeats}',\n",
        "               f'F1_Médio{n_repeats}', f'Precision_Médio{n_repeats}']\n",
        "    dataframe = pd.DataFrame(columns=colunas,data=scores)\n",
        "    \n",
        "    fig, ax = plt.subplots(1,1, figsize=(6,6))\n",
        "    \n",
        "    plot_confusion_matrix(modelo_random_forest, x_test, y_test, ax= ax, cmap='Blues')\n",
        "    ax.set_title('Matriz de confusão: \\n modelo RandomForest', y=-0.4, fontsize=16)\n",
        "    ax.set_ylabel('Classificação verdadeira', fontsize=12)\n",
        "    ax.set_xlabel('Classificação predita', fontsize=12)\n",
        "    \n",
        "    return pd.DataFrame(columns=colunas, data=[dataframe.mean()])"
      ],
      "execution_count": 12,
      "outputs": []
    },
    {
      "cell_type": "markdown",
      "metadata": {
        "id": "ixT2gSEp8ffm"
      },
      "source": [
        "# Projeto final\n"
      ]
    },
    {
      "cell_type": "markdown",
      "metadata": {
        "id": "Fmu2aLXb8ffm"
      },
      "source": [
        "## **Resumo das etapas do projeto**\n",
        "1. **Tratamento dos dados**:\n",
        "\n",
        "Os dados brutos foram avaliados, buscando entender qual era a frequência de dados faltantes na base e a distribuição deles nos pacientes. Foram identificados 58 pacientes que não se encaixavam dentro das diretrizes do desafio. Após remoção destes, os dados nulos restantes foram preenchidos com técnicas de preenchimento para frente (*forwardfill*) e para trás (*backfill*). Por fim, uma nova variável foi criada (`ICU_EVER`), para facilitar o agrupamento dos pacientes em grupos.\n",
        "\n",
        "2. **Seleção de variáveis para treinamento**:\n",
        "\n",
        "Foi feita remoção de variáveis redudantes e seleção das que tinham maior correlação com a variável de estudo.\n",
        "\n",
        "3. **Bancos utilizados no treinamento dos modelos**:\n",
        "\n",
        "Com a conclusão das etapas anteriores, foram preparados dois bancos:\n",
        "* dados_limitados: conjunto que representa os dados de apenas a primeira janela de cada paciente;\n",
        "* dados_maximizados: conjunto contendo o máximo de dados de cada paciente. Posteriormente transformado em um banco de pacientes fictícios, usando valores máximos e mínimos de cada paciente.\n",
        "***\n",
        "![Graphical Abstract](https://raw.githubusercontent.com/souzajvp/data_science_bootcamp/main/modulo_final/graphical-abstract-bootcamp.png)\n",
        "Créditos da figura: [Letícia Sayuri Murase](https://www.researchgate.net/profile/Leticia-Murase)"
      ]
    },
    {
      "cell_type": "markdown",
      "metadata": {
        "id": "UMP-O3BDs8LJ"
      },
      "source": [
        "**Links e referência**:\n",
        "* [Dataset Kaggle](https://www.kaggle.com/S%C3%ADrio-Libanes/covid19);\n",
        "\n",
        "## Problema\n",
        "Classificar os pacientes internados com COVID-19 no hospital Sírio Libanês (Brasília-DF e São Paulo-SP) de acordo com a necessidade ou não as instalações das Unidades de Terapia Intensiva (UTIs). <br>\n",
        "\n",
        "### Objetivos/Tarefas:\n",
        "1. Prever quais pacientes necessitarão de UTI;\n",
        "2. Prever quais pacientes NÃO necessitarão de UTI.\n",
        "\n",
        "### Variável de interesse e Janela: \n",
        "* UTI ou não - `ICU` - (0,1);\n",
        "* Janela de tempo - `WINDOW` - ['0-2', '2-4', '6-12', 'Above-12');\n",
        "    \n",
        "### Critérios obrigatórios\n",
        "Não se pode utilizar os dados quando o paciente deu entrada na UTI -> `ICU = 1`\n",
        "    \n",
        "### Aspectos dos dados\n",
        "Os dados foram **anonimizados e escalados** para manterem-se entre 0 e 1 de acordo com valores máximos e mínimos;\n",
        "\n",
        "### Entendendo as variáveis disponíveis:\n",
        "***\n",
        "* Informações demgráficas (03);\n",
        "* Agrupamento de doenças (09);\n",
        "* Resultados de exames de sangue (36);\n",
        "* Sinais vitais (06). <br>\n",
        "\n",
        "Diversas variáveis foram expandidas para versões `média`, `mediana`, `máximo`, `mínimo`, `diff` e `diff relativo`.\n",
        "* diff = `valor máximo` - `valor mínimo`;\n",
        "* diff relativo = `diff` / `mediana`\n",
        "\n",
        "### Entendendo a estrutura dos dados:\n",
        "***\n",
        "Neste desafio, temos dados de pacientes positivos para COVID-19 internados no Hospital Sírio Libânes de São Paulo-SP e Brasília-DF. De forma geral, temos até 5 entradas que representam dados de um mesmo paciente. Essas entradas são referentes à diferentes janelas de tempo (`0-2, 2-4, 4-6, 6-12, >12`) em que os pacientes foram acompanhados. Para cada uma das janelas, foram dosados diversos marcadores biológicos e sinais vitais. <br>\n",
        "Resumidamente, a estrutura do banco é a seguinte:\n",
        "\n",
        "**Tabela 1. Estrutura de repetição dos dados no banco usado no desafio.**\n",
        "\n",
        "| **Paciente** | **Janela** | **Exame_1** | **Exame_2** | ... | **UTI** |\n",
        "|:------------:|:----------:|:-----------:|:-----------:|-----|:-------:|\n",
        "|       A      |     0-2    |      1      |      4      | ... |    0    |\n",
        "|       A      |     2-4    |      1      |     3.5     | ... |    0    |\n",
        "|       A      |     4-6    |     1,1     |     3.7     | ... |    0    |\n",
        "|       A      |    6-12    |     1,2     |     3.8     | ... |    0    |\n",
        "|       A      |     >12    |     1,3     |     4.1     | ... |  **1**  |\n",
        "|              |            |             |             |     |         |\n",
        "|       B      |     0-2    |      2      |      2      | ... |    0    |\n",
        "|       B      |     2-4    |     1,9     |     2.5     | ... |  **1**  |\n",
        "\n",
        "\n",
        "\n",
        "Essa estrutura de repetição para cada paciente representa um problema de **medições repetidas** (do inglês *multiple measures* ou *repeated measures*), que é comum para bancos ou estudos na área da saúde. Nesse tipo de dados temos uma dependência entre as amostras de cada paciente. Ou seja, os dados da janela `2-4` do paciente A são muito dependentes dos dados da janela anterior (`0-2`) desse mesmo paciente A. <br>\n",
        "Em situações assim, podem ser empregados **modelos lineares mistos** ou **modelos para análise de sobrevivência que consideram esse agrupamento dos pacientes**:\n",
        "* >[Introduction to linear mixed models](https://ourcodingclub.github.io/tutorials/mixed-models/#what);\n",
        "* >[Piecewise exponential models and creating custom models](https://lifelines.readthedocs.io/en/latest/jupyter_notebooks/Piecewise%20Exponential%20Models%20and%20Creating%20Custom%20Models.html);\n",
        "* >[How Linear Mixed Model Works](https://towardsdatascience.com/how-linear-mixed-model-works-350950a82911);\n",
        "* > [Comparing common analysis strategies for repeated measures data](https://eshinjolly.com/2019/02/18/rep_measures/).\n",
        "\n",
        "Apesar de entender que esses modelos seriam úteis, a complexidade dos nossos dados e desses modelos mais refinados me impediu de seguir com a implementação e testes. Desta forma segui com uma abordagem mais \"convencional\".\n",
        "***\n",
        "Deste modo, percebemos que  **escolha da conduta para trabalhar com os dados não é trivial**."
      ]
    },
    {
      "cell_type": "markdown",
      "metadata": {
        "id": "2TJ3216K8ffm"
      },
      "source": [
        "Importando os dados do GitHub"
      ]
    },
    {
      "cell_type": "code",
      "metadata": {
        "id": "JZ0lkLJpsx95"
      },
      "source": [
        "url = 'https://github.com/souzajvp/data_science_bootcamp/raw/main/modulo_final/Kaggle_Sirio_Libanes_ICU_Prediction.xlsx'\n",
        "# url = '/media/newhd/joao-souza/projects/ds_projects/bootcamp/modulo_final/archive/Kaggle_Sirio_Libanes_ICU_Prediction.xlsx'\n",
        "covid = pd.read_excel(url)"
      ],
      "execution_count": 13,
      "outputs": []
    },
    {
      "cell_type": "markdown",
      "metadata": {
        "id": "4-0z2OA4sx96"
      },
      "source": [
        "Sabendo agora da estrutura dos dados, podemos seguir com um dos primeiros critérios para realização deste desafio proposto pela Alura e pela equipe do Hospital Sírio Libanês:\n",
        "* Não podemos trabalhar com os dados dos pacientes a partir do momento que adentraram à UTI.\n",
        "\n",
        "Obs: Isso é ainda de maior relevância para pacientes que adentraram à UTI na primeira janela, já que todos os dados subsequentes representam informações já de dentro da UTI.\n",
        "\n",
        "Assim, **fiz a remoção dos pacientes que adentraram a UTI na primeira janela.**"
      ]
    },
    {
      "cell_type": "code",
      "metadata": {
        "id": "c7aOAP2Hsx97"
      },
      "source": [
        "a_remover = covid.query(\"WINDOW == '0-2' & ICU == 1\")['PATIENT_VISIT_IDENTIFIER'].values\n",
        "covid_limpo = covid.query('PATIENT_VISIT_IDENTIFIER not in @a_remover')"
      ],
      "execution_count": 14,
      "outputs": []
    },
    {
      "cell_type": "markdown",
      "metadata": {
        "id": "-VE6fhzfsx98"
      },
      "source": [
        "## <font color ='red'> >> </font> Dados faltantes e vazamento de dados\n",
        "***\n",
        "Antes de qualquer análise, precisamos entender a presença e padrões de dados faltantes no nosso banco. Na verdade isso é de importância ainda maior neste casos já que o preenchimento desses dados faltantes vai influenciar na capacidade dos modelos em fazer previsões. <br> <br>\n",
        "Uma das recomendações da equipe do Hospital Sírio Libanês é a de que os valores das variáveis em questão não se alteram tanto de uma janela para a outra. Assim, podeíamos preencher os dados faltantes com *backfill* e *forwardfill*.\n",
        "\n",
        "**Tabela 2. Estratégia de preenchimento de dados nulos usando preenchimento para frente e para trás.** <br>\n",
        "\n",
        "\n",
        "| **Paciente** | **Janela** | **Exame_1** | **Exame_2** | ... | **UTI** |   | --> |   | **Paciente** | **Janela** | **Exame_1** | **Exame_2** | ... | **UTI** |\n",
        "|:------------:|:----------:|:-----------:|:-----------:|-----|:-------:|---|-----|---|:------------:|:----------:|:-----------:|:-----------:|-----|:-------:|\n",
        "|       A      |     0-2    |  **Vazio**  |  **Vazio**  | ... |    0    |   | --> |   |       A      |     0-2    |    **1**    |   **3.5**   | ... |    0    |\n",
        "|       A      |     2-4    |      1      |     3.5     | ... |    0    |   | --> |   |       A      |     2-4    |      1      |     3.5     | ... |    0    |\n",
        "|       A      |     4-6    |     1,1     |     3.7     | ... |    0    |   | --> |   |       A      |     4-6    |     1.1     |     3.7     | ... |    0    |\n",
        "|       A      |    6-12    |  **Vazio**  |  **Vazio**  | ... |    0    |   | --> |   |       A      |    6-12    |   **1.1**   |   **3.7**   | ... |    0    |\n",
        "|       A      |     >12    |     1,3     |     4.1     | ... |    1    |   | --> |   |       A      |     >12    |     1,3     |     4.1     | ... |    1    |\n",
        "\n",
        "\n",
        "Na tabela acima, vemos a aplicação dos métodos de preenchimento sugeridos. Com o preenchimento para frente (*forwardfill*), um dado vazio é preenchido por uma cópia de dados presentes na linha anterior, isso pode ser visto na linha da janela `6-12`. Já o preenchimento para trás (*backfill*), preenche a linha com dados vazios usando uma cópia de uma linha seguinte com dados presentes, como exemplificado na linha da janela `0-2` na tabela.\n",
        "\n",
        "<br>\n",
        "Em situações comuns, essa estratégia funcionaria corretamente. O problema aqui é que <font color ='red'> pode haver vazamento de dados provenientes de janelas onde o paciente já está na UTI </font>. Isso vai ocorrer em situações que todos os dados de um paciente sejam nulos até o momento que ele entre na UTI. <br>\n",
        "\n",
        "**Tabela 3. Vazamento de dados em situações que todas as janelas anteriores ao paciente entrar na UTI contém apenas dados nulos.** \n",
        "\n",
        "\n",
        "| **Paciente** | **Janela** | **Exame_1** | **Exame_2** | ... | **UTI** |   | --> |   | **Paciente** | **Janela** | **Exame_1** | **Exame_2** | ... | **UTI** |\n",
        "|:------------:|:----------:|:-----------:|:-----------:|-----|:-------:|---|-----|---|:------------:|:----------:|:-----------:|:-----------:|-----|:-------:|\n",
        "|       C      |     0-2    |  **Vazio**  |  **Vazio**  | ... |    0    |   | --> |   |       C      |     0-2    |   **1.3**   |   **4.1**   | ... |    0    |\n",
        "|       C      |     2-4    |  **Vazio**  |  **Vazio**  | ... |    0    |   | --> |   |       C      |     2-4    |   **1.3**   |   **4.1**   | ... |    0    |\n",
        "|       C      |     4-6    |  **Vazio**  |  **Vazio**  | ... |    0    |   | --> |   |       C      |     4-6    |   **1.3**   |   **4.1**   | ... |    0    |\n",
        "|       C      |    6-12    |     1.3     |     4.1     | ... |    1    |   | --> |   |       C      |    6-12    |     1.3     |     4.1     | ... |    1    |\n",
        "|       C      |     >12    |     1.5     |     4.6     | ... |    1    |   | --> |   |       C      |     >12    |     1.5     |     4.6     | ... |    1    |\n",
        "\n",
        "\n",
        "Nessas situações, notamos o vazamento dos dados da UTI para outras janelas, destacados em negrito na versão da tabela na direita. <br>\n",
        "\n",
        "**Para evitar esse problema** eu e o [@renatodanova](https://www.linkedin.com/in/renato-da-nova-favarin/) discutimos duas estratégias:\n",
        "1. Avaliar se existem colunas específicas que apresentam esse comportamento e removê-las do estudo;\n",
        "2. Remover pacientes que apresentem esse comportamento em linhas anteriores a `ICU = 1`.\n",
        "***\n",
        "**Considerando a primeira possibilidade¹** (*Avaliar se existem colunas específicas que apresentam esse comportamento e removê-las do estudo*), temos:\n",
        "* Temos 216 colunas em que há pelo menos um paciente que tem dados nulos em todas as linhas antes de entrar na UTI;\n",
        "* Apenas **15 colunas** restariam após a exlcusão destas 216;\n",
        "* Estas 15 contemplam variáveis descritivas como : `GENDER, IMMUNOCOMPROMISED, PATIENT_VISIT_IDENTIFIER`.\n",
        "\n",
        "Ou seja, são informações descritivas de cada paciente que não requerem dosagem, como gênero, por exemplo.\n",
        "\n",
        "**Considerando a segunda possibilidade** (*Remover pacientes que apresentem esse comportamento em linhas anteriores a `ICU = 1`*), temos:\n",
        "* 58 pacientes que tem dados faltantes em todas as linhas antes de entrarem na UTI;\n",
        "* Assim, dos 163 pacientes que eventualmente foram para a UTI, **nos restariam 105!**\n",
        "\n",
        "¹ - Código não mostrado"
      ]
    },
    {
      "cell_type": "code",
      "metadata": {
        "colab": {
          "base_uri": "https://localhost:8080/"
        },
        "id": "jMdK5mTRsx98",
        "outputId": "d52bb7c6-82f9-449c-f6c8-583625c1e660"
      },
      "source": [
        "# Dataframe contendo somente pacientes que foram pra UTI\n",
        "uti_id = covid_limpo.query('ICU == 1')['PATIENT_VISIT_IDENTIFIER'].unique()\n",
        "uti = covid_limpo.query('PATIENT_VISIT_IDENTIFIER in @uti_id')\n",
        "colunas_com_nulos, pacientes_com_nulos = testa_e_retorna_pacientes_nulos(uti)\n",
        "print(f\"Temos {len(pacientes_com_nulos)} pacientes com valores nulos\\n\")\n",
        "print(f\"Temos {len(colunas_com_nulos)} colunas com valores nulos\\n\")"
      ],
      "execution_count": 15,
      "outputs": [
        {
          "output_type": "stream",
          "text": [
            "Temos 58 pacientes com valores nulos\n",
            "\n",
            "Temos 216 colunas com valores nulos\n",
            "\n"
          ],
          "name": "stdout"
        }
      ]
    },
    {
      "cell_type": "markdown",
      "metadata": {
        "id": "rRThWKvasx98"
      },
      "source": [
        "### <font color='blue'> >> </font> Decidi remover os 58 pacientes da análise, já que a inclusão deles vai contra os requisitos do desafio "
      ]
    },
    {
      "cell_type": "code",
      "metadata": {
        "id": "wZqTs6UOsx99"
      },
      "source": [
        "covid_sem_nulos = covid_limpo.query('PATIENT_VISIT_IDENTIFIER not in @pacientes_com_nulos')"
      ],
      "execution_count": 16,
      "outputs": []
    },
    {
      "cell_type": "markdown",
      "metadata": {
        "id": "CTvGE5uRsx99"
      },
      "source": [
        "Após ter removido os pacientes que apresentavam esse tipo de problema, posso enfim preencher os valores nulos do banco de dados usando a função `preenche_tabela()`, criada em aula. Resumidamente, usamos essa função para fazer o preenchimento dos dados em branco para frente e depois para trás. **A ordem de preenchimento é importante** pois ao preenchermos para frente primeiro, impedimos que dados vindos da UTI vazem para uma janela anterior que poderia ter dados nulos.\n",
        "***\n",
        "Ao analisar os dados faltantes após limpeza, notei que um paciente possuia dados nulos para uma série de variáveis. Este paciente não foi notado anteriormente pois faz parte dos que nunca foram para a UTI. Assim, removerei-o da análise."
      ]
    },
    {
      "cell_type": "code",
      "metadata": {
        "id": "-VkE2fTqsx99"
      },
      "source": [
        "dados_limpos = preenche_tabela(covid_sem_nulos)\n",
        "dados_limpos = dados_limpos[dados_limpos['PATIENT_VISIT_IDENTIFIER'] != 199]"
      ],
      "execution_count": 17,
      "outputs": []
    },
    {
      "cell_type": "markdown",
      "metadata": {
        "id": "UAW57XfRsx99"
      },
      "source": [
        "## Estratégias de Análise:\n",
        "***\n",
        "Considerando a gravidade da COVID-19 em casos sérios, a capacidade de <font color='blue'>**prever se um paciente irá ou não para a UTI**</font> trata-se de uma **ferramenta muito útil para gerir serviços de saúde**. Além disso, saber <font color='red'>**em qual janela de tempo**</font> isso ocorrerá ou ao menos ser capaz de prever com maior agilidade possível, permite **planejamentos estratégicos mais eficazes e personalizáveis**. <br> \n",
        "Aqui se encaixa a temática do desafio: <font color='orange'> **É possível gerar um modelo Machine Learning capaz de dizer se um paciente com COVID-19 necessitará de um leito de UTI?** </font>\n"
      ]
    },
    {
      "cell_type": "markdown",
      "metadata": {
        "id": "gD9miFmosx9-"
      },
      "source": [
        "\n",
        "## <font color='red'> >> </font> Quantos dados de cada paciente devem ser usados para treinar o modelo?\n",
        "***\n",
        "Normalmente, pensa-se que um modelo de *machine learning* terá melhores resultados se trabalharmos com um grande volume de dados. **Usando a analogia do Guilherme Silveira**: *quanto mais cachorros meu filho vê, maior é a chance de ele acertar se um novo animal apresentado pra ele é um cachorro ou não!* <br>\n",
        "Apesar de isso fazer sentido, talvez seja mais interessante **limitar nossos dados** para efetuar predições ainda nas **primeiras horas de admissão de um paciente** no hospital. Ou seja, sacrificar parte da eficácia dos modelos em prol de um diagnóstico mais ágil. <br>\n",
        "Além disso, é complexo treinar um modelo que seja capaz de agrupar os pacientes de acordo com seu ID.\n",
        "***\n",
        "\n",
        "### <font color='blue'>>></font> Considerando as janelas de tempo que temos, pensei em comparar duas estratégias:\n",
        "\n",
        "1. **Estratégia de utilizar apenas 1 registro**:<br>\n",
        "Nessa estratégia, classificarei o primeiro registro dos pacientes que vão para a UTI em algum ponto como `ICU=1` e os que não vão em nenhum momento como `ICU=0`;<br>\n",
        "Em seguida, os dados seguintes serão descartados. Essa estratégia também foi a emprega durante o curso.\n",
        "\n",
        "2. **Estratégia de manter todos os dados possíveis**:<br>\n",
        "Possivelmente, se fossemos capazes de extrair informações quanto ao avanço do quado dos pacientes, poderíamos ter um modelo melhor. <br>\n",
        "Nestra estratégia, dado o período de tempo que o paciente foi pra UTI, ele receberia como valor 1 no período anterior;<br>\n",
        "Em seguida, os dados seguintes serão descartados."
      ]
    },
    {
      "cell_type": "code",
      "metadata": {
        "id": "2iEJ_Ubusx9-"
      },
      "source": [
        "# Dataframe contendo apenas uma entrada para cada paciente, classificada com ICU\n",
        "# =1 ou 0 de acordo com o histórico total\n",
        "dados_limitados = (dados_limpos.groupby('PATIENT_VISIT_IDENTIFIER').\n",
        "                   apply(remove_e_mantem_min_icu).reset_index(drop=True))\n",
        "\n",
        "# Dataframe contendo o máximo de entradas possíveis para cada paciente.\n",
        "dados_maximizados = (dados_limpos.groupby('PATIENT_VISIT_IDENTIFIER').\n",
        "                     apply(remove_e_mantem_max_icu).reset_index(drop=True))\n"
      ],
      "execution_count": 18,
      "outputs": []
    },
    {
      "cell_type": "markdown",
      "metadata": {
        "id": "41HEWB0fsx9_"
      },
      "source": [
        "**Tabela 4. Transformação dos dados na versão com apenas a prmeira janela de cada paciente - `dados_limitados`**.\n",
        "\n",
        "\n",
        "| **Paciente** | **Janela** | **UTI** |   | --> |   | **Paciente** | **Janela** | **UTI** |\n",
        "|:------------:|:----------:|:-------:|:-:|:---:|:-:|:------------:|:----------:|:-------:|\n",
        "|       A      |     0-2    |    0    |   | --> |   |       A      |     0-2    |    1    |\n",
        "|       A      |     2-4    |    0    |   | --> |   |       x      |      x     |    x    |\n",
        "|       A      |     4-6    |    0    |   | --> |   |       x      |      x     |    x    |\n",
        "|       A      |    6-12    |    1    |   | --> |   |       x      |      x     |    x    |\n",
        "|       A      |     >12    |    1    |   | --> |   |       x      |      x     |    x    |\n",
        "\n",
        "**Tabela 5. Transformação dos dados na versão com o máximo de janelas de cada paciente - `dados_maximizados`**.\n",
        "\n",
        "\n",
        "| **Paciente** | **Janela** | **UTI** |   | --> |   | **Paciente** | **Janela** | **UTI** |\n",
        "|:--------:|:------:|:---:|:-:|:-:|:-:|:--------:|:------:|:---:|\n",
        "|     A    |   0-2  |  0  |   | --> |   |     A    |   0-2  |  0  |\n",
        "|     A    |   2-4  |  0  |   | --> |   |     A    |   2-4  |  0  |\n",
        "|     A    |   4-6  |  0  |   | --> |   |     A    |   4-6  |  1  |\n",
        "|     A    |  6-12  |  1  |   | --> |   |     x    |    x   |  x  |\n",
        "|     A    |   >12  |  1  |   | --> |   |     x    |    x   |  x  |"
      ]
    },
    {
      "cell_type": "markdown",
      "metadata": {
        "id": "3Z_OphoDsx9_"
      },
      "source": [
        "### Criação de nova variável\n",
        "Antes de seguirmos com as análises, decidi criar uma nova variávei que armazena a informação se o paciente irá para a UTI em algum momento. Desta forma, a variável `ICU_EVER` se torna muito útil para agrupar pacientes que:\n",
        "1. Nunca foram para a UTI - `ICU_EVER = 0`;\n",
        "2. Foram para a UTI em algum momento - `ICU_EVER = 1`.\n",
        "***Obs**: considerando como o dataframe `dados_limitados` tem apenas uma linha, farei a mudança apenas no dataframe `dados_maximizados`."
      ]
    },
    {
      "cell_type": "code",
      "metadata": {
        "id": "dI_5EcnOsx9_"
      },
      "source": [
        "dataframe_agrupado = dados_limpos.groupby('PATIENT_VISIT_IDENTIFIER').agg({'ICU':'sum'})\n",
        "nunca = dataframe_agrupado[dataframe_agrupado['ICU'] == 0].index.values\n",
        "alguma = dataframe_agrupado[dataframe_agrupado['ICU'] != 0].index.values\n",
        "\n",
        "dados_maximizados['ICU_EVER'] = dados_maximizados['PATIENT_VISIT_IDENTIFIER']\n",
        "d = ChainMap(dict.fromkeys(nunca, 0), dict.fromkeys(alguma, 1))\n",
        "dados_maximizados['ICU_EVER'] = dados_maximizados['ICU_EVER'].map(d.get)\n",
        "\n",
        "dados_limpos['ICU_EVER'] = dados_limpos['PATIENT_VISIT_IDENTIFIER']\n",
        "d = ChainMap(dict.fromkeys(nunca, 0), dict.fromkeys(alguma, 1))\n",
        "dados_limpos['ICU_EVER'] = dados_limpos['ICU_EVER'].map(d.get)"
      ],
      "execution_count": 19,
      "outputs": []
    },
    {
      "cell_type": "markdown",
      "metadata": {
        "id": "VmPqIb_Ysx9_"
      },
      "source": [
        "Geração da nova variável `ICU_EVER`, considerando o dataframe `dados_maximizados` gerado anteriormente.\n",
        "\n",
        "| **Paciente** | **WINDOW** | **ICU** |   | --> |   | **Paciente** | **WINDOW** | **ICU** | **ICU_EVER** |\n",
        "|:------------:|:----------:|:-------:|:-:|:-:|:-:|:------------:|:----------:|:-------:|:------------:|\n",
        "|       A      |     0-2    |    0    |   | --> |   |       A      |     0-2    |    0    |       1      |\n",
        "|       A      |     2-4    |    0    |   | --> |   |       A      |     2-4    |    0    |       1      |\n",
        "|       A      |     4-6    |    1    |   | --> |   |       A      |     4-6    |    1    |       1      |\n",
        "|       B      |     0-2    |    0    |   | --> |   |       B      |     0-2    |    0    |       0      |\n",
        "|       B      |     2-4    |    0    |   | --> |   |       B      |     2-4    |    0    |       0      |\n",
        "|       B      |     4-6    |    0    |   | --> |   |       B      |     4-6    |    0    |       0      |\n",
        "|       B      |    6-12    |    0    |   | --> |   |       B      |    6-12    |    0    |       0      |"
      ]
    },
    {
      "cell_type": "markdown",
      "metadata": {
        "id": "XaWPf1x2sx-A"
      },
      "source": [
        "## Modelo de Machine Learning\n",
        "***"
      ]
    },
    {
      "cell_type": "markdown",
      "metadata": {
        "id": "QHNaQcNwsx-A"
      },
      "source": [
        "### Redução de variáveis\n",
        "***\n",
        "É sabido que modelos de ML que trabalham com dados que contém grande número de colunas e pequeno número de linhas encontram alguns problemas. Isso também é chamado de *big p, little n*, ou seja, grande número de preditores (*p*) e pequeno número de amostras (*n*). <br>\n",
        "Trabalhar com dados como este, que possuem um grande número de counas em comparação com o número de amostras é um desafio.<br>\n",
        "Essa diferença pode levar a problemas no processo de treino do algorítimo. <br>\n",
        "**Estratégias:**\n",
        "1. Ignorar e avaliar a performance dos modelos de forma geral;\n",
        "2. Seleção de variáveis para o modelo - correlação e contribuição da variável para predizer o resultado (RFE);\n",
        "3. Redução dimensional - [SVD](https://machinelearningmastery.com/singular-value-decomposition-for-machine-learning/) e [PCA](https://machinelearningmastery.com/calculate-principal-component-analysis-scratch-python/);\n",
        "4. Regularização de modelos - alguns modelos permitem esse parâmetro que penaliza os resultados de acordo com a quantidade de preditores utilizado (ex. LARS e LASSO, Ridge ou Elastic Net regression). \n",
        "<br>\n",
        "\n",
        ">[How to Handle Big-p, Little-n (p >> n) in Machine Learning\n",
        "](https://machinelearningmastery.com/how-to-handle-big-p-little-n-p-n-in-machine-learning/)\n",
        "\n",
        "***\n",
        "Focando no nosso caso, o **primeiro passo é descartar algumas das variáveis que são idênticas** (*mean, median, max, min, diff*). <br>\n",
        "**Algumas razões para a remoção dessas variáveis**:\n",
        "1. Ambiguidade biológica: apesar de que cada versão representa um ponto diferente na distribuição de um dado marcador biológico, ainda assim temos um significado muito parecido;\n",
        "2. Co-linerariedade: justamente por serem variáveis muito semelhantes, a correlação observada entre elas é muito grande (ainda mais considerando o preenchimento de dados que fizemos). Isso pode confundir o modelo e gerar resultados enviesados. "
      ]
    },
    {
      "cell_type": "markdown",
      "metadata": {
        "id": "WkTvaHZNsx-A"
      },
      "source": [
        "Para remover essas versões redundantes, executei uma função que vai avaliar qual versão dentre as 6 possíveis versões de uma variável é a que tem maior correlação com o paciente ter ido ou não para a UTI. <br>\n",
        "Além disso, posso testar dentre essas variáveis reduzidas tem maior correlação com ICU"
      ]
    },
    {
      "cell_type": "code",
      "metadata": {
        "id": "v7Q5IVsOsx-B"
      },
      "source": [
        "cor_unica, var_descartadas = avalia_correlacao_unica_spearman(dados_maximizados)"
      ],
      "execution_count": 20,
      "outputs": []
    },
    {
      "cell_type": "markdown",
      "metadata": {
        "id": "6Zd4ciFGsx-B"
      },
      "source": [
        "### Seleção de variáveis para treinar o modelo\n",
        "***\n",
        "Após remoção das versões redundantes, podemos **estudar quais variáveis tem maior correlação com estado do paciente** usando a variável `ICU_EVER`, criada anteriormente. <br>\n",
        "Para fazermos esse tipo de análise, podemos empregar o método de *spearman* que é mais adequado para analisar correlação entre uma variável contínua (exames clínicos) com uma variável categórica (ICU).\n",
        "***\n",
        "**Obs**: o objetivo dessa análise é entender quais variáveis são capazes de diferenciar grupos de pacientes que nunca foram para a UTI daqueles que foram para UTI em algum momento."
      ]
    },
    {
      "cell_type": "code",
      "metadata": {
        "colab": {
          "base_uri": "https://localhost:8080/"
        },
        "id": "42OxJ5B5sx-B",
        "outputId": "c0200fef-50dd-4773-eb10-4eb47a26c791"
      },
      "source": [
        "dados_limpos[[*cor_unica, 'ICU_EVER']].corrwith(dados_limpos['ICU_EVER'], method='spearman').abs().sort_values(ascending=False)"
      ],
      "execution_count": 21,
      "outputs": [
        {
          "output_type": "execute_result",
          "data": {
            "text/plain": [
              "ICU_EVER                       1.000000\n",
              "UREA_MIN                       0.273199\n",
              "LACTATE_MIN                    0.262324\n",
              "LINFOCITOS_MIN                 0.232552\n",
              "PCR_MIN                        0.230907\n",
              "BE_ARTERIAL_MIN                0.227933\n",
              "BE_VENOUS_MIN                  0.209842\n",
              "NEUTROPHILES_MIN               0.203065\n",
              "SODIUM_MIN                     0.188642\n",
              "GGT_MIN                        0.173572\n",
              "INR_MIN                        0.161723\n",
              "CALCIUM_MIN                    0.147709\n",
              "CREATININ_MIN                  0.139408\n",
              "HEMOGLOBIN_MIN                 0.134807\n",
              "DIMER_MIN                      0.133435\n",
              "ALBUMIN_MIN                    0.127926\n",
              "PH_ARTERIAL_MIN                0.127571\n",
              "BLAST_MIN                      0.126728\n",
              "GLUCOSE_MIN                    0.125603\n",
              "HEMATOCRITE_MIN                0.123560\n",
              "LEUKOCYTES_MIN                 0.120838\n",
              "SAT02_ARTERIAL_MIN             0.110911\n",
              "TGO_MIN                        0.105874\n",
              "BLOODPRESSURE_DIASTOLIC_MAX    0.100467\n",
              "PC02_VENOUS_MIN                0.095946\n",
              "RESPIRATORY_RATE_MIN           0.085729\n",
              "PC02_ARTERIAL_MIN              0.074357\n",
              "POTASSIUM_MIN                  0.068178\n",
              "BIC_ARTERIAL_MIN               0.055540\n",
              "P02_ARTERIAL_MIN               0.052469\n",
              "BLOODPRESSURE_SISTOLIC_DIFF    0.052104\n",
              "PLATELETS_MIN                  0.050959\n",
              "TTPA_MIN                       0.049894\n",
              "P02_VENOUS_MIN                 0.040031\n",
              "TEMPERATURE_MIN                0.039856\n",
              "OXYGEN_SATURATION_MAX          0.034342\n",
              "PH_VENOUS_MIN                  0.033699\n",
              "TGP_MIN                        0.031908\n",
              "HEART_RATE_DIFF                0.028365\n",
              "BILLIRUBIN_MIN                 0.023118\n",
              "FFA_MIN                        0.021754\n",
              "SAT02_VENOUS_MIN               0.018215\n",
              "BIC_VENOUS_MIN                 0.013922\n",
              "dtype: float64"
            ]
          },
          "metadata": {
            "tags": []
          },
          "execution_count": 21
        }
      ]
    },
    {
      "cell_type": "markdown",
      "metadata": {
        "id": "88IRBEwOsx-B"
      },
      "source": [
        "### <font color='red'> >></font> Podemos confiar nesses resultados de correlação?\n",
        "***\n",
        "Para avaliar se a correlação de spearman poderia ser utilizada para selecionar variáveis de interesse, farei o plot das seguintes variáveis:\n",
        "\n",
        "|     Variável     | Correlação de spearman obtida |\n",
        "|:----------------:|:-----------------------------:|\n",
        "|    LACTATE_MIN   |            0.262324           |\n",
        "|         INR_MIN  |            0.161723           |\n",
        "| LEUKOCYTES_MIN   |            0.120838           |\n",
        "|   BIC_VENOUS_MIN |            0.013922           |"
      ]
    },
    {
      "cell_type": "code",
      "metadata": {
        "colab": {
          "base_uri": "https://localhost:8080/",
          "height": 514
        },
        "id": "99jku3XEsx-C",
        "outputId": "5085c225-5f59-4d93-bc8d-2fa1edb09466"
      },
      "source": [
        "plota_graficos_correlacao('LACTATE_MIN', 0.26, 'INR_MIN', 0.16, \n",
        "                          'LEUKOCYTES_MIN', 0.12, 'BIC_VENOUS_MIN', 0.013,\n",
        "                         'ICU_EVER', dados_limpos)"
      ],
      "execution_count": 22,
      "outputs": [
        {
          "output_type": "display_data",
          "data": {
            "image/png": "[encoded data removed]",
            "text/plain": [
              "<Figure size 1152x576 with 4 Axes>"
            ]
          },
          "metadata": {
            "tags": [],
            "needs_background": "light"
          }
        }
      ]
    },
    {
      "cell_type": "markdown",
      "metadata": {
        "id": "gh23WSBBsx-C"
      },
      "source": [
        "<font color='blue'> >> </font>Na figura acima notamos como o resultado correlação de *spearman* pode ser aplicado para selecionar variáveis capazes de separar os grupos de pacientes que foram ou não para a UTI. Ao comparar a primeira figura (`LACTATE_MIN` - corr **0.26**), notamos como essa variável separa muito bem os grupos de pacientes que foram ou não pra UTI. Por outro lado, isso não se repete ao trabalharmos com uma variável como `BIC_VENOUS_MIN` que teve uma correlação de apenas **0.013**. <br>\n"
      ]
    },
    {
      "cell_type": "markdown",
      "metadata": {
        "id": "fsm6Jss0sx-D"
      },
      "source": [
        "#### Comparação com outros estudos\n",
        "\n",
        "Recentemente, um estudo publicado na revista Nature apontou que os indicadores lactato, ureia, PCR e creatinina são importantes para diferenciar casos de COVID-19 moderados dos severos. Neste trabalho, os quatro medidores também mostratram correlação importante com a variável preditora `ICU_EVER` (correlações de ~ 0.27, 0.26, 0.23 e 0.14, respectivamente). <br>\n",
        "\n",
        "> [A multipurpose machine learning approach to predict COVID-19 negative prognosis in São Paulo, Brazil](https://www.nature.com/articles/s41598-021-82885-y)\n"
      ]
    },
    {
      "cell_type": "markdown",
      "metadata": {
        "id": "iLJiGwf7sx-D"
      },
      "source": [
        "#### <font color='blue'> >> </font> Desta forma, decidi remover variáveis com correlação menor ou igual a 0.12"
      ]
    },
    {
      "cell_type": "code",
      "metadata": {
        "id": "vNWd9sOksx-E"
      },
      "source": [
        "cor_todas = dados_limpos[[*cor_unica, 'ICU_EVER']].corrwith(dados_limpos['ICU_EVER'], method='spearman').abs().sort_values(ascending=False)\n",
        "cor_menor = cor_todas[cor_todas <= 0.12].index"
      ],
      "execution_count": 23,
      "outputs": []
    },
    {
      "cell_type": "markdown",
      "metadata": {
        "id": "FxxQ-8W9sx-E"
      },
      "source": [
        "#### Removendo variáveis após decisão:\n",
        "***\n",
        "1. Por serem repetidas (var_descartadas);\n",
        "2. Por terem baixa correlação ou capacidade de diferenciar os grupos de pacientes (cor_menor)."
      ]
    },
    {
      "cell_type": "markdown",
      "metadata": {
        "id": "PzY0FwYU8ffu"
      },
      "source": [
        "Gerando novas versões dos dados após remoção das variáveis"
      ]
    },
    {
      "cell_type": "code",
      "metadata": {
        "id": "XFQkSTxpsx-F"
      },
      "source": [
        "limitados = dados_limitados.copy()\n",
        "limitados = limitados.drop([*var_descartadas, *cor_menor], axis=1)\n",
        "maximizados = dados_maximizados.copy()\n",
        "maximizados = maximizados.drop([*var_descartadas, *cor_menor], axis=1)"
      ],
      "execution_count": 24,
      "outputs": []
    },
    {
      "cell_type": "markdown",
      "metadata": {
        "id": "PseqL_fAsx-F"
      },
      "source": [
        "#### Modificiando a variável `AGE_PERCENTIL`\n",
        "***\n",
        "Modelos de Machine Learning não se dão muito bem com variáveis do tipo string. Desta forma, modifiquei a variável `age`, transformando-a em números."
      ]
    },
    {
      "cell_type": "code",
      "metadata": {
        "id": "1BhSD6Pvsx-F"
      },
      "source": [
        "limitados.AGE_PERCENTIL = limitados.AGE_PERCENTIL.astype('category').cat.codes\n",
        "maximizados.AGE_PERCENTIL = maximizados.AGE_PERCENTIL.astype('category').cat.codes"
      ],
      "execution_count": 25,
      "outputs": []
    },
    {
      "cell_type": "markdown",
      "metadata": {
        "id": "4CMP1oyJsx-F"
      },
      "source": [
        "## Modelos\n",
        "*** \n",
        "Existem diversos modelos adequados para estratégias de classificação. Uma estratégia interessante seria avaliar quais modelos performam melhor em avaliar nossos dados e depois seguir modificando os parâmetros do modelo escolhido com o objetivo de obter os melhores resultados possíveis.\n",
        "***\n",
        "Nesta estapa, **testarei os seguintes modelos**:\n",
        "1. LogisticRegression;\n",
        "2. DecisionTreeClassifier;\n",
        "3. RandomForestClassifier;\n",
        "4. GradientBoosting.\n",
        "\n",
        "<br> \n",
        "Além desses, usarei também o DummyRegressor para comparação. <br> \n",
        "\n",
        "***\n",
        "A **avaliação de cada um dos modelos será feita através do resultado da métrica AUC** (*Area Under the ROC Curve*), recomendada para avaliar a relação entre falsos positivos e falsos negativos. <br>\n",
        "De forma bastante simplista, um modelo que erre 100% das vezes, terá um `AUC = 0.0`, enquanto um modelo que acerte 100% das vezes terá um `AUC = 1`.\n",
        "\n",
        "### <font color='red'> >> </font> Modelos usando apenas a primeira informação de cada paciente\n",
        "***\n",
        "A partir desse ponto, já executamos várias etapas de limpeza dos dados:\n",
        "1. Removemos pacientes que foram à UTI na primeira janela;\n",
        "2. Excluímos alguns pacientes que apresentavam dados nulos em janelas anteriores à entrada na UTI;\n",
        "3. Removemos variáveis redundates;\n",
        "4. Selecionamos um conjunto de variáveis para treinar o modelo, levando em conta a correlação com ida ou não do para a UTI em algum momento.\n",
        "**Assim, agora daremos início a triagem de modelos classificatórios utilizando apenas a primeira janela de cada paciente**"
      ]
    },
    {
      "cell_type": "markdown",
      "metadata": {
        "id": "DfyjtaS8sx-F"
      },
      "source": [
        "#### Triagem de modelos classificatórios\n",
        "***\n",
        "Os dados apenas da primeira janela de cada paciente foram separados aleatoriamente em treino e teste, mantendo a mesma propporção de pacientes que foram ou não foram para a UTI nos dois conjuntos, e avaliados perante a AUC (*area under the roc curve*) obtida. Esse processo foi repetido 50 vezes."
      ]
    },
    {
      "cell_type": "code",
      "metadata": {
        "colab": {
          "base_uri": "https://localhost:8080/",
          "height": 206
        },
        "id": "DSQ-UWJmsx-F",
        "outputId": "8ad7079f-220d-4959-e85e-4df9636cbc9f"
      },
      "source": [
        "analise_modelos = roda_modelos_selecao_unica(limitados, 50)\n",
        "analise_modelos"
      ],
      "execution_count": 26,
      "outputs": [
        {
          "output_type": "execute_result",
          "data": {
            "text/html": [
              "<div>\n",
              "<style scoped>\n",
              "    .dataframe tbody tr th:only-of-type {\n",
              "        vertical-align: middle;\n",
              "    }\n",
              "\n",
              "    .dataframe tbody tr th {\n",
              "        vertical-align: top;\n",
              "    }\n",
              "\n",
              "    .dataframe thead th {\n",
              "        text-align: right;\n",
              "    }\n",
              "</style>\n",
              "<table border=\"1\" class=\"dataframe\">\n",
              "  <thead>\n",
              "    <tr style=\"text-align: right;\">\n",
              "      <th></th>\n",
              "      <th>Modelo</th>\n",
              "      <th>AUC_Mean50</th>\n",
              "      <th>IC_Min50</th>\n",
              "      <th>IC_Max50</th>\n",
              "    </tr>\n",
              "  </thead>\n",
              "  <tbody>\n",
              "    <tr>\n",
              "      <th>0</th>\n",
              "      <td>RandomForestClassifier</td>\n",
              "      <td>0.764551</td>\n",
              "      <td>0.646989</td>\n",
              "      <td>0.882113</td>\n",
              "    </tr>\n",
              "    <tr>\n",
              "      <th>1</th>\n",
              "      <td>GradientBoostingClassifier</td>\n",
              "      <td>0.744247</td>\n",
              "      <td>0.648891</td>\n",
              "      <td>0.839603</td>\n",
              "    </tr>\n",
              "    <tr>\n",
              "      <th>2</th>\n",
              "      <td>LogisticRegression</td>\n",
              "      <td>0.731651</td>\n",
              "      <td>0.644821</td>\n",
              "      <td>0.818480</td>\n",
              "    </tr>\n",
              "    <tr>\n",
              "      <th>3</th>\n",
              "      <td>DecisionTreeClassifier</td>\n",
              "      <td>0.599599</td>\n",
              "      <td>0.494276</td>\n",
              "      <td>0.704923</td>\n",
              "    </tr>\n",
              "    <tr>\n",
              "      <th>4</th>\n",
              "      <td>DummyRegressor</td>\n",
              "      <td>0.494407</td>\n",
              "      <td>0.360927</td>\n",
              "      <td>0.627887</td>\n",
              "    </tr>\n",
              "  </tbody>\n",
              "</table>\n",
              "</div>"
            ],
            "text/plain": [
              "                       Modelo  AUC_Mean50  IC_Min50  IC_Max50\n",
              "0      RandomForestClassifier    0.764551  0.646989  0.882113\n",
              "1  GradientBoostingClassifier    0.744247  0.648891  0.839603\n",
              "2          LogisticRegression    0.731651  0.644821  0.818480\n",
              "3      DecisionTreeClassifier    0.599599  0.494276  0.704923\n",
              "4              DummyRegressor    0.494407  0.360927  0.627887"
            ]
          },
          "metadata": {
            "tags": []
          },
          "execution_count": 26
        }
      ]
    },
    {
      "cell_type": "markdown",
      "metadata": {
        "id": "v3-PpdmRsx-G"
      },
      "source": [
        "Aqui testamos 4 modelos classificatórios mais o *DummyRegressor* (que serve como parâmetro de aleatoriedade) e podemos avalia-los perante a AUC resultante, após 50 testes. <br>\n",
        "<font color='blue'> >> </font> Com base nos resultados obtidos com a AUC média e o intervalo de confiança da AUC em 50 testes realizados, notamos que os modelos **GradientBoostingClassifier, RandomForestClassifier e LogisticRegression** se mostram bastante próximos, com scores médios de ~0.74."
      ]
    },
    {
      "cell_type": "markdown",
      "metadata": {
        "id": "ezVFozCy8ffw"
      },
      "source": [
        "### <font color='red'> >> </font> Existe alta correlação entre as variáveis selecionadas?\n",
        "***\n",
        "A presença de variáveis com alta correlação pode atrapalhar o modelo a entender o que realmente importa no desfecho do paciente. <br>\n",
        "Decidi excluir variáveis que tinha correlação maior do que 0.9 com outras variáveis selecionadas. A escolha desse ponto de corte foi baseada no seguinte artigo:\n",
        "> [A multipurpose machine learning approach to predict COVID-19 negative prognosis in São Paulo, Brazil](https://www.nature.com/articles/s41598-021-82885-y)\n"
      ]
    },
    {
      "cell_type": "code",
      "metadata": {
        "id": "iqfBtj0EiYrb",
        "colab": {
          "base_uri": "https://localhost:8080/"
        },
        "outputId": "38a0d825-6034-4a6e-d777-e2ad27dc20aa"
      },
      "source": [
        "matrix_corr = limitados.iloc[:,4:-2].corr().abs()\n",
        "matrix_corr.shape\n",
        "\n",
        "matrix_upper = matrix_corr.where(np.triu(np.ones(matrix_corr.shape), k =1).astype(np.bool))\n",
        "alta_corr = 0.9\n",
        "excluir = [coluna for coluna in  matrix_upper.columns if any(matrix_upper[coluna] > alta_corr)]\n",
        "excluir"
      ],
      "execution_count": 27,
      "outputs": [
        {
          "output_type": "execute_result",
          "data": {
            "text/plain": [
              "['HEMOGLOBIN_MIN', 'NEUTROPHILES_MIN']"
            ]
          },
          "metadata": {
            "tags": []
          },
          "execution_count": 27
        }
      ]
    },
    {
      "cell_type": "markdown",
      "metadata": {
        "id": "ImyRYs5k8ffw"
      },
      "source": [
        "Modificando os dataframes após remoção das variáveis"
      ]
    },
    {
      "cell_type": "code",
      "metadata": {
        "id": "wAQJ86FolYzn"
      },
      "source": [
        "limitados = remove_corr_var(limitados, 0.9)\n",
        "maximizados = maximizados.drop(['HEMOGLOBIN_MIN', 'NEUTROPHILES_MIN'], axis=1)"
      ],
      "execution_count": 28,
      "outputs": []
    },
    {
      "cell_type": "markdown",
      "metadata": {
        "id": "RKRS5aLk8ffy"
      },
      "source": [
        "Testando a performance do modelo com os novos dados"
      ]
    },
    {
      "cell_type": "code",
      "metadata": {
        "colab": {
          "base_uri": "https://localhost:8080/",
          "height": 206
        },
        "id": "znAvIvDT8ffy",
        "outputId": "6f86367f-ca14-4804-c211-b5d9f54e8108"
      },
      "source": [
        "analise_modelos_apos_remocao = roda_modelos_selecao_unica(limitados, 50)\n",
        "analise_modelos_apos_remocao"
      ],
      "execution_count": 29,
      "outputs": [
        {
          "output_type": "execute_result",
          "data": {
            "text/html": [
              "<div>\n",
              "<style scoped>\n",
              "    .dataframe tbody tr th:only-of-type {\n",
              "        vertical-align: middle;\n",
              "    }\n",
              "\n",
              "    .dataframe tbody tr th {\n",
              "        vertical-align: top;\n",
              "    }\n",
              "\n",
              "    .dataframe thead th {\n",
              "        text-align: right;\n",
              "    }\n",
              "</style>\n",
              "<table border=\"1\" class=\"dataframe\">\n",
              "  <thead>\n",
              "    <tr style=\"text-align: right;\">\n",
              "      <th></th>\n",
              "      <th>Modelo</th>\n",
              "      <th>AUC_Mean50</th>\n",
              "      <th>IC_Min50</th>\n",
              "      <th>IC_Max50</th>\n",
              "    </tr>\n",
              "  </thead>\n",
              "  <tbody>\n",
              "    <tr>\n",
              "      <th>0</th>\n",
              "      <td>RandomForestClassifier</td>\n",
              "      <td>0.758942</td>\n",
              "      <td>0.662208</td>\n",
              "      <td>0.855677</td>\n",
              "    </tr>\n",
              "    <tr>\n",
              "      <th>1</th>\n",
              "      <td>GradientBoostingClassifier</td>\n",
              "      <td>0.730609</td>\n",
              "      <td>0.635492</td>\n",
              "      <td>0.825726</td>\n",
              "    </tr>\n",
              "    <tr>\n",
              "      <th>2</th>\n",
              "      <td>LogisticRegression</td>\n",
              "      <td>0.729744</td>\n",
              "      <td>0.621663</td>\n",
              "      <td>0.837824</td>\n",
              "    </tr>\n",
              "    <tr>\n",
              "      <th>3</th>\n",
              "      <td>DecisionTreeClassifier</td>\n",
              "      <td>0.589071</td>\n",
              "      <td>0.468519</td>\n",
              "      <td>0.709622</td>\n",
              "    </tr>\n",
              "    <tr>\n",
              "      <th>4</th>\n",
              "      <td>DummyRegressor</td>\n",
              "      <td>0.509054</td>\n",
              "      <td>0.404517</td>\n",
              "      <td>0.613592</td>\n",
              "    </tr>\n",
              "  </tbody>\n",
              "</table>\n",
              "</div>"
            ],
            "text/plain": [
              "                       Modelo  AUC_Mean50  IC_Min50  IC_Max50\n",
              "0      RandomForestClassifier    0.758942  0.662208  0.855677\n",
              "1  GradientBoostingClassifier    0.730609  0.635492  0.825726\n",
              "2          LogisticRegression    0.729744  0.621663  0.837824\n",
              "3      DecisionTreeClassifier    0.589071  0.468519  0.709622\n",
              "4              DummyRegressor    0.509054  0.404517  0.613592"
            ]
          },
          "metadata": {
            "tags": []
          },
          "execution_count": 29
        }
      ]
    },
    {
      "cell_type": "markdown",
      "metadata": {
        "id": "7wZcVcE-8ffy"
      },
      "source": [
        "### Comparação dos scores"
      ]
    },
    {
      "cell_type": "code",
      "metadata": {
        "colab": {
          "base_uri": "https://localhost:8080/",
          "height": 206
        },
        "id": "WpUCKWnD8ffy",
        "outputId": "2c574593-86e3-4dd8-bf16-6a646a15796f"
      },
      "source": [
        "comparacao = pd.DataFrame()\n",
        "comparacao['Modelo'] = analise_modelos_apos_remocao['Modelo']\n",
        "comparacao['Diff_AUC'] = analise_modelos_apos_remocao['AUC_Mean50']\n",
        "comparacao['Diff_AUC'] = analise_modelos_apos_remocao['AUC_Mean50'] - analise_modelos['AUC_Mean50']\n",
        "comparacao['Diff_ICMin'] = analise_modelos_apos_remocao['IC_Min50'] - analise_modelos['IC_Min50']\n",
        "comparacao['Diff_ICMax'] = analise_modelos_apos_remocao['IC_Max50'] - analise_modelos['IC_Max50']\n",
        "comparacao"
      ],
      "execution_count": 30,
      "outputs": [
        {
          "output_type": "execute_result",
          "data": {
            "text/html": [
              "<div>\n",
              "<style scoped>\n",
              "    .dataframe tbody tr th:only-of-type {\n",
              "        vertical-align: middle;\n",
              "    }\n",
              "\n",
              "    .dataframe tbody tr th {\n",
              "        vertical-align: top;\n",
              "    }\n",
              "\n",
              "    .dataframe thead th {\n",
              "        text-align: right;\n",
              "    }\n",
              "</style>\n",
              "<table border=\"1\" class=\"dataframe\">\n",
              "  <thead>\n",
              "    <tr style=\"text-align: right;\">\n",
              "      <th></th>\n",
              "      <th>Modelo</th>\n",
              "      <th>Diff_AUC</th>\n",
              "      <th>Diff_ICMin</th>\n",
              "      <th>Diff_ICMax</th>\n",
              "    </tr>\n",
              "  </thead>\n",
              "  <tbody>\n",
              "    <tr>\n",
              "      <th>0</th>\n",
              "      <td>RandomForestClassifier</td>\n",
              "      <td>-0.005609</td>\n",
              "      <td>0.015218</td>\n",
              "      <td>-0.026436</td>\n",
              "    </tr>\n",
              "    <tr>\n",
              "      <th>1</th>\n",
              "      <td>GradientBoostingClassifier</td>\n",
              "      <td>-0.013638</td>\n",
              "      <td>-0.013399</td>\n",
              "      <td>-0.013877</td>\n",
              "    </tr>\n",
              "    <tr>\n",
              "      <th>2</th>\n",
              "      <td>LogisticRegression</td>\n",
              "      <td>-0.001907</td>\n",
              "      <td>-0.023158</td>\n",
              "      <td>0.019344</td>\n",
              "    </tr>\n",
              "    <tr>\n",
              "      <th>3</th>\n",
              "      <td>DecisionTreeClassifier</td>\n",
              "      <td>-0.010529</td>\n",
              "      <td>-0.025757</td>\n",
              "      <td>0.004699</td>\n",
              "    </tr>\n",
              "    <tr>\n",
              "      <th>4</th>\n",
              "      <td>DummyRegressor</td>\n",
              "      <td>0.014647</td>\n",
              "      <td>0.043590</td>\n",
              "      <td>-0.014295</td>\n",
              "    </tr>\n",
              "  </tbody>\n",
              "</table>\n",
              "</div>"
            ],
            "text/plain": [
              "                       Modelo  Diff_AUC  Diff_ICMin  Diff_ICMax\n",
              "0      RandomForestClassifier -0.005609    0.015218   -0.026436\n",
              "1  GradientBoostingClassifier -0.013638   -0.013399   -0.013877\n",
              "2          LogisticRegression -0.001907   -0.023158    0.019344\n",
              "3      DecisionTreeClassifier -0.010529   -0.025757    0.004699\n",
              "4              DummyRegressor  0.014647    0.043590   -0.014295"
            ]
          },
          "metadata": {
            "tags": []
          },
          "execution_count": 30
        }
      ]
    },
    {
      "cell_type": "markdown",
      "metadata": {
        "id": "ZNZW8Z7j8ffz"
      },
      "source": [
        "<font color='blue'> >> </font>Notamos que houveram pequenas diferenças na eficácia dos modelos. Ainda assim, a **exclusão de variávéis altamente correlacionadas é uma boa prática**."
      ]
    },
    {
      "cell_type": "markdown",
      "metadata": {
        "id": "LyM6fID6sx-H"
      },
      "source": [
        "### <font color='red'> >> </font> Será que o desbalanço nas classes de pacientes pode estar influenciando no resultado dos modelos?\n",
        "***\n",
        "Como visto no código abaixo, temos 84 pacientes a mais na classe dos que nunca irão para a UTI. Um modo de avaliarmos se o desbalanço pode influenciar na performance dos modelos é através de uma remoção aleatória de pacientes do grupo que nunca foi para a UTI e re-testagem do modelo."
      ]
    },
    {
      "cell_type": "code",
      "metadata": {
        "colab": {
          "base_uri": "https://localhost:8080/"
        },
        "id": "g861ombAsx-H",
        "outputId": "795d925b-dec2-4fdd-c2b4-3e9feb56181c"
      },
      "source": [
        "limitados.ICU.value_counts()"
      ],
      "execution_count": 31,
      "outputs": [
        {
          "output_type": "execute_result",
          "data": {
            "text/plain": [
              "0    189\n",
              "1    105\n",
              "Name: ICU, dtype: int64"
            ]
          },
          "metadata": {
            "tags": []
          },
          "execution_count": 31
        }
      ]
    },
    {
      "cell_type": "markdown",
      "metadata": {
        "id": "J9RUuwTCsx-H"
      },
      "source": [
        "Aqui eu removo 84 pacientes que nunca foram para a UTI e realizo os 50 testes novamente."
      ]
    },
    {
      "cell_type": "code",
      "metadata": {
        "id": "c6fhx-y9sx-H"
      },
      "source": [
        "from random import sample"
      ],
      "execution_count": 32,
      "outputs": []
    },
    {
      "cell_type": "markdown",
      "metadata": {
        "id": "dqwVYyPv8ff0"
      },
      "source": [
        "Para fazer isso, usei a função `roda_modelos_selecao_unica_aleatoria()` que remove de forma aleatória 84 pacientes que nunca foram para a UTI, forçando o balanceamento das classes."
      ]
    },
    {
      "cell_type": "code",
      "metadata": {
        "colab": {
          "base_uri": "https://localhost:8080/",
          "height": 206
        },
        "id": "dExfIy76sx-I",
        "outputId": "d9c74365-1380-4a23-9830-943fcb27a270"
      },
      "source": [
        "analise_modelos_undersampling = roda_modelos_selecao_unica_aleatoria(limitados, 50)\n",
        "analise_modelos_undersampling"
      ],
      "execution_count": 33,
      "outputs": [
        {
          "output_type": "execute_result",
          "data": {
            "text/html": [
              "<div>\n",
              "<style scoped>\n",
              "    .dataframe tbody tr th:only-of-type {\n",
              "        vertical-align: middle;\n",
              "    }\n",
              "\n",
              "    .dataframe tbody tr th {\n",
              "        vertical-align: top;\n",
              "    }\n",
              "\n",
              "    .dataframe thead th {\n",
              "        text-align: right;\n",
              "    }\n",
              "</style>\n",
              "<table border=\"1\" class=\"dataframe\">\n",
              "  <thead>\n",
              "    <tr style=\"text-align: right;\">\n",
              "      <th></th>\n",
              "      <th>Modelo</th>\n",
              "      <th>AUC_Mean50</th>\n",
              "      <th>IC_Min50</th>\n",
              "      <th>IC_Max50</th>\n",
              "    </tr>\n",
              "  </thead>\n",
              "  <tbody>\n",
              "    <tr>\n",
              "      <th>0</th>\n",
              "      <td>LogisticRegression</td>\n",
              "      <td>0.774103</td>\n",
              "      <td>0.685914</td>\n",
              "      <td>0.862291</td>\n",
              "    </tr>\n",
              "    <tr>\n",
              "      <th>1</th>\n",
              "      <td>RandomForestClassifier</td>\n",
              "      <td>0.768291</td>\n",
              "      <td>0.655497</td>\n",
              "      <td>0.881084</td>\n",
              "    </tr>\n",
              "    <tr>\n",
              "      <th>2</th>\n",
              "      <td>GradientBoostingClassifier</td>\n",
              "      <td>0.745470</td>\n",
              "      <td>0.630108</td>\n",
              "      <td>0.860832</td>\n",
              "    </tr>\n",
              "    <tr>\n",
              "      <th>3</th>\n",
              "      <td>DecisionTreeClassifier</td>\n",
              "      <td>0.599444</td>\n",
              "      <td>0.447295</td>\n",
              "      <td>0.751594</td>\n",
              "    </tr>\n",
              "    <tr>\n",
              "      <th>4</th>\n",
              "      <td>DummyRegressor</td>\n",
              "      <td>0.502265</td>\n",
              "      <td>0.360435</td>\n",
              "      <td>0.644095</td>\n",
              "    </tr>\n",
              "  </tbody>\n",
              "</table>\n",
              "</div>"
            ],
            "text/plain": [
              "                       Modelo  AUC_Mean50  IC_Min50  IC_Max50\n",
              "0          LogisticRegression    0.774103  0.685914  0.862291\n",
              "1      RandomForestClassifier    0.768291  0.655497  0.881084\n",
              "2  GradientBoostingClassifier    0.745470  0.630108  0.860832\n",
              "3      DecisionTreeClassifier    0.599444  0.447295  0.751594\n",
              "4              DummyRegressor    0.502265  0.360435  0.644095"
            ]
          },
          "metadata": {
            "tags": []
          },
          "execution_count": 33
        }
      ]
    },
    {
      "cell_type": "markdown",
      "metadata": {
        "id": "WV8e5kCQ8ff0"
      },
      "source": [
        "Comparando com os resultados anteriores"
      ]
    },
    {
      "cell_type": "code",
      "metadata": {
        "colab": {
          "base_uri": "https://localhost:8080/",
          "height": 206
        },
        "id": "KSaiEsnI8ff0",
        "outputId": "660b50cb-64ca-481c-a237-d781b149007c"
      },
      "source": [
        "comparacao_undersampling = pd.DataFrame()\n",
        "comparacao_undersampling['Modelo'] = analise_modelos_apos_remocao['Modelo']\n",
        "comparacao_undersampling['Diff_AUC'] = analise_modelos_apos_remocao['AUC_Mean50'] - analise_modelos_undersampling['AUC_Mean50']\n",
        "comparacao_undersampling['Diff_ICMin'] = analise_modelos_apos_remocao['IC_Min50'] - analise_modelos_undersampling['IC_Min50']\n",
        "comparacao_undersampling['Diff_ICMax'] = analise_modelos_apos_remocao['IC_Max50'] - analise_modelos_undersampling['IC_Max50']\n",
        "comparacao_undersampling"
      ],
      "execution_count": 34,
      "outputs": [
        {
          "output_type": "execute_result",
          "data": {
            "text/html": [
              "<div>\n",
              "<style scoped>\n",
              "    .dataframe tbody tr th:only-of-type {\n",
              "        vertical-align: middle;\n",
              "    }\n",
              "\n",
              "    .dataframe tbody tr th {\n",
              "        vertical-align: top;\n",
              "    }\n",
              "\n",
              "    .dataframe thead th {\n",
              "        text-align: right;\n",
              "    }\n",
              "</style>\n",
              "<table border=\"1\" class=\"dataframe\">\n",
              "  <thead>\n",
              "    <tr style=\"text-align: right;\">\n",
              "      <th></th>\n",
              "      <th>Modelo</th>\n",
              "      <th>Diff_AUC</th>\n",
              "      <th>Diff_ICMin</th>\n",
              "      <th>Diff_ICMax</th>\n",
              "    </tr>\n",
              "  </thead>\n",
              "  <tbody>\n",
              "    <tr>\n",
              "      <th>0</th>\n",
              "      <td>RandomForestClassifier</td>\n",
              "      <td>-0.015160</td>\n",
              "      <td>-0.023706</td>\n",
              "      <td>-0.006614</td>\n",
              "    </tr>\n",
              "    <tr>\n",
              "      <th>1</th>\n",
              "      <td>GradientBoostingClassifier</td>\n",
              "      <td>-0.037682</td>\n",
              "      <td>-0.020005</td>\n",
              "      <td>-0.055358</td>\n",
              "    </tr>\n",
              "    <tr>\n",
              "      <th>2</th>\n",
              "      <td>LogisticRegression</td>\n",
              "      <td>-0.015726</td>\n",
              "      <td>-0.008444</td>\n",
              "      <td>-0.023009</td>\n",
              "    </tr>\n",
              "    <tr>\n",
              "      <th>3</th>\n",
              "      <td>DecisionTreeClassifier</td>\n",
              "      <td>-0.010374</td>\n",
              "      <td>0.021224</td>\n",
              "      <td>-0.041972</td>\n",
              "    </tr>\n",
              "    <tr>\n",
              "      <th>4</th>\n",
              "      <td>DummyRegressor</td>\n",
              "      <td>0.006790</td>\n",
              "      <td>0.044082</td>\n",
              "      <td>-0.030503</td>\n",
              "    </tr>\n",
              "  </tbody>\n",
              "</table>\n",
              "</div>"
            ],
            "text/plain": [
              "                       Modelo  Diff_AUC  Diff_ICMin  Diff_ICMax\n",
              "0      RandomForestClassifier -0.015160   -0.023706   -0.006614\n",
              "1  GradientBoostingClassifier -0.037682   -0.020005   -0.055358\n",
              "2          LogisticRegression -0.015726   -0.008444   -0.023009\n",
              "3      DecisionTreeClassifier -0.010374    0.021224   -0.041972\n",
              "4              DummyRegressor  0.006790    0.044082   -0.030503"
            ]
          },
          "metadata": {
            "tags": []
          },
          "execution_count": 34
        }
      ]
    },
    {
      "cell_type": "markdown",
      "metadata": {
        "id": "wGa40ykdsx-I"
      },
      "source": [
        "<font color='blue'> >> </font>Após essa análise, notei **certa influêcia do número de representantes de cada classe** na eficácia dos modelos. Ainda asim, os três melhores modelos anteriores continuam no topo, com certa troca de lugares no podium. <br>\n",
        "**Importante**, o resultado dessa influência varia de acordo com os pacientes removidos aleatoriamente. Métodos de *undersampling* mais refinados possivelmente produziriam resultados melhores! <br>\n",
        "**Por exemplo**:\n",
        "* Remover pacientes do grupo 0 que possuem valores mais próximos dos do grupo 1 - produziria um modelo capaz de discernir melhor os pacientes que apresentam discrepâncias mais claras;\n",
        "* Remover pacientes do grupo 0 que possuem valores muito distantes dos do grupo 1 - produziria um modelo que poderia ser capaz de diferenciar casos em que os dados são muito parecidos entre os pacientes;\n",
        "***\n",
        "#### <font color='blue'> >> </font> Decidi continuar com os dados desbalanceados\n",
        "\n",
        "**Obs:** Não ser capaz de realizar esse undersampling de forma mais robusta, é uma **limitação do meu trabalho!**"
      ]
    },
    {
      "cell_type": "markdown",
      "metadata": {
        "id": "1gBPx74Xsx-I"
      },
      "source": [
        "## Cross Validation\n",
        "***\n",
        "As técnicas de validação cruzada são mais uma estratégia para fortalecer os resultados encontrados ao treinar e testar modelos de *machine learning*. Existem diversas [estratégas](https://scikit-learn.org/stable/modules/cross_validation.html) que podem ser aplicadas, com diferentes recomendações e limitações. <br>\n",
        "Uma das estratégias mais utilizadas é realizar uma série de fragmentações e testes no seu banco de dados. Assim garantimos que o modelo seja treinado e testado com todos os dados, afim de obter métricas adequadas. <br>\n",
        "Para o nosso caso, em que temos poucas amostras e também um desbalanço entre as classes de amostras (`ICU 0 ou 1`), uma das estratégias interessantes é o `RepeatedStratifiedKFold`. <Br>\n",
        "Esse método permite separarmos nossos dados em um certo número de partes (`n_splits`) e repetir os processos um certo número de vezes (`n_repeats`), sempre mantendo a estratificação da nossa variável de predição. Ou seja, **garantimos uma repetição com aleatoriedade consistente, mantendo a mesma proporção das classes** nas amostras de treino e teste.\n",
        "    "
      ]
    },
    {
      "cell_type": "code",
      "metadata": {
        "id": "DSrT5u6Nsx-J"
      },
      "source": [
        "modelo_random_forest =  RandomForestClassifier(n_estimators=100)\n",
        "modelo_gradient_boost = GradientBoostingClassifier(n_estimators=100)\n",
        "modelo_logit = LogisticRegression()"
      ],
      "execution_count": 35,
      "outputs": []
    },
    {
      "cell_type": "code",
      "metadata": {
        "colab": {
          "base_uri": "https://localhost:8080/",
          "height": 143
        },
        "id": "BvOOt5Gjsx-J",
        "outputId": "8b1af71f-4486-438b-b607-890af824cc8f"
      },
      "source": [
        "roda_cross_validate_modelos([modelo_random_forest, modelo_gradient_boost, modelo_logit], limitados,\n",
        "                           5, 10)"
      ],
      "execution_count": 36,
      "outputs": [
        {
          "output_type": "execute_result",
          "data": {
            "text/html": [
              "<div>\n",
              "<style scoped>\n",
              "    .dataframe tbody tr th:only-of-type {\n",
              "        vertical-align: middle;\n",
              "    }\n",
              "\n",
              "    .dataframe tbody tr th {\n",
              "        vertical-align: top;\n",
              "    }\n",
              "\n",
              "    .dataframe thead th {\n",
              "        text-align: right;\n",
              "    }\n",
              "</style>\n",
              "<table border=\"1\" class=\"dataframe\">\n",
              "  <thead>\n",
              "    <tr style=\"text-align: right;\">\n",
              "      <th></th>\n",
              "      <th>Modelo</th>\n",
              "      <th>AUC_Mean</th>\n",
              "      <th>IC_Min</th>\n",
              "      <th>IC_Max</th>\n",
              "    </tr>\n",
              "  </thead>\n",
              "  <tbody>\n",
              "    <tr>\n",
              "      <th>0</th>\n",
              "      <td>RandomForestClassifier(bootstrap=True, ccp_alp...</td>\n",
              "      <td>0.761878</td>\n",
              "      <td>0.646132</td>\n",
              "      <td>0.877624</td>\n",
              "    </tr>\n",
              "    <tr>\n",
              "      <th>1</th>\n",
              "      <td>GradientBoostingClassifier(ccp_alpha=0.0, crit...</td>\n",
              "      <td>0.744523</td>\n",
              "      <td>0.625127</td>\n",
              "      <td>0.863920</td>\n",
              "    </tr>\n",
              "    <tr>\n",
              "      <th>2</th>\n",
              "      <td>LogisticRegression(C=1.0, class_weight=None, d...</td>\n",
              "      <td>0.747083</td>\n",
              "      <td>0.631208</td>\n",
              "      <td>0.862957</td>\n",
              "    </tr>\n",
              "  </tbody>\n",
              "</table>\n",
              "</div>"
            ],
            "text/plain": [
              "                                              Modelo  ...    IC_Max\n",
              "0  RandomForestClassifier(bootstrap=True, ccp_alp...  ...  0.877624\n",
              "1  GradientBoostingClassifier(ccp_alpha=0.0, crit...  ...  0.863920\n",
              "2  LogisticRegression(C=1.0, class_weight=None, d...  ...  0.862957\n",
              "\n",
              "[3 rows x 4 columns]"
            ]
          },
          "metadata": {
            "tags": []
          },
          "execution_count": 36
        }
      ]
    },
    {
      "cell_type": "markdown",
      "metadata": {
        "id": "aZLCGhHssx-J"
      },
      "source": [
        "Aqui notamos como existe sim uma variação importante entre a AUC dos três modelos ao fazer a validação cruzada. Desta forma podemos ter uma noção real dos limites dos modelos com base no intervalo de confiança obitido. Apesar de performarem muito bem em certas situações, podem ter resultados insatisfatórios em outras situações. <br>\n",
        "<font color='blue'> >> </font> Com base nesses resultados, decidi escolher o modelo `RandomForestClassifier`para continuar as análises."
      ]
    },
    {
      "cell_type": "markdown",
      "metadata": {
        "id": "v_nMZTf5sx-J"
      },
      "source": [
        "### <font color='red'> >> </font> É possível melhorar esses resultados? - Hyperparameter Tuning\n",
        "Uma maneira de melhorar a eficácia de um modelo é através da melhora dos hiperparâmetros (*hyperparameter tunning*). Através de métodos como o `GridSearchCV` ou `RandomizedSearchCV`, podemos testar a performance de um modelo com diferentes parâmetros e selecionar os que melhor se adequam aos nossos dados. <br>\n",
        "Neste caso, vamos realizar os processos de teste dos hiperparâmetros usando apenas um conjunto de treino dos dados. Em seguida, testaremos a performance desse modelo perante os dados de teste deixados de lado.<br>\n",
        "***\n",
        "**Obs**: Procurando em algumas fontes vi que uma estratégia mais sólida seria separar o conjunto de dados em 3 partes:\n",
        "* Treino -> Usada para treinar os modelos;\n",
        "* Teste  -> Usada para testar as versões finais do modelo;\n",
        "* Validação -> Fração utilizada para determinar a performance dos modelos após seleção de hiperparâmetros.\n",
        "\n",
        "Como temos um número bastante limitado de dados para treinar os modelos, decidi não fragmentar os dados em 3 partes. **Esta pode ser mais uma limitação do meu trabalho.**"
      ]
    },
    {
      "cell_type": "markdown",
      "metadata": {
        "id": "dl0mTvA9sx-K"
      },
      "source": [
        "Separando os dados que serão utilizados para os próximos passos"
      ]
    },
    {
      "cell_type": "code",
      "metadata": {
        "id": "PsysjqPqsx-K"
      },
      "source": [
        "X, y = limitados.drop(['WINDOW','ICU', 'PATIENT_VISIT_IDENTIFIER'], axis=1), limitados['ICU']\n",
        "x_train, x_test, y_train, y_test = train_test_split(X, y, stratify = y)"
      ],
      "execution_count": 37,
      "outputs": []
    },
    {
      "cell_type": "markdown",
      "metadata": {
        "id": "9oQqelv8sx-O"
      },
      "source": [
        "De forma geral, o modelo RandomForest é mais lento para ser treinado. Assim, usarei o método `RandomizedSearchCV` para buscar por combinações satisfatórias dentro de um espaço de possibilidades. Esse método é especialmente útil quando trabalhamos com bancos de dados com muitas linhas."
      ]
    },
    {
      "cell_type": "code",
      "metadata": {
        "id": "KyM9u9BWsx-O"
      },
      "source": [
        "# Número de árvores\n",
        "n_estimators = [int(x) for x in np.linspace(start = 200, stop = 2000, num = 10)]\n",
        "# Número de features para cada 'split'\n",
        "max_features = ['auto', 'sqrt']\n",
        "# Número máximo de folhas em cada árvore\n",
        "max_depth = [int(x) for x in np.linspace(10, 110, num = 11)]\n",
        "max_depth.append(None)\n",
        "# Número mínimo de amostras para separar um nó\n",
        "min_samples_split = [2, 5, 10]\n",
        "# Número mínimo de amostras por nó nas folhas\n",
        "min_samples_leaf = [1, 2, 4]\n",
        "bootstrap = [True, False]\n",
        "\n",
        "random_grid = {'n_estimators': n_estimators,\n",
        "               'max_features': max_features,\n",
        "               'max_depth': max_depth,\n",
        "               'min_samples_split': min_samples_split,\n",
        "               'min_samples_leaf': min_samples_leaf,\n",
        "               'bootstrap': bootstrap}"
      ],
      "execution_count": 38,
      "outputs": []
    },
    {
      "cell_type": "markdown",
      "metadata": {
        "id": "bDbw6W5Osx-P"
      },
      "source": [
        "Instanciando o modelo"
      ]
    },
    {
      "cell_type": "code",
      "metadata": {
        "id": "maCbTEA7sx-P"
      },
      "source": [
        "modelo_random_forest = RandomForestClassifier()"
      ],
      "execution_count": 39,
      "outputs": []
    },
    {
      "cell_type": "code",
      "metadata": {
        "id": "rurUz2lGsx-P"
      },
      "source": [
        "rf_random = RandomizedSearchCV(estimator = modelo_random_forest, param_distributions = random_grid, n_iter = 100, cv = 3, verbose=2, random_state=42, n_jobs = -1,\n",
        "                               return_train_score=True)"
      ],
      "execution_count": 40,
      "outputs": []
    },
    {
      "cell_type": "code",
      "metadata": {
        "colab": {
          "base_uri": "https://localhost:8080/"
        },
        "id": "ePKmzl89sx-Q",
        "outputId": "41252c1a-e94a-48d2-9102-fb4a81cdf221"
      },
      "source": [
        "rf_random.fit(x_train, y_train)"
      ],
      "execution_count": 41,
      "outputs": [
        {
          "output_type": "stream",
          "text": [
            "Fitting 3 folds for each of 100 candidates, totalling 300 fits\n"
          ],
          "name": "stdout"
        },
        {
          "output_type": "stream",
          "text": [
            "[Parallel(n_jobs=-1)]: Using backend LokyBackend with 2 concurrent workers.\n",
            "[Parallel(n_jobs=-1)]: Done  37 tasks      | elapsed:   53.3s\n",
            "[Parallel(n_jobs=-1)]: Done 158 tasks      | elapsed:  3.6min\n",
            "[Parallel(n_jobs=-1)]: Done 300 out of 300 | elapsed:  7.0min finished\n"
          ],
          "name": "stderr"
        },
        {
          "output_type": "execute_result",
          "data": {
            "text/plain": [
              "RandomizedSearchCV(cv=3, error_score=nan,\n",
              "                   estimator=RandomForestClassifier(bootstrap=True,\n",
              "                                                    ccp_alpha=0.0,\n",
              "                                                    class_weight=None,\n",
              "                                                    criterion='gini',\n",
              "                                                    max_depth=None,\n",
              "                                                    max_features='auto',\n",
              "                                                    max_leaf_nodes=None,\n",
              "                                                    max_samples=None,\n",
              "                                                    min_impurity_decrease=0.0,\n",
              "                                                    min_impurity_split=None,\n",
              "                                                    min_samples_leaf=1,\n",
              "                                                    min_samples_split=2,\n",
              "                                                    min_weight_fraction_leaf=0.0,\n",
              "                                                    n_estimators=100,\n",
              "                                                    n_jobs...\n",
              "                   iid='deprecated', n_iter=100, n_jobs=-1,\n",
              "                   param_distributions={'bootstrap': [True, False],\n",
              "                                        'max_depth': [10, 20, 30, 40, 50, 60,\n",
              "                                                      70, 80, 90, 100, 110,\n",
              "                                                      None],\n",
              "                                        'max_features': ['auto', 'sqrt'],\n",
              "                                        'min_samples_leaf': [1, 2, 4],\n",
              "                                        'min_samples_split': [2, 5, 10],\n",
              "                                        'n_estimators': [200, 400, 600, 800,\n",
              "                                                         1000, 1200, 1400, 1600,\n",
              "                                                         1800, 2000]},\n",
              "                   pre_dispatch='2*n_jobs', random_state=42, refit=True,\n",
              "                   return_train_score=True, scoring=None, verbose=2)"
            ]
          },
          "metadata": {
            "tags": []
          },
          "execution_count": 41
        }
      ]
    },
    {
      "cell_type": "code",
      "metadata": {
        "colab": {
          "base_uri": "https://localhost:8080/"
        },
        "id": "L0BZX-iosx-Q",
        "outputId": "da0d59c1-6f57-4423-b403-ec954ccbd96d"
      },
      "source": [
        "print(f'Train score : {rf_random.score(x_train, y_train):.3f}')\n",
        "print(f'Test score : {rf_random.score(x_test, y_test):.3f}')"
      ],
      "execution_count": 42,
      "outputs": [
        {
          "output_type": "stream",
          "text": [
            "Train score : 0.986\n",
            "Test score : 0.757\n"
          ],
          "name": "stdout"
        }
      ]
    },
    {
      "cell_type": "code",
      "metadata": {
        "id": "JJrSNNZ68ff3"
      },
      "source": [
        "modelo_random_forest_param = rf_random.best_estimator_"
      ],
      "execution_count": 43,
      "outputs": []
    },
    {
      "cell_type": "code",
      "metadata": {
        "colab": {
          "base_uri": "https://localhost:8080/"
        },
        "id": "T9cAhPwz8ff3",
        "outputId": "6313aabb-fc92-4818-b6f8-a8233b9906df"
      },
      "source": [
        "modelo_random_forest_param"
      ],
      "execution_count": 44,
      "outputs": [
        {
          "output_type": "execute_result",
          "data": {
            "text/plain": [
              "RandomForestClassifier(bootstrap=False, ccp_alpha=0.0, class_weight=None,\n",
              "                       criterion='gini', max_depth=60, max_features='auto',\n",
              "                       max_leaf_nodes=None, max_samples=None,\n",
              "                       min_impurity_decrease=0.0, min_impurity_split=None,\n",
              "                       min_samples_leaf=2, min_samples_split=10,\n",
              "                       min_weight_fraction_leaf=0.0, n_estimators=2000,\n",
              "                       n_jobs=None, oob_score=False, random_state=None,\n",
              "                       verbose=0, warm_start=False)"
            ]
          },
          "metadata": {
            "tags": []
          },
          "execution_count": 44
        }
      ]
    },
    {
      "cell_type": "markdown",
      "metadata": {
        "id": "jpI_-D42sx-U"
      },
      "source": [
        "#### Para comparar os resultados obitidos, vamos realizar a validação cruzada do modelo \"bruto\" contra o modelo otimizado com o `RandomizedSearchCV`"
      ]
    },
    {
      "cell_type": "code",
      "metadata": {
        "id": "OPOnWiJ_sx-U"
      },
      "source": [
        "modelos = [modelo_random_forest, modelo_random_forest_param]\n",
        "df_comparacao_parametros = roda_cross_validate_modelos(modelos, limitados, 5, 10)"
      ],
      "execution_count": 45,
      "outputs": []
    },
    {
      "cell_type": "code",
      "metadata": {
        "colab": {
          "base_uri": "https://localhost:8080/",
          "height": 112
        },
        "id": "lPM4es_w8ff5",
        "outputId": "51540190-e445-40f6-dc4a-c1e1cd116d84"
      },
      "source": [
        "df_comparacao_parametros"
      ],
      "execution_count": 46,
      "outputs": [
        {
          "output_type": "execute_result",
          "data": {
            "text/html": [
              "<div>\n",
              "<style scoped>\n",
              "    .dataframe tbody tr th:only-of-type {\n",
              "        vertical-align: middle;\n",
              "    }\n",
              "\n",
              "    .dataframe tbody tr th {\n",
              "        vertical-align: top;\n",
              "    }\n",
              "\n",
              "    .dataframe thead th {\n",
              "        text-align: right;\n",
              "    }\n",
              "</style>\n",
              "<table border=\"1\" class=\"dataframe\">\n",
              "  <thead>\n",
              "    <tr style=\"text-align: right;\">\n",
              "      <th></th>\n",
              "      <th>Modelo</th>\n",
              "      <th>AUC_Mean</th>\n",
              "      <th>IC_Min</th>\n",
              "      <th>IC_Max</th>\n",
              "    </tr>\n",
              "  </thead>\n",
              "  <tbody>\n",
              "    <tr>\n",
              "      <th>0</th>\n",
              "      <td>RandomForestClassifier(bootstrap=True, ccp_alp...</td>\n",
              "      <td>0.761878</td>\n",
              "      <td>0.646132</td>\n",
              "      <td>0.877624</td>\n",
              "    </tr>\n",
              "    <tr>\n",
              "      <th>1</th>\n",
              "      <td>(DecisionTreeClassifier(ccp_alpha=0.0, class_w...</td>\n",
              "      <td>0.765115</td>\n",
              "      <td>0.649363</td>\n",
              "      <td>0.880868</td>\n",
              "    </tr>\n",
              "  </tbody>\n",
              "</table>\n",
              "</div>"
            ],
            "text/plain": [
              "                                              Modelo  ...    IC_Max\n",
              "0  RandomForestClassifier(bootstrap=True, ccp_alp...  ...  0.877624\n",
              "1  (DecisionTreeClassifier(ccp_alpha=0.0, class_w...  ...  0.880868\n",
              "\n",
              "[2 rows x 4 columns]"
            ]
          },
          "metadata": {
            "tags": []
          },
          "execution_count": 46
        }
      ]
    },
    {
      "cell_type": "markdown",
      "metadata": {
        "id": "R0T7cJEpsx-U"
      },
      "source": [
        "No dataframe acima, temos a comparação entre o modelo \"bruto\" e o modelo após a seleção de hiperparâmetros, frente a uma validação cruzada com 5 *folds* e 10 repetições.\n",
        "***\n",
        "Após a tentativa de otimização dos parâmetros, notei que houve pequena mudança na eficácia dos modelos. <br>\n",
        "Isso pode ter acontecido por algumas razões: \n",
        "1. Foi **encontrado um limite de eficácia**, considerando esses modelos e os dados disponíveis;\n",
        "2. **Que eu não realizei uma busca exaustiva dos melhores parâmetros**.\n",
        "***\n",
        "Ainda assim, o modelo que teve o melhor resultado foi o **RandomForest** após otimizações. "
      ]
    },
    {
      "cell_type": "markdown",
      "metadata": {
        "id": "VmB3QbQusx-V"
      },
      "source": [
        "### <font color='red'> >> </font> Otimização secundária do melhor modelo\n",
        "Partindo do melhor modelo selecionado anteriormente, tentarei fazer uma nova otimização, desta vez usando o `GridSearchCV`, focando nos parâmetros `max_depth` e `n_estimators`."
      ]
    },
    {
      "cell_type": "code",
      "metadata": {
        "id": "EveDfznHsx-V"
      },
      "source": [
        "max_depth_range = np.arange(20,25,1)\n",
        "n_estimators_range = np.arange(2000, 3000, 200)\n",
        "param_grid = dict(max_depth=max_depth_range, n_estimators=n_estimators_range)"
      ],
      "execution_count": 47,
      "outputs": []
    },
    {
      "cell_type": "code",
      "metadata": {
        "id": "SclnF5F_sx-V"
      },
      "source": [
        "grid = GridSearchCV(estimator = modelo_random_forest_param, param_grid=param_grid, cv=3, verbose=2, n_jobs=-1,\n",
        "                   scoring='roc_auc')"
      ],
      "execution_count": 48,
      "outputs": []
    },
    {
      "cell_type": "code",
      "metadata": {
        "colab": {
          "base_uri": "https://localhost:8080/"
        },
        "id": "uRGCy0d5sx-V",
        "outputId": "113890d4-0f3f-4a84-83a7-e56659919bb8"
      },
      "source": [
        "grid.fit(x_train, y_train)"
      ],
      "execution_count": 49,
      "outputs": [
        {
          "output_type": "stream",
          "text": [
            "Fitting 3 folds for each of 25 candidates, totalling 75 fits\n"
          ],
          "name": "stdout"
        },
        {
          "output_type": "stream",
          "text": [
            "[Parallel(n_jobs=-1)]: Using backend LokyBackend with 2 concurrent workers.\n",
            "[Parallel(n_jobs=-1)]: Done  37 tasks      | elapsed:  1.5min\n",
            "[Parallel(n_jobs=-1)]: Done  75 out of  75 | elapsed:  3.0min finished\n"
          ],
          "name": "stderr"
        },
        {
          "output_type": "execute_result",
          "data": {
            "text/plain": [
              "GridSearchCV(cv=3, error_score=nan,\n",
              "             estimator=RandomForestClassifier(bootstrap=False, ccp_alpha=0.0,\n",
              "                                              class_weight=None,\n",
              "                                              criterion='gini', max_depth=60,\n",
              "                                              max_features='auto',\n",
              "                                              max_leaf_nodes=None,\n",
              "                                              max_samples=None,\n",
              "                                              min_impurity_decrease=0.0,\n",
              "                                              min_impurity_split=None,\n",
              "                                              min_samples_leaf=2,\n",
              "                                              min_samples_split=10,\n",
              "                                              min_weight_fraction_leaf=0.0,\n",
              "                                              n_estimators=2000, n_jobs=None,\n",
              "                                              oob_score=False,\n",
              "                                              random_state=None, verbose=0,\n",
              "                                              warm_start=False),\n",
              "             iid='deprecated', n_jobs=-1,\n",
              "             param_grid={'max_depth': array([20, 21, 22, 23, 24]),\n",
              "                         'n_estimators': array([2000, 2200, 2400, 2600, 2800])},\n",
              "             pre_dispatch='2*n_jobs', refit=True, return_train_score=False,\n",
              "             scoring='roc_auc', verbose=2)"
            ]
          },
          "metadata": {
            "tags": []
          },
          "execution_count": 49
        }
      ]
    },
    {
      "cell_type": "code",
      "metadata": {
        "colab": {
          "base_uri": "https://localhost:8080/"
        },
        "id": "SD3wGG5t8ff7",
        "outputId": "cc21f2a6-e25a-41a5-ceb4-a4903ceef7ce"
      },
      "source": [
        "modelo_random_forest_param_extra = grid.best_estimator_\n",
        "modelo_random_forest_param_extra"
      ],
      "execution_count": 50,
      "outputs": [
        {
          "output_type": "execute_result",
          "data": {
            "text/plain": [
              "RandomForestClassifier(bootstrap=False, ccp_alpha=0.0, class_weight=None,\n",
              "                       criterion='gini', max_depth=21, max_features='auto',\n",
              "                       max_leaf_nodes=None, max_samples=None,\n",
              "                       min_impurity_decrease=0.0, min_impurity_split=None,\n",
              "                       min_samples_leaf=2, min_samples_split=10,\n",
              "                       min_weight_fraction_leaf=0.0, n_estimators=2200,\n",
              "                       n_jobs=None, oob_score=False, random_state=None,\n",
              "                       verbose=0, warm_start=False)"
            ]
          },
          "metadata": {
            "tags": []
          },
          "execution_count": 50
        }
      ]
    },
    {
      "cell_type": "code",
      "metadata": {
        "colab": {
          "base_uri": "https://localhost:8080/",
          "height": 143
        },
        "id": "XlO-Seh_8ff7",
        "outputId": "74d0da1c-a017-4c01-fe5d-c0302e89e2be"
      },
      "source": [
        "modelos = [modelo_random_forest, modelo_random_forest_param, modelo_random_forest_param_extra]\n",
        "df_comparacao_parametros = roda_cross_validate_modelos(modelos, limitados, 5, 10)\n",
        "df_comparacao_parametros"
      ],
      "execution_count": 51,
      "outputs": [
        {
          "output_type": "execute_result",
          "data": {
            "text/html": [
              "<div>\n",
              "<style scoped>\n",
              "    .dataframe tbody tr th:only-of-type {\n",
              "        vertical-align: middle;\n",
              "    }\n",
              "\n",
              "    .dataframe tbody tr th {\n",
              "        vertical-align: top;\n",
              "    }\n",
              "\n",
              "    .dataframe thead th {\n",
              "        text-align: right;\n",
              "    }\n",
              "</style>\n",
              "<table border=\"1\" class=\"dataframe\">\n",
              "  <thead>\n",
              "    <tr style=\"text-align: right;\">\n",
              "      <th></th>\n",
              "      <th>Modelo</th>\n",
              "      <th>AUC_Mean</th>\n",
              "      <th>IC_Min</th>\n",
              "      <th>IC_Max</th>\n",
              "    </tr>\n",
              "  </thead>\n",
              "  <tbody>\n",
              "    <tr>\n",
              "      <th>0</th>\n",
              "      <td>RandomForestClassifier(bootstrap=True, ccp_alp...</td>\n",
              "      <td>0.761878</td>\n",
              "      <td>0.646132</td>\n",
              "      <td>0.877624</td>\n",
              "    </tr>\n",
              "    <tr>\n",
              "      <th>1</th>\n",
              "      <td>(DecisionTreeClassifier(ccp_alpha=0.0, class_w...</td>\n",
              "      <td>0.765115</td>\n",
              "      <td>0.649363</td>\n",
              "      <td>0.880868</td>\n",
              "    </tr>\n",
              "    <tr>\n",
              "      <th>2</th>\n",
              "      <td>(DecisionTreeClassifier(ccp_alpha=0.0, class_w...</td>\n",
              "      <td>0.757152</td>\n",
              "      <td>0.638356</td>\n",
              "      <td>0.875947</td>\n",
              "    </tr>\n",
              "  </tbody>\n",
              "</table>\n",
              "</div>"
            ],
            "text/plain": [
              "                                              Modelo  ...    IC_Max\n",
              "0  RandomForestClassifier(bootstrap=True, ccp_alp...  ...  0.877624\n",
              "1  (DecisionTreeClassifier(ccp_alpha=0.0, class_w...  ...  0.880868\n",
              "2  (DecisionTreeClassifier(ccp_alpha=0.0, class_w...  ...  0.875947\n",
              "\n",
              "[3 rows x 4 columns]"
            ]
          },
          "metadata": {
            "tags": []
          },
          "execution_count": 51
        }
      ]
    },
    {
      "cell_type": "markdown",
      "metadata": {
        "id": "uWpbP3fC8ff7"
      },
      "source": [
        "Aqui notamos que houve melhora \"significativa\" na AUC do modelo após as primeiras otimizações. Porém, a otimização seguinte nos trouxe uma melhora bastante sútil. <br>\n",
        "Aparentemente, isso reforça a teoria de que o modelo chegou a um limite de performance, dado os dados disponíveis."
      ]
    },
    {
      "cell_type": "markdown",
      "metadata": {
        "id": "Ma4qgTSo8ff7"
      },
      "source": [
        "### Visualizando o processo de otimização do novo modelo\n",
        "***\n",
        "Muitas vezes o processo de treinamento e obtenção das métricas pode parecer algo \"mágico\". Dessa forma, plotei algumas gráficos para avaliarmos a performance do modelo, à medida que são executados testados diferentes parâmetros. <br>\n",
        "**Obs**: Os resultados são baseados apenas no conjunto de treino."
      ]
    },
    {
      "cell_type": "code",
      "metadata": {
        "id": "BQsYxAaasx-W"
      },
      "source": [
        "grid_results = pd.concat([pd.DataFrame(grid.cv_results_['params']), pd.DataFrame(grid.cv_results_['mean_test_score'], columns=['AUC'])], axis=1)\n",
        "grid_contour = grid_results.groupby(['max_depth','n_estimators']).mean()\n",
        "\n",
        "grid_reset = grid_contour.reset_index()\n",
        "grid_reset.columns = ['max_depth', 'n_estimators', 'AUC']\n",
        "grid_pivot = grid_reset.pivot('max_depth', 'n_estimators')\n",
        "\n",
        "x = grid_pivot.columns.levels[1].values\n",
        "y = grid_pivot.index.values\n",
        "z = grid_pivot.values"
      ],
      "execution_count": 52,
      "outputs": []
    },
    {
      "cell_type": "code",
      "metadata": {
        "colab": {
          "base_uri": "https://localhost:8080/",
          "height": 517
        },
        "id": "OzqLAuResx-W",
        "outputId": "6af48ac5-5f49-4676-a9e7-e9c35badce7e"
      },
      "source": [
        "import plotly.graph_objects as go\n",
        "\n",
        "# X and Y axes labels\n",
        "layout = go.Layout(\n",
        "            xaxis=go.layout.XAxis(\n",
        "              title=go.layout.xaxis.Title(\n",
        "              text='n_estimators')\n",
        "             ),\n",
        "             yaxis=go.layout.YAxis(\n",
        "              title=go.layout.yaxis.Title(\n",
        "              text='max_depth') \n",
        "            ) )\n",
        "\n",
        "fig = go.Figure(data = [go.Contour(z=z, x=x, y=y)], layout=layout )\n",
        "\n",
        "fig.update_layout(title='Efeito de n_estimators e max_depth na AUC do modelo RandomForest', autosize=False,\n",
        "                  width=500, height=500,\n",
        "                  margin=dict(l=65, r=50, b=65, t=90))\n",
        "\n",
        "fig.show()"
      ],
      "execution_count": 53,
      "outputs": [
        {
          "output_type": "display_data",
          "data": {
            "text/html": [
              "<html>\n",
              "<head><meta charset=\"utf-8\" /></head>\n",
              "<body>\n",
              "    <div>\n",
              "            <script src=\"https://cdnjs.cloudflare.com/ajax/libs/mathjax/2.7.5/MathJax.js?config=TeX-AMS-MML_SVG\"></script><script type=\"text/javascript\">if (window.MathJax) {MathJax.Hub.Config({SVG: {font: \"STIX-Web\"}});}</script>\n",
              "                <script type=\"text/javascript\">window.PlotlyConfig = {MathJaxConfig: 'local'};</script>\n",
              "        <script src=\"https://cdn.plot.ly/plotly-latest.min.js\"></script>    \n",
              "            <div id=\"1af1d0fd-0a66-4854-9963-a16d85a587e6\" class=\"plotly-graph-div\" style=\"height:500px; width:500px;\"></div>\n",
              "            <script type=\"text/javascript\">\n",
              "                \n",
              "                    window.PLOTLYENV=window.PLOTLYENV || {};\n",
              "                    \n",
              "                if (document.getElementById(\"1af1d0fd-0a66-4854-9963-a16d85a587e6\")) {\n",
              "                    Plotly.newPlot(\n",
              "                        '1af1d0fd-0a66-4854-9963-a16d85a587e6',\n",
              "                        [{\"type\": \"contour\", \"x\": [2000, 2200, 2400, 2600, 2800], \"y\": [20, 21, 22, 23, 24], \"z\": [[0.7321028065708917, 0.7302236770321877, 0.7340021418035603, 0.7315875613747954, 0.7307490250752662], [0.7324058919803601, 0.7353761289931503, 0.7318704410902992, 0.7307692307692308, 0.7324159948273423], [0.7294457578145521, 0.7332646339738539, 0.7335475136893576, 0.7283243417995191, 0.7337495706290033], [0.7342951243660464, 0.7326887716958638, 0.7323654805924309, 0.7306985108403549, 0.7307692307692308], [0.729728637530056, 0.7304964539007092, 0.7323856862863956, 0.7293952435796407, 0.7324463033682891]]}],\n",
              "                        {\"autosize\": false, \"height\": 500, \"margin\": {\"b\": 65, \"l\": 65, \"r\": 50, \"t\": 90}, \"template\": {\"data\": {\"bar\": [{\"error_x\": {\"color\": \"#2a3f5f\"}, \"error_y\": {\"color\": \"#2a3f5f\"}, \"marker\": {\"line\": {\"color\": \"#E5ECF6\", \"width\": 0.5}}, \"type\": \"bar\"}], \"barpolar\": [{\"marker\": {\"line\": {\"color\": \"#E5ECF6\", \"width\": 0.5}}, \"type\": \"barpolar\"}], \"carpet\": [{\"aaxis\": {\"endlinecolor\": \"#2a3f5f\", \"gridcolor\": \"white\", \"linecolor\": \"white\", \"minorgridcolor\": \"white\", \"startlinecolor\": \"#2a3f5f\"}, \"baxis\": {\"endlinecolor\": \"#2a3f5f\", \"gridcolor\": \"white\", \"linecolor\": \"white\", \"minorgridcolor\": \"white\", \"startlinecolor\": \"#2a3f5f\"}, \"type\": \"carpet\"}], \"choropleth\": [{\"colorbar\": {\"outlinewidth\": 0, \"ticks\": \"\"}, \"type\": \"choropleth\"}], \"contour\": [{\"colorbar\": {\"outlinewidth\": 0, \"ticks\": \"\"}, \"colorscale\": [[0.0, \"#0d0887\"], [0.1111111111111111, \"#46039f\"], [0.2222222222222222, \"#7201a8\"], [0.3333333333333333, \"#9c179e\"], [0.4444444444444444, \"#bd3786\"], [0.5555555555555556, \"#d8576b\"], [0.6666666666666666, \"#ed7953\"], [0.7777777777777778, \"#fb9f3a\"], [0.8888888888888888, \"#fdca26\"], [1.0, \"#f0f921\"]], \"type\": \"contour\"}], \"contourcarpet\": [{\"colorbar\": {\"outlinewidth\": 0, \"ticks\": \"\"}, \"type\": \"contourcarpet\"}], \"heatmap\": [{\"colorbar\": {\"outlinewidth\": 0, \"ticks\": \"\"}, \"colorscale\": [[0.0, \"#0d0887\"], [0.1111111111111111, \"#46039f\"], [0.2222222222222222, \"#7201a8\"], [0.3333333333333333, \"#9c179e\"], [0.4444444444444444, \"#bd3786\"], [0.5555555555555556, \"#d8576b\"], [0.6666666666666666, \"#ed7953\"], [0.7777777777777778, \"#fb9f3a\"], [0.8888888888888888, \"#fdca26\"], [1.0, \"#f0f921\"]], \"type\": \"heatmap\"}], \"heatmapgl\": [{\"colorbar\": {\"outlinewidth\": 0, \"ticks\": \"\"}, \"colorscale\": [[0.0, \"#0d0887\"], [0.1111111111111111, \"#46039f\"], [0.2222222222222222, \"#7201a8\"], [0.3333333333333333, \"#9c179e\"], [0.4444444444444444, \"#bd3786\"], [0.5555555555555556, \"#d8576b\"], [0.6666666666666666, \"#ed7953\"], [0.7777777777777778, \"#fb9f3a\"], [0.8888888888888888, \"#fdca26\"], [1.0, \"#f0f921\"]], \"type\": \"heatmapgl\"}], \"histogram\": [{\"marker\": {\"colorbar\": {\"outlinewidth\": 0, \"ticks\": \"\"}}, \"type\": \"histogram\"}], \"histogram2d\": [{\"colorbar\": {\"outlinewidth\": 0, \"ticks\": \"\"}, \"colorscale\": [[0.0, \"#0d0887\"], [0.1111111111111111, \"#46039f\"], [0.2222222222222222, \"#7201a8\"], [0.3333333333333333, \"#9c179e\"], [0.4444444444444444, \"#bd3786\"], [0.5555555555555556, \"#d8576b\"], [0.6666666666666666, \"#ed7953\"], [0.7777777777777778, \"#fb9f3a\"], [0.8888888888888888, \"#fdca26\"], [1.0, \"#f0f921\"]], \"type\": \"histogram2d\"}], \"histogram2dcontour\": [{\"colorbar\": {\"outlinewidth\": 0, \"ticks\": \"\"}, \"colorscale\": [[0.0, \"#0d0887\"], [0.1111111111111111, \"#46039f\"], [0.2222222222222222, \"#7201a8\"], [0.3333333333333333, \"#9c179e\"], [0.4444444444444444, \"#bd3786\"], [0.5555555555555556, \"#d8576b\"], [0.6666666666666666, \"#ed7953\"], [0.7777777777777778, \"#fb9f3a\"], [0.8888888888888888, \"#fdca26\"], [1.0, \"#f0f921\"]], \"type\": \"histogram2dcontour\"}], \"mesh3d\": [{\"colorbar\": {\"outlinewidth\": 0, \"ticks\": \"\"}, \"type\": \"mesh3d\"}], \"parcoords\": [{\"line\": {\"colorbar\": {\"outlinewidth\": 0, \"ticks\": \"\"}}, \"type\": \"parcoords\"}], \"pie\": [{\"automargin\": true, \"type\": \"pie\"}], \"scatter\": [{\"marker\": {\"colorbar\": {\"outlinewidth\": 0, \"ticks\": \"\"}}, \"type\": \"scatter\"}], \"scatter3d\": [{\"line\": {\"colorbar\": {\"outlinewidth\": 0, \"ticks\": \"\"}}, \"marker\": {\"colorbar\": {\"outlinewidth\": 0, \"ticks\": \"\"}}, \"type\": \"scatter3d\"}], \"scattercarpet\": [{\"marker\": {\"colorbar\": {\"outlinewidth\": 0, \"ticks\": \"\"}}, \"type\": \"scattercarpet\"}], \"scattergeo\": [{\"marker\": {\"colorbar\": {\"outlinewidth\": 0, \"ticks\": \"\"}}, \"type\": \"scattergeo\"}], \"scattergl\": [{\"marker\": {\"colorbar\": {\"outlinewidth\": 0, \"ticks\": \"\"}}, \"type\": \"scattergl\"}], \"scattermapbox\": [{\"marker\": {\"colorbar\": {\"outlinewidth\": 0, \"ticks\": \"\"}}, \"type\": \"scattermapbox\"}], \"scatterpolar\": [{\"marker\": {\"colorbar\": {\"outlinewidth\": 0, \"ticks\": \"\"}}, \"type\": \"scatterpolar\"}], \"scatterpolargl\": [{\"marker\": {\"colorbar\": {\"outlinewidth\": 0, \"ticks\": \"\"}}, \"type\": \"scatterpolargl\"}], \"scatterternary\": [{\"marker\": {\"colorbar\": {\"outlinewidth\": 0, \"ticks\": \"\"}}, \"type\": \"scatterternary\"}], \"surface\": [{\"colorbar\": {\"outlinewidth\": 0, \"ticks\": \"\"}, \"colorscale\": [[0.0, \"#0d0887\"], [0.1111111111111111, \"#46039f\"], [0.2222222222222222, \"#7201a8\"], [0.3333333333333333, \"#9c179e\"], [0.4444444444444444, \"#bd3786\"], [0.5555555555555556, \"#d8576b\"], [0.6666666666666666, \"#ed7953\"], [0.7777777777777778, \"#fb9f3a\"], [0.8888888888888888, \"#fdca26\"], [1.0, \"#f0f921\"]], \"type\": \"surface\"}], \"table\": [{\"cells\": {\"fill\": {\"color\": \"#EBF0F8\"}, \"line\": {\"color\": \"white\"}}, \"header\": {\"fill\": {\"color\": \"#C8D4E3\"}, \"line\": {\"color\": \"white\"}}, \"type\": \"table\"}]}, \"layout\": {\"annotationdefaults\": {\"arrowcolor\": \"#2a3f5f\", \"arrowhead\": 0, \"arrowwidth\": 1}, \"coloraxis\": {\"colorbar\": {\"outlinewidth\": 0, \"ticks\": \"\"}}, \"colorscale\": {\"diverging\": [[0, \"#8e0152\"], [0.1, \"#c51b7d\"], [0.2, \"#de77ae\"], [0.3, \"#f1b6da\"], [0.4, \"#fde0ef\"], [0.5, \"#f7f7f7\"], [0.6, \"#e6f5d0\"], [0.7, \"#b8e186\"], [0.8, \"#7fbc41\"], [0.9, \"#4d9221\"], [1, \"#276419\"]], \"sequential\": [[0.0, \"#0d0887\"], [0.1111111111111111, \"#46039f\"], [0.2222222222222222, \"#7201a8\"], [0.3333333333333333, \"#9c179e\"], [0.4444444444444444, \"#bd3786\"], [0.5555555555555556, \"#d8576b\"], [0.6666666666666666, \"#ed7953\"], [0.7777777777777778, \"#fb9f3a\"], [0.8888888888888888, \"#fdca26\"], [1.0, \"#f0f921\"]], \"sequentialminus\": [[0.0, \"#0d0887\"], [0.1111111111111111, \"#46039f\"], [0.2222222222222222, \"#7201a8\"], [0.3333333333333333, \"#9c179e\"], [0.4444444444444444, \"#bd3786\"], [0.5555555555555556, \"#d8576b\"], [0.6666666666666666, \"#ed7953\"], [0.7777777777777778, \"#fb9f3a\"], [0.8888888888888888, \"#fdca26\"], [1.0, \"#f0f921\"]]}, \"colorway\": [\"#636efa\", \"#EF553B\", \"#00cc96\", \"#ab63fa\", \"#FFA15A\", \"#19d3f3\", \"#FF6692\", \"#B6E880\", \"#FF97FF\", \"#FECB52\"], \"font\": {\"color\": \"#2a3f5f\"}, \"geo\": {\"bgcolor\": \"white\", \"lakecolor\": \"white\", \"landcolor\": \"#E5ECF6\", \"showlakes\": true, \"showland\": true, \"subunitcolor\": \"white\"}, \"hoverlabel\": {\"align\": \"left\"}, \"hovermode\": \"closest\", \"mapbox\": {\"style\": \"light\"}, \"paper_bgcolor\": \"white\", \"plot_bgcolor\": \"#E5ECF6\", \"polar\": {\"angularaxis\": {\"gridcolor\": \"white\", \"linecolor\": \"white\", \"ticks\": \"\"}, \"bgcolor\": \"#E5ECF6\", \"radialaxis\": {\"gridcolor\": \"white\", \"linecolor\": \"white\", \"ticks\": \"\"}}, \"scene\": {\"xaxis\": {\"backgroundcolor\": \"#E5ECF6\", \"gridcolor\": \"white\", \"gridwidth\": 2, \"linecolor\": \"white\", \"showbackground\": true, \"ticks\": \"\", \"zerolinecolor\": \"white\"}, \"yaxis\": {\"backgroundcolor\": \"#E5ECF6\", \"gridcolor\": \"white\", \"gridwidth\": 2, \"linecolor\": \"white\", \"showbackground\": true, \"ticks\": \"\", \"zerolinecolor\": \"white\"}, \"zaxis\": {\"backgroundcolor\": \"#E5ECF6\", \"gridcolor\": \"white\", \"gridwidth\": 2, \"linecolor\": \"white\", \"showbackground\": true, \"ticks\": \"\", \"zerolinecolor\": \"white\"}}, \"shapedefaults\": {\"line\": {\"color\": \"#2a3f5f\"}}, \"ternary\": {\"aaxis\": {\"gridcolor\": \"white\", \"linecolor\": \"white\", \"ticks\": \"\"}, \"baxis\": {\"gridcolor\": \"white\", \"linecolor\": \"white\", \"ticks\": \"\"}, \"bgcolor\": \"#E5ECF6\", \"caxis\": {\"gridcolor\": \"white\", \"linecolor\": \"white\", \"ticks\": \"\"}}, \"title\": {\"x\": 0.05}, \"xaxis\": {\"automargin\": true, \"gridcolor\": \"white\", \"linecolor\": \"white\", \"ticks\": \"\", \"title\": {\"standoff\": 15}, \"zerolinecolor\": \"white\", \"zerolinewidth\": 2}, \"yaxis\": {\"automargin\": true, \"gridcolor\": \"white\", \"linecolor\": \"white\", \"ticks\": \"\", \"title\": {\"standoff\": 15}, \"zerolinecolor\": \"white\", \"zerolinewidth\": 2}}}, \"title\": {\"text\": \"Efeito de n_estimators e max_depth na AUC do modelo RandomForest\"}, \"width\": 500, \"xaxis\": {\"title\": {\"text\": \"n_estimators\"}}, \"yaxis\": {\"title\": {\"text\": \"max_depth\"}}},\n",
              "                        {\"responsive\": true}\n",
              "                    ).then(function(){\n",
              "                            \n",
              "var gd = document.getElementById('1af1d0fd-0a66-4854-9963-a16d85a587e6');\n",
              "var x = new MutationObserver(function (mutations, observer) {{\n",
              "        var display = window.getComputedStyle(gd).display;\n",
              "        if (!display || display === 'none') {{\n",
              "            console.log([gd, 'removed!']);\n",
              "            Plotly.purge(gd);\n",
              "            observer.disconnect();\n",
              "        }}\n",
              "}});\n",
              "\n",
              "// Listen for the removal of the full notebook cells\n",
              "var notebookContainer = gd.closest('#notebook-container');\n",
              "if (notebookContainer) {{\n",
              "    x.observe(notebookContainer, {childList: true});\n",
              "}}\n",
              "\n",
              "// Listen for the clearing of the current output cell\n",
              "var outputEl = gd.closest('.output');\n",
              "if (outputEl) {{\n",
              "    x.observe(outputEl, {childList: true});\n",
              "}}\n",
              "\n",
              "                        })\n",
              "                };\n",
              "                \n",
              "            </script>\n",
              "        </div>\n",
              "</body>\n",
              "</html>"
            ]
          },
          "metadata": {
            "tags": []
          }
        }
      ]
    },
    {
      "cell_type": "markdown",
      "metadata": {
        "id": "nu2Wf0y88ff_"
      },
      "source": [
        "Na figura acima temos um mapa de calor 2D. De forma simples, as regiões com cores mais próximas do amarelo indicam combinados de n_estimators e max_features que mostram os melhores resultados de AUC. "
      ]
    },
    {
      "cell_type": "code",
      "metadata": {
        "colab": {
          "base_uri": "https://localhost:8080/",
          "height": 817
        },
        "id": "tbALDZi6sx-W",
        "outputId": "ad69c9ab-f229-447d-8753-ec7053c51e57"
      },
      "source": [
        "import plotly.graph_objects as go\n",
        "\n",
        "\n",
        "fig = go.Figure(data= [go.Surface(z=z, y=y, x=x)], layout=layout )\n",
        "fig.update_layout(title='Efeito de n_estimators e max_depth na AUC do modelo RandomForest',\n",
        "                  scene = dict(\n",
        "                    xaxis_title='n_estimators',\n",
        "                    yaxis_title='max_depth',\n",
        "                    zaxis_title='AUC'),\n",
        "                  autosize=False,\n",
        "                  width=800, height=800,\n",
        "                  margin=dict(l=65, r=50, b=65, t=90))\n",
        "fig.show()"
      ],
      "execution_count": 54,
      "outputs": [
        {
          "output_type": "display_data",
          "data": {
            "text/html": [
              "<html>\n",
              "<head><meta charset=\"utf-8\" /></head>\n",
              "<body>\n",
              "    <div>\n",
              "            <script src=\"https://cdnjs.cloudflare.com/ajax/libs/mathjax/2.7.5/MathJax.js?config=TeX-AMS-MML_SVG\"></script><script type=\"text/javascript\">if (window.MathJax) {MathJax.Hub.Config({SVG: {font: \"STIX-Web\"}});}</script>\n",
              "                <script type=\"text/javascript\">window.PlotlyConfig = {MathJaxConfig: 'local'};</script>\n",
              "        <script src=\"https://cdn.plot.ly/plotly-latest.min.js\"></script>    \n",
              "            <div id=\"08e3c7aa-7088-46ff-b97f-aa337c68bdf8\" class=\"plotly-graph-div\" style=\"height:800px; width:800px;\"></div>\n",
              "            <script type=\"text/javascript\">\n",
              "                \n",
              "                    window.PLOTLYENV=window.PLOTLYENV || {};\n",
              "                    \n",
              "                if (document.getElementById(\"08e3c7aa-7088-46ff-b97f-aa337c68bdf8\")) {\n",
              "                    Plotly.newPlot(\n",
              "                        '08e3c7aa-7088-46ff-b97f-aa337c68bdf8',\n",
              "                        [{\"type\": \"surface\", \"x\": [2000, 2200, 2400, 2600, 2800], \"y\": [20, 21, 22, 23, 24], \"z\": [[0.7321028065708917, 0.7302236770321877, 0.7340021418035603, 0.7315875613747954, 0.7307490250752662], [0.7324058919803601, 0.7353761289931503, 0.7318704410902992, 0.7307692307692308, 0.7324159948273423], [0.7294457578145521, 0.7332646339738539, 0.7335475136893576, 0.7283243417995191, 0.7337495706290033], [0.7342951243660464, 0.7326887716958638, 0.7323654805924309, 0.7306985108403549, 0.7307692307692308], [0.729728637530056, 0.7304964539007092, 0.7323856862863956, 0.7293952435796407, 0.7324463033682891]]}],\n",
              "                        {\"autosize\": false, \"height\": 800, \"margin\": {\"b\": 65, \"l\": 65, \"r\": 50, \"t\": 90}, \"scene\": {\"xaxis\": {\"title\": {\"text\": \"n_estimators\"}}, \"yaxis\": {\"title\": {\"text\": \"max_depth\"}}, \"zaxis\": {\"title\": {\"text\": \"AUC\"}}}, \"template\": {\"data\": {\"bar\": [{\"error_x\": {\"color\": \"#2a3f5f\"}, \"error_y\": {\"color\": \"#2a3f5f\"}, \"marker\": {\"line\": {\"color\": \"#E5ECF6\", \"width\": 0.5}}, \"type\": \"bar\"}], \"barpolar\": [{\"marker\": {\"line\": {\"color\": \"#E5ECF6\", \"width\": 0.5}}, \"type\": \"barpolar\"}], \"carpet\": [{\"aaxis\": {\"endlinecolor\": \"#2a3f5f\", \"gridcolor\": \"white\", \"linecolor\": \"white\", \"minorgridcolor\": \"white\", \"startlinecolor\": \"#2a3f5f\"}, \"baxis\": {\"endlinecolor\": \"#2a3f5f\", \"gridcolor\": \"white\", \"linecolor\": \"white\", \"minorgridcolor\": \"white\", \"startlinecolor\": \"#2a3f5f\"}, \"type\": \"carpet\"}], \"choropleth\": [{\"colorbar\": {\"outlinewidth\": 0, \"ticks\": \"\"}, \"type\": \"choropleth\"}], \"contour\": [{\"colorbar\": {\"outlinewidth\": 0, \"ticks\": \"\"}, \"colorscale\": [[0.0, \"#0d0887\"], [0.1111111111111111, \"#46039f\"], [0.2222222222222222, \"#7201a8\"], [0.3333333333333333, \"#9c179e\"], [0.4444444444444444, \"#bd3786\"], [0.5555555555555556, \"#d8576b\"], [0.6666666666666666, \"#ed7953\"], [0.7777777777777778, \"#fb9f3a\"], [0.8888888888888888, \"#fdca26\"], [1.0, \"#f0f921\"]], \"type\": \"contour\"}], \"contourcarpet\": [{\"colorbar\": {\"outlinewidth\": 0, \"ticks\": \"\"}, \"type\": \"contourcarpet\"}], \"heatmap\": [{\"colorbar\": {\"outlinewidth\": 0, \"ticks\": \"\"}, \"colorscale\": [[0.0, \"#0d0887\"], [0.1111111111111111, \"#46039f\"], [0.2222222222222222, \"#7201a8\"], [0.3333333333333333, \"#9c179e\"], [0.4444444444444444, \"#bd3786\"], [0.5555555555555556, \"#d8576b\"], [0.6666666666666666, \"#ed7953\"], [0.7777777777777778, \"#fb9f3a\"], [0.8888888888888888, \"#fdca26\"], [1.0, \"#f0f921\"]], \"type\": \"heatmap\"}], \"heatmapgl\": [{\"colorbar\": {\"outlinewidth\": 0, \"ticks\": \"\"}, \"colorscale\": [[0.0, \"#0d0887\"], [0.1111111111111111, \"#46039f\"], [0.2222222222222222, \"#7201a8\"], [0.3333333333333333, \"#9c179e\"], [0.4444444444444444, \"#bd3786\"], [0.5555555555555556, \"#d8576b\"], [0.6666666666666666, \"#ed7953\"], [0.7777777777777778, \"#fb9f3a\"], [0.8888888888888888, \"#fdca26\"], [1.0, \"#f0f921\"]], \"type\": \"heatmapgl\"}], \"histogram\": [{\"marker\": {\"colorbar\": {\"outlinewidth\": 0, \"ticks\": \"\"}}, \"type\": \"histogram\"}], \"histogram2d\": [{\"colorbar\": {\"outlinewidth\": 0, \"ticks\": \"\"}, \"colorscale\": [[0.0, \"#0d0887\"], [0.1111111111111111, \"#46039f\"], [0.2222222222222222, \"#7201a8\"], [0.3333333333333333, \"#9c179e\"], [0.4444444444444444, \"#bd3786\"], [0.5555555555555556, \"#d8576b\"], [0.6666666666666666, \"#ed7953\"], [0.7777777777777778, \"#fb9f3a\"], [0.8888888888888888, \"#fdca26\"], [1.0, \"#f0f921\"]], \"type\": \"histogram2d\"}], \"histogram2dcontour\": [{\"colorbar\": {\"outlinewidth\": 0, \"ticks\": \"\"}, \"colorscale\": [[0.0, \"#0d0887\"], [0.1111111111111111, \"#46039f\"], [0.2222222222222222, \"#7201a8\"], [0.3333333333333333, \"#9c179e\"], [0.4444444444444444, \"#bd3786\"], [0.5555555555555556, \"#d8576b\"], [0.6666666666666666, \"#ed7953\"], [0.7777777777777778, \"#fb9f3a\"], [0.8888888888888888, \"#fdca26\"], [1.0, \"#f0f921\"]], \"type\": \"histogram2dcontour\"}], \"mesh3d\": [{\"colorbar\": {\"outlinewidth\": 0, \"ticks\": \"\"}, \"type\": \"mesh3d\"}], \"parcoords\": [{\"line\": {\"colorbar\": {\"outlinewidth\": 0, \"ticks\": \"\"}}, \"type\": \"parcoords\"}], \"pie\": [{\"automargin\": true, \"type\": \"pie\"}], \"scatter\": [{\"marker\": {\"colorbar\": {\"outlinewidth\": 0, \"ticks\": \"\"}}, \"type\": \"scatter\"}], \"scatter3d\": [{\"line\": {\"colorbar\": {\"outlinewidth\": 0, \"ticks\": \"\"}}, \"marker\": {\"colorbar\": {\"outlinewidth\": 0, \"ticks\": \"\"}}, \"type\": \"scatter3d\"}], \"scattercarpet\": [{\"marker\": {\"colorbar\": {\"outlinewidth\": 0, \"ticks\": \"\"}}, \"type\": \"scattercarpet\"}], \"scattergeo\": [{\"marker\": {\"colorbar\": {\"outlinewidth\": 0, \"ticks\": \"\"}}, \"type\": \"scattergeo\"}], \"scattergl\": [{\"marker\": {\"colorbar\": {\"outlinewidth\": 0, \"ticks\": \"\"}}, \"type\": \"scattergl\"}], \"scattermapbox\": [{\"marker\": {\"colorbar\": {\"outlinewidth\": 0, \"ticks\": \"\"}}, \"type\": \"scattermapbox\"}], \"scatterpolar\": [{\"marker\": {\"colorbar\": {\"outlinewidth\": 0, \"ticks\": \"\"}}, \"type\": \"scatterpolar\"}], \"scatterpolargl\": [{\"marker\": {\"colorbar\": {\"outlinewidth\": 0, \"ticks\": \"\"}}, \"type\": \"scatterpolargl\"}], \"scatterternary\": [{\"marker\": {\"colorbar\": {\"outlinewidth\": 0, \"ticks\": \"\"}}, \"type\": \"scatterternary\"}], \"surface\": [{\"colorbar\": {\"outlinewidth\": 0, \"ticks\": \"\"}, \"colorscale\": [[0.0, \"#0d0887\"], [0.1111111111111111, \"#46039f\"], [0.2222222222222222, \"#7201a8\"], [0.3333333333333333, \"#9c179e\"], [0.4444444444444444, \"#bd3786\"], [0.5555555555555556, \"#d8576b\"], [0.6666666666666666, \"#ed7953\"], [0.7777777777777778, \"#fb9f3a\"], [0.8888888888888888, \"#fdca26\"], [1.0, \"#f0f921\"]], \"type\": \"surface\"}], \"table\": [{\"cells\": {\"fill\": {\"color\": \"#EBF0F8\"}, \"line\": {\"color\": \"white\"}}, \"header\": {\"fill\": {\"color\": \"#C8D4E3\"}, \"line\": {\"color\": \"white\"}}, \"type\": \"table\"}]}, \"layout\": {\"annotationdefaults\": {\"arrowcolor\": \"#2a3f5f\", \"arrowhead\": 0, \"arrowwidth\": 1}, \"coloraxis\": {\"colorbar\": {\"outlinewidth\": 0, \"ticks\": \"\"}}, \"colorscale\": {\"diverging\": [[0, \"#8e0152\"], [0.1, \"#c51b7d\"], [0.2, \"#de77ae\"], [0.3, \"#f1b6da\"], [0.4, \"#fde0ef\"], [0.5, \"#f7f7f7\"], [0.6, \"#e6f5d0\"], [0.7, \"#b8e186\"], [0.8, \"#7fbc41\"], [0.9, \"#4d9221\"], [1, \"#276419\"]], \"sequential\": [[0.0, \"#0d0887\"], [0.1111111111111111, \"#46039f\"], [0.2222222222222222, \"#7201a8\"], [0.3333333333333333, \"#9c179e\"], [0.4444444444444444, \"#bd3786\"], [0.5555555555555556, \"#d8576b\"], [0.6666666666666666, \"#ed7953\"], [0.7777777777777778, \"#fb9f3a\"], [0.8888888888888888, \"#fdca26\"], [1.0, \"#f0f921\"]], \"sequentialminus\": [[0.0, \"#0d0887\"], [0.1111111111111111, \"#46039f\"], [0.2222222222222222, \"#7201a8\"], [0.3333333333333333, \"#9c179e\"], [0.4444444444444444, \"#bd3786\"], [0.5555555555555556, \"#d8576b\"], [0.6666666666666666, \"#ed7953\"], [0.7777777777777778, \"#fb9f3a\"], [0.8888888888888888, \"#fdca26\"], [1.0, \"#f0f921\"]]}, \"colorway\": [\"#636efa\", \"#EF553B\", \"#00cc96\", \"#ab63fa\", \"#FFA15A\", \"#19d3f3\", \"#FF6692\", \"#B6E880\", \"#FF97FF\", \"#FECB52\"], \"font\": {\"color\": \"#2a3f5f\"}, \"geo\": {\"bgcolor\": \"white\", \"lakecolor\": \"white\", \"landcolor\": \"#E5ECF6\", \"showlakes\": true, \"showland\": true, \"subunitcolor\": \"white\"}, \"hoverlabel\": {\"align\": \"left\"}, \"hovermode\": \"closest\", \"mapbox\": {\"style\": \"light\"}, \"paper_bgcolor\": \"white\", \"plot_bgcolor\": \"#E5ECF6\", \"polar\": {\"angularaxis\": {\"gridcolor\": \"white\", \"linecolor\": \"white\", \"ticks\": \"\"}, \"bgcolor\": \"#E5ECF6\", \"radialaxis\": {\"gridcolor\": \"white\", \"linecolor\": \"white\", \"ticks\": \"\"}}, \"scene\": {\"xaxis\": {\"backgroundcolor\": \"#E5ECF6\", \"gridcolor\": \"white\", \"gridwidth\": 2, \"linecolor\": \"white\", \"showbackground\": true, \"ticks\": \"\", \"zerolinecolor\": \"white\"}, \"yaxis\": {\"backgroundcolor\": \"#E5ECF6\", \"gridcolor\": \"white\", \"gridwidth\": 2, \"linecolor\": \"white\", \"showbackground\": true, \"ticks\": \"\", \"zerolinecolor\": \"white\"}, \"zaxis\": {\"backgroundcolor\": \"#E5ECF6\", \"gridcolor\": \"white\", \"gridwidth\": 2, \"linecolor\": \"white\", \"showbackground\": true, \"ticks\": \"\", \"zerolinecolor\": \"white\"}}, \"shapedefaults\": {\"line\": {\"color\": \"#2a3f5f\"}}, \"ternary\": {\"aaxis\": {\"gridcolor\": \"white\", \"linecolor\": \"white\", \"ticks\": \"\"}, \"baxis\": {\"gridcolor\": \"white\", \"linecolor\": \"white\", \"ticks\": \"\"}, \"bgcolor\": \"#E5ECF6\", \"caxis\": {\"gridcolor\": \"white\", \"linecolor\": \"white\", \"ticks\": \"\"}}, \"title\": {\"x\": 0.05}, \"xaxis\": {\"automargin\": true, \"gridcolor\": \"white\", \"linecolor\": \"white\", \"ticks\": \"\", \"title\": {\"standoff\": 15}, \"zerolinecolor\": \"white\", \"zerolinewidth\": 2}, \"yaxis\": {\"automargin\": true, \"gridcolor\": \"white\", \"linecolor\": \"white\", \"ticks\": \"\", \"title\": {\"standoff\": 15}, \"zerolinecolor\": \"white\", \"zerolinewidth\": 2}}}, \"title\": {\"text\": \"Efeito de n_estimators e max_depth na AUC do modelo RandomForest\"}, \"width\": 800, \"xaxis\": {\"title\": {\"text\": \"n_estimators\"}}, \"yaxis\": {\"title\": {\"text\": \"max_depth\"}}},\n",
              "                        {\"responsive\": true}\n",
              "                    ).then(function(){\n",
              "                            \n",
              "var gd = document.getElementById('08e3c7aa-7088-46ff-b97f-aa337c68bdf8');\n",
              "var x = new MutationObserver(function (mutations, observer) {{\n",
              "        var display = window.getComputedStyle(gd).display;\n",
              "        if (!display || display === 'none') {{\n",
              "            console.log([gd, 'removed!']);\n",
              "            Plotly.purge(gd);\n",
              "            observer.disconnect();\n",
              "        }}\n",
              "}});\n",
              "\n",
              "// Listen for the removal of the full notebook cells\n",
              "var notebookContainer = gd.closest('#notebook-container');\n",
              "if (notebookContainer) {{\n",
              "    x.observe(notebookContainer, {childList: true});\n",
              "}}\n",
              "\n",
              "// Listen for the clearing of the current output cell\n",
              "var outputEl = gd.closest('.output');\n",
              "if (outputEl) {{\n",
              "    x.observe(outputEl, {childList: true});\n",
              "}}\n",
              "\n",
              "                        })\n",
              "                };\n",
              "                \n",
              "            </script>\n",
              "        </div>\n",
              "</body>\n",
              "</html>"
            ]
          },
          "metadata": {
            "tags": []
          }
        }
      ]
    },
    {
      "cell_type": "markdown",
      "metadata": {
        "id": "BbtrY_t08fgA"
      },
      "source": [
        "Por outro lado, nessa versão 3D da figura acima, conseguimos notar o comportamento da AUC através dos vários testes feitos pelo GridSearcCV"
      ]
    },
    {
      "cell_type": "markdown",
      "metadata": {
        "id": "mMvOj1_r8fgA"
      },
      "source": [
        "## O melhor modelo obtido foi"
      ]
    },
    {
      "cell_type": "code",
      "metadata": {
        "colab": {
          "base_uri": "https://localhost:8080/"
        },
        "id": "2B1Va1fV8fgA",
        "outputId": "c3a8d699-fcaf-49e6-d715-3ca9ece154b8"
      },
      "source": [
        "grid.best_estimator_"
      ],
      "execution_count": 55,
      "outputs": [
        {
          "output_type": "execute_result",
          "data": {
            "text/plain": [
              "RandomForestClassifier(bootstrap=False, ccp_alpha=0.0, class_weight=None,\n",
              "                       criterion='gini', max_depth=21, max_features='auto',\n",
              "                       max_leaf_nodes=None, max_samples=None,\n",
              "                       min_impurity_decrease=0.0, min_impurity_split=None,\n",
              "                       min_samples_leaf=2, min_samples_split=10,\n",
              "                       min_weight_fraction_leaf=0.0, n_estimators=2200,\n",
              "                       n_jobs=None, oob_score=False, random_state=None,\n",
              "                       verbose=0, warm_start=False)"
            ]
          },
          "metadata": {
            "tags": []
          },
          "execution_count": 55
        }
      ]
    },
    {
      "cell_type": "code",
      "metadata": {
        "id": "ik5DzowPBDTM"
      },
      "source": [
        ""
      ],
      "execution_count": null,
      "outputs": []
    },
    {
      "cell_type": "markdown",
      "metadata": {
        "id": "DwvQNfTH8fgA"
      },
      "source": [
        "# Extra"
      ]
    },
    {
      "cell_type": "markdown",
      "metadata": {
        "id": "KWA0-a1Msx-X"
      },
      "source": [
        "## <font color='red'> >> </font> Pacientes fictícios\n",
        "***\n",
        "Uma das limitações que temos com o banco de dados do desafio é a **quantidade limitada de pacientes** para treinamento de um modelo preditivo, **especialmente quanto aos pacientes que foram para a UTI**. Uma estratégia que é utilizada em situações como essas é a de gerar dados fictícios. <br>\n",
        "<font color='gray'> >> </font> Neste caso, **gerarei 2 versões para cada paciente** contendo valores máximos e mínimos de cada variável. <br>\n",
        "Pensei em trabalhar desta forma pois **poderíamos preparar o modelo para lidar com pacientes diferentes**, já que **não há garantia de que todos os pacientes cheguem ao hospital em estados parecidos**. Adicionalmente, com essa estratégia eu considero cada entrada como um paciente diferente e treino o modelo com esses dados.\n",
        "\n",
        "**Tabela 6. Pacientes fictícios gerados a partir de valores máximos e mínimos de cada paciente real.**\n",
        "\n",
        "| **Paciente** | **Janela** | **Exame_A** | **ICU** | **ICU_EVER** | --> | **Paciente** | **Exame_A** | **ICU_EVER** |\n",
        "|:------------:|:----------:|:-----------:|:-------:|:------------:|:---:|:------------:|:-----------:|:------------:|\n",
        "|       A      |     0-2    |      5      |    0    |       1      | --> |   **A_min**  |      3      |       1      |\n",
        "|       A      |     2-4    |      4      |    0    |       1      | --> |   **A_max**  |      5      |       1      |\n",
        "|       A      |     4-8    |      3      |    1    |       1      | --> |       x      |      x      |       x      |\n",
        "|       B      |     0-2    |      2      |    0    |       1      | --> |   **B_min**  |      1      |       1      |\n",
        "|       B      |     2-4    |      1      |    1    |       1      | --> |   **B_max**  |      2      |       1      |\n",
        "\n",
        "Assim, cada paciente foi transformado em 2, contendo dados máximos e mínimos. Esses dois novos pacientes carregam a informação da variável `ICU_EVER`, classificando-os independentemente da janela. Tomei a decisão de **gerar apenas 2 pacientes** pois alguns pacientes tem **poucas janelas para extração de dados**. \n",
        "***\n",
        "**Obs:** Existem modos mais sofisticados para gerar dados fictícios. Aqui tentei uma maneira bastante simplista como exercício."
      ]
    },
    {
      "cell_type": "code",
      "metadata": {
        "colab": {
          "base_uri": "https://localhost:8080/",
          "height": 478
        },
        "id": "X3G3qFAxsx-X",
        "outputId": "8fbc9683-73e1-4131-aa85-b7ef09ddf49c"
      },
      "source": [
        "dados_max_min = gera_max_min(maximizados)\n",
        "dados_max_min"
      ],
      "execution_count": 56,
      "outputs": [
        {
          "output_type": "execute_result",
          "data": {
            "text/html": [
              "<div>\n",
              "<style scoped>\n",
              "    .dataframe tbody tr th:only-of-type {\n",
              "        vertical-align: middle;\n",
              "    }\n",
              "\n",
              "    .dataframe tbody tr th {\n",
              "        vertical-align: top;\n",
              "    }\n",
              "\n",
              "    .dataframe thead th {\n",
              "        text-align: right;\n",
              "    }\n",
              "</style>\n",
              "<table border=\"1\" class=\"dataframe\">\n",
              "  <thead>\n",
              "    <tr style=\"text-align: right;\">\n",
              "      <th></th>\n",
              "      <th>PATIENT_VISIT_IDENTIFIER</th>\n",
              "      <th>AGE_ABOVE65</th>\n",
              "      <th>AGE_PERCENTIL</th>\n",
              "      <th>GENDER</th>\n",
              "      <th>DISEASE GROUPING 1</th>\n",
              "      <th>DISEASE GROUPING 2</th>\n",
              "      <th>DISEASE GROUPING 3</th>\n",
              "      <th>DISEASE GROUPING 4</th>\n",
              "      <th>DISEASE GROUPING 5</th>\n",
              "      <th>DISEASE GROUPING 6</th>\n",
              "      <th>HTN</th>\n",
              "      <th>IMMUNOCOMPROMISED</th>\n",
              "      <th>OTHER</th>\n",
              "      <th>ALBUMIN_MIN</th>\n",
              "      <th>BE_ARTERIAL_MIN</th>\n",
              "      <th>BE_VENOUS_MIN</th>\n",
              "      <th>BLAST_MIN</th>\n",
              "      <th>CALCIUM_MIN</th>\n",
              "      <th>CREATININ_MIN</th>\n",
              "      <th>GGT_MIN</th>\n",
              "      <th>GLUCOSE_MIN</th>\n",
              "      <th>HEMATOCRITE_MIN</th>\n",
              "      <th>INR_MIN</th>\n",
              "      <th>LACTATE_MIN</th>\n",
              "      <th>LEUKOCYTES_MIN</th>\n",
              "      <th>LINFOCITOS_MIN</th>\n",
              "      <th>PCR_MIN</th>\n",
              "      <th>PH_ARTERIAL_MIN</th>\n",
              "      <th>SODIUM_MIN</th>\n",
              "      <th>UREA_MIN</th>\n",
              "      <th>DIMER_MIN</th>\n",
              "      <th>BLOODPRESSURE_DIASTOLIC_DIFF_REL</th>\n",
              "      <th>BLOODPRESSURE_SISTOLIC_DIFF_REL</th>\n",
              "      <th>HEART_RATE_DIFF_REL</th>\n",
              "      <th>RESPIRATORY_RATE_DIFF_REL</th>\n",
              "      <th>TEMPERATURE_DIFF_REL</th>\n",
              "      <th>OXYGEN_SATURATION_DIFF_REL</th>\n",
              "      <th>WINDOW</th>\n",
              "      <th>ICU</th>\n",
              "      <th>ICU_EVER</th>\n",
              "    </tr>\n",
              "  </thead>\n",
              "  <tbody>\n",
              "    <tr>\n",
              "      <th>0</th>\n",
              "      <td>0</td>\n",
              "      <td>1</td>\n",
              "      <td>5</td>\n",
              "      <td>0</td>\n",
              "      <td>0.0</td>\n",
              "      <td>0.0</td>\n",
              "      <td>0.0</td>\n",
              "      <td>0.0</td>\n",
              "      <td>1.0</td>\n",
              "      <td>1.0</td>\n",
              "      <td>0.0</td>\n",
              "      <td>0.0</td>\n",
              "      <td>1.0</td>\n",
              "      <td>0.605263</td>\n",
              "      <td>-1.0</td>\n",
              "      <td>-1.000000</td>\n",
              "      <td>-1.0</td>\n",
              "      <td>0.183673</td>\n",
              "      <td>-0.868365</td>\n",
              "      <td>-0.945093</td>\n",
              "      <td>-0.891993</td>\n",
              "      <td>0.090147</td>\n",
              "      <td>-0.932246</td>\n",
              "      <td>1.000000</td>\n",
              "      <td>-0.835844</td>\n",
              "      <td>-0.914938</td>\n",
              "      <td>-0.875236</td>\n",
              "      <td>0.234043</td>\n",
              "      <td>-0.028571</td>\n",
              "      <td>-0.836145</td>\n",
              "      <td>-0.994912</td>\n",
              "      <td>-1.000000</td>\n",
              "      <td>-1.000000</td>\n",
              "      <td>-1.000000</td>\n",
              "      <td>-1.000000</td>\n",
              "      <td>-1.000000</td>\n",
              "      <td>-1.000000</td>\n",
              "      <td>6-12</td>\n",
              "      <td>1</td>\n",
              "      <td>1</td>\n",
              "    </tr>\n",
              "    <tr>\n",
              "      <th>0</th>\n",
              "      <td>0</td>\n",
              "      <td>1</td>\n",
              "      <td>5</td>\n",
              "      <td>0</td>\n",
              "      <td>0.0</td>\n",
              "      <td>0.0</td>\n",
              "      <td>0.0</td>\n",
              "      <td>0.0</td>\n",
              "      <td>1.0</td>\n",
              "      <td>1.0</td>\n",
              "      <td>0.0</td>\n",
              "      <td>0.0</td>\n",
              "      <td>1.0</td>\n",
              "      <td>0.605263</td>\n",
              "      <td>-1.0</td>\n",
              "      <td>-1.000000</td>\n",
              "      <td>-1.0</td>\n",
              "      <td>0.183673</td>\n",
              "      <td>-0.868365</td>\n",
              "      <td>-0.945093</td>\n",
              "      <td>-0.891993</td>\n",
              "      <td>0.090147</td>\n",
              "      <td>-0.932246</td>\n",
              "      <td>1.000000</td>\n",
              "      <td>-0.835844</td>\n",
              "      <td>-0.914938</td>\n",
              "      <td>-0.875236</td>\n",
              "      <td>0.234043</td>\n",
              "      <td>-0.028571</td>\n",
              "      <td>-0.836145</td>\n",
              "      <td>-0.994912</td>\n",
              "      <td>-1.000000</td>\n",
              "      <td>-1.000000</td>\n",
              "      <td>-1.000000</td>\n",
              "      <td>-1.000000</td>\n",
              "      <td>-1.000000</td>\n",
              "      <td>-1.000000</td>\n",
              "      <td>0-2</td>\n",
              "      <td>0</td>\n",
              "      <td>1</td>\n",
              "    </tr>\n",
              "    <tr>\n",
              "      <th>1</th>\n",
              "      <td>2</td>\n",
              "      <td>0</td>\n",
              "      <td>0</td>\n",
              "      <td>0</td>\n",
              "      <td>0.0</td>\n",
              "      <td>0.0</td>\n",
              "      <td>0.0</td>\n",
              "      <td>0.0</td>\n",
              "      <td>0.0</td>\n",
              "      <td>0.0</td>\n",
              "      <td>0.0</td>\n",
              "      <td>0.0</td>\n",
              "      <td>1.0</td>\n",
              "      <td>0.605263</td>\n",
              "      <td>-1.0</td>\n",
              "      <td>-1.000000</td>\n",
              "      <td>-1.0</td>\n",
              "      <td>0.357143</td>\n",
              "      <td>-0.912243</td>\n",
              "      <td>-0.958528</td>\n",
              "      <td>-0.780261</td>\n",
              "      <td>0.144654</td>\n",
              "      <td>-0.959849</td>\n",
              "      <td>1.000000</td>\n",
              "      <td>-0.382773</td>\n",
              "      <td>-0.908714</td>\n",
              "      <td>-0.939887</td>\n",
              "      <td>0.234043</td>\n",
              "      <td>0.085714</td>\n",
              "      <td>-0.836145</td>\n",
              "      <td>-0.978029</td>\n",
              "      <td>-0.658863</td>\n",
              "      <td>-0.563758</td>\n",
              "      <td>-0.747001</td>\n",
              "      <td>-0.926882</td>\n",
              "      <td>-1.000000</td>\n",
              "      <td>-0.961262</td>\n",
              "      <td>0-2</td>\n",
              "      <td>0</td>\n",
              "      <td>1</td>\n",
              "    </tr>\n",
              "    <tr>\n",
              "      <th>1</th>\n",
              "      <td>2</td>\n",
              "      <td>0</td>\n",
              "      <td>0</td>\n",
              "      <td>0</td>\n",
              "      <td>0.0</td>\n",
              "      <td>0.0</td>\n",
              "      <td>0.0</td>\n",
              "      <td>0.0</td>\n",
              "      <td>0.0</td>\n",
              "      <td>0.0</td>\n",
              "      <td>0.0</td>\n",
              "      <td>0.0</td>\n",
              "      <td>1.0</td>\n",
              "      <td>0.605263</td>\n",
              "      <td>-1.0</td>\n",
              "      <td>-1.000000</td>\n",
              "      <td>-1.0</td>\n",
              "      <td>0.357143</td>\n",
              "      <td>-0.912243</td>\n",
              "      <td>-0.958528</td>\n",
              "      <td>-0.780261</td>\n",
              "      <td>0.144654</td>\n",
              "      <td>-0.959849</td>\n",
              "      <td>1.000000</td>\n",
              "      <td>-0.382773</td>\n",
              "      <td>-0.908714</td>\n",
              "      <td>-0.939887</td>\n",
              "      <td>0.234043</td>\n",
              "      <td>0.085714</td>\n",
              "      <td>-0.836145</td>\n",
              "      <td>-0.978029</td>\n",
              "      <td>-0.515528</td>\n",
              "      <td>-0.351328</td>\n",
              "      <td>-0.721834</td>\n",
              "      <td>-0.756272</td>\n",
              "      <td>-1.000000</td>\n",
              "      <td>-0.801293</td>\n",
              "      <td>6-12</td>\n",
              "      <td>1</td>\n",
              "      <td>1</td>\n",
              "    </tr>\n",
              "    <tr>\n",
              "      <th>2</th>\n",
              "      <td>3</td>\n",
              "      <td>0</td>\n",
              "      <td>3</td>\n",
              "      <td>1</td>\n",
              "      <td>0.0</td>\n",
              "      <td>0.0</td>\n",
              "      <td>0.0</td>\n",
              "      <td>0.0</td>\n",
              "      <td>0.0</td>\n",
              "      <td>0.0</td>\n",
              "      <td>0.0</td>\n",
              "      <td>1.0</td>\n",
              "      <td>1.0</td>\n",
              "      <td>-0.263158</td>\n",
              "      <td>-1.0</td>\n",
              "      <td>-1.000000</td>\n",
              "      <td>-1.0</td>\n",
              "      <td>0.326531</td>\n",
              "      <td>-0.968861</td>\n",
              "      <td>-0.316589</td>\n",
              "      <td>-0.891993</td>\n",
              "      <td>-0.203354</td>\n",
              "      <td>-0.959849</td>\n",
              "      <td>-0.828421</td>\n",
              "      <td>-0.729239</td>\n",
              "      <td>-0.836100</td>\n",
              "      <td>-0.503592</td>\n",
              "      <td>0.234043</td>\n",
              "      <td>0.200000</td>\n",
              "      <td>-0.937349</td>\n",
              "      <td>-0.978029</td>\n",
              "      <td>-0.308696</td>\n",
              "      <td>-0.057718</td>\n",
              "      <td>-0.069094</td>\n",
              "      <td>-0.329749</td>\n",
              "      <td>-0.047619</td>\n",
              "      <td>-0.172436</td>\n",
              "      <td>ABOVE_12</td>\n",
              "      <td>0</td>\n",
              "      <td>0</td>\n",
              "    </tr>\n",
              "    <tr>\n",
              "      <th>...</th>\n",
              "      <td>...</td>\n",
              "      <td>...</td>\n",
              "      <td>...</td>\n",
              "      <td>...</td>\n",
              "      <td>...</td>\n",
              "      <td>...</td>\n",
              "      <td>...</td>\n",
              "      <td>...</td>\n",
              "      <td>...</td>\n",
              "      <td>...</td>\n",
              "      <td>...</td>\n",
              "      <td>...</td>\n",
              "      <td>...</td>\n",
              "      <td>...</td>\n",
              "      <td>...</td>\n",
              "      <td>...</td>\n",
              "      <td>...</td>\n",
              "      <td>...</td>\n",
              "      <td>...</td>\n",
              "      <td>...</td>\n",
              "      <td>...</td>\n",
              "      <td>...</td>\n",
              "      <td>...</td>\n",
              "      <td>...</td>\n",
              "      <td>...</td>\n",
              "      <td>...</td>\n",
              "      <td>...</td>\n",
              "      <td>...</td>\n",
              "      <td>...</td>\n",
              "      <td>...</td>\n",
              "      <td>...</td>\n",
              "      <td>...</td>\n",
              "      <td>...</td>\n",
              "      <td>...</td>\n",
              "      <td>...</td>\n",
              "      <td>...</td>\n",
              "      <td>...</td>\n",
              "      <td>...</td>\n",
              "      <td>...</td>\n",
              "      <td>...</td>\n",
              "    </tr>\n",
              "    <tr>\n",
              "      <th>291</th>\n",
              "      <td>382</td>\n",
              "      <td>0</td>\n",
              "      <td>4</td>\n",
              "      <td>0</td>\n",
              "      <td>0.0</td>\n",
              "      <td>0.0</td>\n",
              "      <td>0.0</td>\n",
              "      <td>0.0</td>\n",
              "      <td>0.0</td>\n",
              "      <td>0.0</td>\n",
              "      <td>0.0</td>\n",
              "      <td>0.0</td>\n",
              "      <td>1.0</td>\n",
              "      <td>0.605263</td>\n",
              "      <td>-1.0</td>\n",
              "      <td>-1.000000</td>\n",
              "      <td>-1.0</td>\n",
              "      <td>0.357143</td>\n",
              "      <td>-0.905166</td>\n",
              "      <td>-0.958528</td>\n",
              "      <td>-0.891993</td>\n",
              "      <td>0.064990</td>\n",
              "      <td>-0.957340</td>\n",
              "      <td>1.000000</td>\n",
              "      <td>-0.718038</td>\n",
              "      <td>-0.821577</td>\n",
              "      <td>-0.034405</td>\n",
              "      <td>0.234043</td>\n",
              "      <td>-0.085714</td>\n",
              "      <td>-0.787952</td>\n",
              "      <td>-0.964461</td>\n",
              "      <td>-1.000000</td>\n",
              "      <td>-1.000000</td>\n",
              "      <td>-1.000000</td>\n",
              "      <td>-1.000000</td>\n",
              "      <td>-1.000000</td>\n",
              "      <td>-1.000000</td>\n",
              "      <td>6-12</td>\n",
              "      <td>1</td>\n",
              "      <td>1</td>\n",
              "    </tr>\n",
              "    <tr>\n",
              "      <th>292</th>\n",
              "      <td>383</td>\n",
              "      <td>0</td>\n",
              "      <td>3</td>\n",
              "      <td>1</td>\n",
              "      <td>0.0</td>\n",
              "      <td>0.0</td>\n",
              "      <td>0.0</td>\n",
              "      <td>0.0</td>\n",
              "      <td>0.0</td>\n",
              "      <td>0.0</td>\n",
              "      <td>0.0</td>\n",
              "      <td>0.0</td>\n",
              "      <td>0.0</td>\n",
              "      <td>0.210526</td>\n",
              "      <td>-1.0</td>\n",
              "      <td>-1.000000</td>\n",
              "      <td>-1.0</td>\n",
              "      <td>0.357143</td>\n",
              "      <td>-0.947629</td>\n",
              "      <td>-0.958528</td>\n",
              "      <td>-0.891993</td>\n",
              "      <td>-0.203354</td>\n",
              "      <td>-0.959849</td>\n",
              "      <td>1.000000</td>\n",
              "      <td>-0.877559</td>\n",
              "      <td>-0.819502</td>\n",
              "      <td>-0.868809</td>\n",
              "      <td>0.234043</td>\n",
              "      <td>0.066667</td>\n",
              "      <td>-0.937349</td>\n",
              "      <td>-0.978029</td>\n",
              "      <td>-1.000000</td>\n",
              "      <td>-1.000000</td>\n",
              "      <td>-1.000000</td>\n",
              "      <td>-1.000000</td>\n",
              "      <td>-1.000000</td>\n",
              "      <td>-1.000000</td>\n",
              "      <td>0-2</td>\n",
              "      <td>0</td>\n",
              "      <td>0</td>\n",
              "    </tr>\n",
              "    <tr>\n",
              "      <th>292</th>\n",
              "      <td>383</td>\n",
              "      <td>0</td>\n",
              "      <td>3</td>\n",
              "      <td>1</td>\n",
              "      <td>0.0</td>\n",
              "      <td>0.0</td>\n",
              "      <td>0.0</td>\n",
              "      <td>0.0</td>\n",
              "      <td>0.0</td>\n",
              "      <td>0.0</td>\n",
              "      <td>0.0</td>\n",
              "      <td>0.0</td>\n",
              "      <td>1.0</td>\n",
              "      <td>0.605263</td>\n",
              "      <td>-1.0</td>\n",
              "      <td>-1.000000</td>\n",
              "      <td>-1.0</td>\n",
              "      <td>0.357143</td>\n",
              "      <td>-0.922151</td>\n",
              "      <td>-0.713785</td>\n",
              "      <td>-0.843575</td>\n",
              "      <td>-0.069182</td>\n",
              "      <td>-0.959849</td>\n",
              "      <td>1.000000</td>\n",
              "      <td>-0.758208</td>\n",
              "      <td>-0.690871</td>\n",
              "      <td>-0.804159</td>\n",
              "      <td>0.234043</td>\n",
              "      <td>0.085714</td>\n",
              "      <td>-0.932530</td>\n",
              "      <td>-0.978029</td>\n",
              "      <td>-0.552795</td>\n",
              "      <td>-0.585967</td>\n",
              "      <td>-0.557252</td>\n",
              "      <td>-0.573477</td>\n",
              "      <td>-0.572609</td>\n",
              "      <td>-0.838524</td>\n",
              "      <td>ABOVE_12</td>\n",
              "      <td>0</td>\n",
              "      <td>0</td>\n",
              "    </tr>\n",
              "    <tr>\n",
              "      <th>293</th>\n",
              "      <td>384</td>\n",
              "      <td>0</td>\n",
              "      <td>4</td>\n",
              "      <td>1</td>\n",
              "      <td>0.0</td>\n",
              "      <td>0.0</td>\n",
              "      <td>1.0</td>\n",
              "      <td>0.0</td>\n",
              "      <td>0.0</td>\n",
              "      <td>0.0</td>\n",
              "      <td>0.0</td>\n",
              "      <td>0.0</td>\n",
              "      <td>1.0</td>\n",
              "      <td>0.605263</td>\n",
              "      <td>-1.0</td>\n",
              "      <td>-0.717277</td>\n",
              "      <td>-1.0</td>\n",
              "      <td>0.306122</td>\n",
              "      <td>-0.934890</td>\n",
              "      <td>-0.960280</td>\n",
              "      <td>-0.862197</td>\n",
              "      <td>-0.064990</td>\n",
              "      <td>-0.957340</td>\n",
              "      <td>1.000000</td>\n",
              "      <td>-0.848590</td>\n",
              "      <td>-0.634855</td>\n",
              "      <td>-0.801134</td>\n",
              "      <td>0.234043</td>\n",
              "      <td>0.200000</td>\n",
              "      <td>-0.807229</td>\n",
              "      <td>-0.888448</td>\n",
              "      <td>-0.701863</td>\n",
              "      <td>-0.585967</td>\n",
              "      <td>-0.763868</td>\n",
              "      <td>-0.612903</td>\n",
              "      <td>-0.551337</td>\n",
              "      <td>-0.835052</td>\n",
              "      <td>ABOVE_12</td>\n",
              "      <td>0</td>\n",
              "      <td>0</td>\n",
              "    </tr>\n",
              "    <tr>\n",
              "      <th>293</th>\n",
              "      <td>384</td>\n",
              "      <td>0</td>\n",
              "      <td>4</td>\n",
              "      <td>1</td>\n",
              "      <td>0.0</td>\n",
              "      <td>0.0</td>\n",
              "      <td>0.0</td>\n",
              "      <td>0.0</td>\n",
              "      <td>0.0</td>\n",
              "      <td>0.0</td>\n",
              "      <td>0.0</td>\n",
              "      <td>0.0</td>\n",
              "      <td>1.0</td>\n",
              "      <td>0.605263</td>\n",
              "      <td>-1.0</td>\n",
              "      <td>-1.000000</td>\n",
              "      <td>-1.0</td>\n",
              "      <td>0.244898</td>\n",
              "      <td>-0.944798</td>\n",
              "      <td>-0.962617</td>\n",
              "      <td>-0.891993</td>\n",
              "      <td>-0.157233</td>\n",
              "      <td>-0.959849</td>\n",
              "      <td>-0.897773</td>\n",
              "      <td>-0.850521</td>\n",
              "      <td>-0.686722</td>\n",
              "      <td>-0.906238</td>\n",
              "      <td>0.234043</td>\n",
              "      <td>-0.085714</td>\n",
              "      <td>-0.879518</td>\n",
              "      <td>-0.979571</td>\n",
              "      <td>-1.000000</td>\n",
              "      <td>-1.000000</td>\n",
              "      <td>-1.000000</td>\n",
              "      <td>-1.000000</td>\n",
              "      <td>-1.000000</td>\n",
              "      <td>-1.000000</td>\n",
              "      <td>0-2</td>\n",
              "      <td>0</td>\n",
              "      <td>0</td>\n",
              "    </tr>\n",
              "  </tbody>\n",
              "</table>\n",
              "<p>588 rows × 40 columns</p>\n",
              "</div>"
            ],
            "text/plain": [
              "     PATIENT_VISIT_IDENTIFIER  AGE_ABOVE65  ...  ICU  ICU_EVER\n",
              "0                           0            1  ...    1         1\n",
              "0                           0            1  ...    0         1\n",
              "1                           2            0  ...    0         1\n",
              "1                           2            0  ...    1         1\n",
              "2                           3            0  ...    0         0\n",
              "..                        ...          ...  ...  ...       ...\n",
              "291                       382            0  ...    1         1\n",
              "292                       383            0  ...    0         0\n",
              "292                       383            0  ...    0         0\n",
              "293                       384            0  ...    0         0\n",
              "293                       384            0  ...    0         0\n",
              "\n",
              "[588 rows x 40 columns]"
            ]
          },
          "metadata": {
            "tags": []
          },
          "execution_count": 56
        }
      ]
    },
    {
      "cell_type": "markdown",
      "metadata": {
        "id": "s18MYDXXsx-X"
      },
      "source": [
        "Avaliando a perfomance do melhor modelo selecionado anteriormente perante o dataframe gerado (`dados_max_min`)."
      ]
    },
    {
      "cell_type": "code",
      "metadata": {
        "colab": {
          "base_uri": "https://localhost:8080/",
          "height": 80
        },
        "id": "HOxE0kie8fgA",
        "outputId": "0f542125-885b-4e98-d35e-71ef23e6e8db"
      },
      "source": [
        "roda_cross_validate_modelos_min_max([modelo_random_forest_param_extra], dados_max_min, 5, 10)"
      ],
      "execution_count": 57,
      "outputs": [
        {
          "output_type": "execute_result",
          "data": {
            "text/html": [
              "<div>\n",
              "<style scoped>\n",
              "    .dataframe tbody tr th:only-of-type {\n",
              "        vertical-align: middle;\n",
              "    }\n",
              "\n",
              "    .dataframe tbody tr th {\n",
              "        vertical-align: top;\n",
              "    }\n",
              "\n",
              "    .dataframe thead th {\n",
              "        text-align: right;\n",
              "    }\n",
              "</style>\n",
              "<table border=\"1\" class=\"dataframe\">\n",
              "  <thead>\n",
              "    <tr style=\"text-align: right;\">\n",
              "      <th></th>\n",
              "      <th>Modelo</th>\n",
              "      <th>AUC_Mean</th>\n",
              "      <th>IC_Min</th>\n",
              "      <th>IC_Max</th>\n",
              "    </tr>\n",
              "  </thead>\n",
              "  <tbody>\n",
              "    <tr>\n",
              "      <th>0</th>\n",
              "      <td>(DecisionTreeClassifier(ccp_alpha=0.0, class_w...</td>\n",
              "      <td>0.978805</td>\n",
              "      <td>0.956801</td>\n",
              "      <td>1.000809</td>\n",
              "    </tr>\n",
              "  </tbody>\n",
              "</table>\n",
              "</div>"
            ],
            "text/plain": [
              "                                              Modelo  ...    IC_Max\n",
              "0  (DecisionTreeClassifier(ccp_alpha=0.0, class_w...  ...  1.000809\n",
              "\n",
              "[1 rows x 4 columns]"
            ]
          },
          "metadata": {
            "tags": []
          },
          "execution_count": 57
        }
      ]
    },
    {
      "cell_type": "markdown",
      "metadata": {
        "id": "B84K_T2C8fgA"
      },
      "source": [
        "Aqui notamos uma melhor significativa na AUC quando comparada aos modelos anteriores, treinados usando apenas os dados da primeira janela de cada paciente. <br>\n",
        "Na verdade, **não podemos confiar nos resultados obitidos aqui**. Possivelmente, <font color='red'>versões max e min do mesmo paciente foram usadas para teste e treino </font>. Apesar de teoricamente considerarmos cada entrada como um paciente diferente, ainda existe forte relação entre essas versões.\n",
        "***\n",
        "Para avaliar a performance desse modelo temos alguns problemas:\n",
        "* Não existe um método que faça a separação dos dados de treino e teste considerando alguns grupos (em nosso caso, os pacientes) e de forma estratificada.\n",
        "* Apesar do método de cross-validation `GroupKFold()` ser capaz de garantir que não haverá dados do mesmo grupo nos conjuntos de treino e teste, ele não é capaz de trabalhar de forma a estratificar a variável y.\n",
        "\n",
        "<br>\n",
        "\n",
        "Assim, desenvolvi uma série de funções (chamadas pela função `testa_n_vezes_max_min()`) que:\n",
        "\n",
        "1. Gera o dataframe com as versões max e min de cada paciente restante;\n",
        "2. Seleciona uma proporção dos pacientes que tem ICU = 1 para usar como teste;\n",
        "3. Usa a mesma proporção para selecionar os pacientes com ICU = 0 para teste;\n",
        "4. Treina o melhor modelo RandomForest um determinado número de vezes e retorna os valores médios das métricas observadas.\n"
      ]
    },
    {
      "cell_type": "code",
      "metadata": {
        "colab": {
          "base_uri": "https://localhost:8080/",
          "height": 80
        },
        "id": "68UPAelqsx-X",
        "outputId": "4aa0603a-19b3-4842-863e-ff8f41656f88"
      },
      "source": [
        "from random import sample\n",
        "\n",
        "testa_n_vezes_max_min(50, 5)"
      ],
      "execution_count": 58,
      "outputs": [
        {
          "output_type": "execute_result",
          "data": {
            "text/html": [
              "<div>\n",
              "<style scoped>\n",
              "    .dataframe tbody tr th:only-of-type {\n",
              "        vertical-align: middle;\n",
              "    }\n",
              "\n",
              "    .dataframe tbody tr th {\n",
              "        vertical-align: top;\n",
              "    }\n",
              "\n",
              "    .dataframe thead th {\n",
              "        text-align: right;\n",
              "    }\n",
              "</style>\n",
              "<table border=\"1\" class=\"dataframe\">\n",
              "  <thead>\n",
              "    <tr style=\"text-align: right;\">\n",
              "      <th></th>\n",
              "      <th>AUC_Média50</th>\n",
              "      <th>Recall_Médio50</th>\n",
              "      <th>F1_Médio50</th>\n",
              "      <th>Precision_Médio50</th>\n",
              "    </tr>\n",
              "  </thead>\n",
              "  <tbody>\n",
              "    <tr>\n",
              "      <th>0</th>\n",
              "      <td>0.953584</td>\n",
              "      <td>0.77381</td>\n",
              "      <td>0.836016</td>\n",
              "      <td>0.891724</td>\n",
              "    </tr>\n",
              "  </tbody>\n",
              "</table>\n",
              "</div>"
            ],
            "text/plain": [
              "   AUC_Média50  Recall_Médio50  F1_Médio50  Precision_Médio50\n",
              "0     0.953584         0.77381    0.836016           0.891724"
            ]
          },
          "metadata": {
            "tags": []
          },
          "execution_count": 58
        }
      ]
    },
    {
      "cell_type": "markdown",
      "metadata": {
        "id": "ngSabtJHsx-X"
      },
      "source": [
        "Esses resultados são referentes a um modelo treinado com 80% dos pacientes fictícios (3 versões), e testada com 20% dos pacientes fictícios restantes. O processo foi repetido 50 vezes, garantindo aleatoriedade na seleção dos pacientes e mantendo a estratificação. <br>\n",
        "<font color='blue'> >> </font> Chegamos então a um modelo eficaz, sendo treinado e testado usando os pacientes fictícios gerados.\n",
        "### <font color='red'> >> </font> E esse modelo seria eficaz em prever o desfecho de pacientes reais?"
      ]
    },
    {
      "cell_type": "code",
      "metadata": {
        "id": "AnWpoBuDsx-X",
        "colab": {
          "base_uri": "https://localhost:8080/",
          "height": 499
        },
        "outputId": "ebfb18ec-ce3d-41b3-dc7e-4b2d59fcca29"
      },
      "source": [
        "testa_n_vezes_max_min_reais(50, 5)"
      ],
      "execution_count": 59,
      "outputs": [
        {
          "output_type": "execute_result",
          "data": {
            "text/html": [
              "<div>\n",
              "<style scoped>\n",
              "    .dataframe tbody tr th:only-of-type {\n",
              "        vertical-align: middle;\n",
              "    }\n",
              "\n",
              "    .dataframe tbody tr th {\n",
              "        vertical-align: top;\n",
              "    }\n",
              "\n",
              "    .dataframe thead th {\n",
              "        text-align: right;\n",
              "    }\n",
              "</style>\n",
              "<table border=\"1\" class=\"dataframe\">\n",
              "  <thead>\n",
              "    <tr style=\"text-align: right;\">\n",
              "      <th></th>\n",
              "      <th>AUC_Média50</th>\n",
              "      <th>Recall_Médio50</th>\n",
              "      <th>F1_Médio50</th>\n",
              "      <th>Precision_Médio50</th>\n",
              "    </tr>\n",
              "  </thead>\n",
              "  <tbody>\n",
              "    <tr>\n",
              "      <th>0</th>\n",
              "      <td>0.735109</td>\n",
              "      <td>0.778095</td>\n",
              "      <td>0.617051</td>\n",
              "      <td>0.651034</td>\n",
              "    </tr>\n",
              "  </tbody>\n",
              "</table>\n",
              "</div>"
            ],
            "text/plain": [
              "   AUC_Média50  Recall_Médio50  F1_Médio50  Precision_Médio50\n",
              "0     0.735109        0.778095    0.617051           0.651034"
            ]
          },
          "metadata": {
            "tags": []
          },
          "execution_count": 59
        },
        {
          "output_type": "display_data",
          "data": {
            "image/png": "[encoded data removed]",
            "text/plain": [
              "<Figure size 432x432 with 2 Axes>"
            ]
          },
          "metadata": {
            "tags": [],
            "needs_background": "light"
          }
        }
      ]
    },
    {
      "cell_type": "markdown",
      "metadata": {
        "id": "tv6GmIEssx-Y"
      },
      "source": [
        "Aqui utilizei o modelo RandomForest treinado com os *dados_max_min* com os melhores parâmetros encontrados na etapa de *Hyperparameter tuning*, para prever dados de pacientes reais deixados de fora do treino. <br>\n",
        "Considerando o foco do desafio, a previsão foi feita apenas em cima da primeira janela (0-2), com o intuito de agilizar o diagnóstico e preparo da equipe hospitalar.\n",
        "**Como resultado**:\n",
        "* Esse modelo atingiu uma AUC mais baixa do que os treinados usando dados reais da janela 0-2 de cada paciente;\n",
        "* Infelizmente, notamos qe o Recall se mostra razoavelmente baixo, indicando a presença de falsos negativos, o que é extremamente prejudicial em situações emergênciais como essa;\n",
        "* Além disso, a própria precisão não se mostrou tão alta.\n"
      ]
    },
    {
      "cell_type": "markdown",
      "metadata": {
        "id": "8LFkDLgh8fgC"
      },
      "source": [
        "# Conclusões e limitações\n",
        "1. Trabalhar com dados reais, considerando uma situação emergencial como a dos pacientes internados com COVID-19 é algo muito complexo:\n",
        "\n",
        "Considerando que a vida de um ser humano está em risco, deve-se tratar o processo de geração do modelo com a maior seriedade possível. \n",
        "\n",
        "2. A qualidade dos dados influencia muito nos possíveis resultados:\n",
        "\n",
        "Todas as etapas do fluxo de vida dos dados são muito importantes nesses casos. \"Desenho experimental\", coleta padronizada, normalização, armazenamento e análise.\n",
        "\n",
        "3. O meu conhecimento perante aos modelos de machine learning, bem como a teoria e a matemática por trás do código foi um grande fator limitante no meu projeto;\n",
        "4. Parte das condutas que tomei foram \"simples demais\" para resolver problemas complexos: undersampling, geração de pacientes fictícios e etc;\n"
      ]
    }
  ]
}